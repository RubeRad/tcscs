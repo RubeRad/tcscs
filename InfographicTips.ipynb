{
 "cells": [
  {
   "cell_type": "code",
   "execution_count": null,
   "metadata": {
    "id": "dqN8q3LXUjew"
   },
   "outputs": [],
   "source": [
    "import matplotlib.pyplot as plt\n",
    "import pandas as pd\n",
    "import seaborn as sns"
   ]
  },
  {
   "cell_type": "markdown",
   "metadata": {
    "id": "SS2l608QUjex"
   },
   "source": [
    "# Cleaning outliers\n",
    "\n",
    "The cars dudes have this problem, maybe you do too?"
   ]
  },
  {
   "cell_type": "code",
   "execution_count": null,
   "metadata": {
    "id": "_s_XA_7hUjey"
   },
   "outputs": [],
   "source": [
    "cars = pd.read_csv('https://corgis-edu.github.io/corgis/datasets/csv/cars/cars.csv')\n",
    "cars"
   ]
  },
  {
   "cell_type": "code",
   "execution_count": null,
   "metadata": {
    "id": "mFTpkvrCUjez"
   },
   "outputs": [],
   "source": [
    "cars.max()"
   ]
  },
  {
   "cell_type": "markdown",
   "metadata": {
    "id": "yGwFWgCoUjez"
   },
   "source": [
    "Max highway mpg 223 !?!?!? That's gotta be a mistake. Here's how to find it..."
   ]
  },
  {
   "cell_type": "code",
   "execution_count": null,
   "metadata": {
    "id": "FQhnXo8BUjez"
   },
   "outputs": [],
   "source": [
    "cars[ cars['Fuel Information.Highway mpg'] > 100 ]"
   ]
  },
  {
   "cell_type": "markdown",
   "metadata": {
    "id": "mQ0pG91MUje0"
   },
   "source": [
    "...and fix it. Using that index right there and the column name, we can reach in and replace it with a reasonable value:"
   ]
  },
  {
   "cell_type": "code",
   "execution_count": null,
   "metadata": {
    "id": "8CO4pSidUje0"
   },
   "outputs": [],
   "source": [
    "cars.at[3686, 'Fuel Information.Highway mpg'] = 23\n",
    "cars['Fuel Information.Highway mpg'].describe()"
   ]
  },
  {
   "cell_type": "markdown",
   "metadata": {
    "id": "8GS8zZlzUje0"
   },
   "source": [
    "But what if there's still a problem in another column? The standard way to deal with everything at once is using 1.5xIQR (Inter-Quartile-Range -- remember the placement of the boxplot whiskers?). As [this stackoverflow answer](https://stackoverflow.com/questions/35827863/remove-outliers-in-pandas-dataframe-using-percentiles) says, 'Use this code and don't waste your time':"
   ]
  },
  {
   "cell_type": "code",
   "execution_count": null,
   "metadata": {
    "id": "oiz6VViEUje1"
   },
   "outputs": [],
   "source": [
    "# Start over with the outlier in again\n",
    "cars = pd.read_csv('https://corgis-edu.github.io/corgis/datasets/csv/cars/cars.csv')\n",
    "Q1 = cars.quantile(0.25)\n",
    "Q3 = cars.quantile(0.75)\n",
    "IQR = Q3-Q1\n",
    "outliers = cars[ ((cars < (Q1 - 1.5 * IQR)) | (cars > (Q3 + 1.5 * IQR))).any(axis=1)]\n",
    "outliers"
   ]
  },
  {
   "cell_type": "code",
   "execution_count": null,
   "metadata": {
    "id": "jXWFpUOUUje1"
   },
   "outputs": [],
   "source": [
    "outliers.max()"
   ]
  },
  {
   "cell_type": "code",
   "execution_count": null,
   "metadata": {
    "id": "WV7dX4gCUje2"
   },
   "outputs": [],
   "source": [
    "# Here's where we strip cars of outliers. Same as before except add a tilde ~\n",
    "cars     = cars[~((cars < (Q1 - 2 * IQR)) | (cars > (Q3 + 2 * IQR))).any(axis=1)]\n",
    "cars.max()"
   ]
  },
  {
   "cell_type": "markdown",
   "metadata": {
    "id": "TSqQxMY2Uje2"
   },
   "source": [
    "This kind of thing might remove more stuff than you want, like all the Bentleys and Lamborghinis etc that have outlier horsepower. You can try increasing 1.5 to maybe 2-3, or maybe just stick with the repair of isolated cells as shown above"
   ]
  },
  {
   "cell_type": "markdown",
   "metadata": {
    "id": "-TDsFli7Uje2"
   },
   "source": [
    "# Setting column names\n",
    "\n",
    "It could be your data has no names on top of the columns, it could be you want to use your own column names which are easier to type:"
   ]
  },
  {
   "cell_type": "code",
   "execution_count": null,
   "metadata": {
    "id": "iPcrmxjwUje3"
   },
   "outputs": [],
   "source": [
    "abalone=pd.read_csv('https://archive.ics.uci.edu/ml/machine-learning-databases/abalone/abalone.data')\n",
    "abalone"
   ]
  },
  {
   "cell_type": "code",
   "execution_count": null,
   "metadata": {
    "id": "7DZi9FpNUje3"
   },
   "outputs": [],
   "source": [
    "colnames=['Sex', 'Length', 'Diameter', 'Height', 'Whole Weight', 'Shucked Weight', 'Viscera Weight', 'Shell Weight', 'Rings']\n",
    "abalone=pd.read_csv('https://archive.ics.uci.edu/ml/machine-learning-databases/abalone/abalone.data', names=colnames)\n",
    "abalone"
   ]
  },
  {
   "cell_type": "markdown",
   "metadata": {
    "id": "NrnRHFpzUje3"
   },
   "source": [
    "# Selecting DataFrame rows based on a condition\n",
    "\n",
    "Certainly everybody will have to do this fundamental pandas operation "
   ]
  },
  {
   "cell_type": "code",
   "execution_count": null,
   "metadata": {
    "id": "dL0GQuvEUje4"
   },
   "outputs": [],
   "source": [
    "abalone['Sex'].value_counts()"
   ]
  },
  {
   "cell_type": "code",
   "execution_count": null,
   "metadata": {
    "id": "2-DAU0K8Uje4"
   },
   "outputs": [],
   "source": [
    "Mab = abalone[ abalone['Sex'] == 'M' ]\n",
    "Mab"
   ]
  },
  {
   "cell_type": "code",
   "execution_count": null,
   "metadata": {
    "id": "4dAddSyPUje4"
   },
   "outputs": [],
   "source": [
    "Fab = abalone[ abalone['Sex'] == 'F' ]\n",
    "Fab"
   ]
  },
  {
   "cell_type": "code",
   "execution_count": null,
   "metadata": {
    "id": "B2p-Ai-IUje4"
   },
   "outputs": [],
   "source": [
    "Iab = abalone[ abalone['Sex'] == 'I' ]\n",
    "Iab"
   ]
  },
  {
   "cell_type": "markdown",
   "metadata": {
    "id": "Jc1n5nUBpUrD"
   },
   "source": [
    "# Control the size of Seaborn catplots\n",
    "\n",
    "This is cramped, and there are a lot of errors about points not fitting"
   ]
  },
  {
   "cell_type": "code",
   "execution_count": null,
   "metadata": {
    "id": "5ey6caBSqacD"
   },
   "outputs": [],
   "source": [
    "sns.catplot(data=abalone, x='Sex', y='Whole Weight', hue='Rings', kind='swarm')"
   ]
  },
  {
   "cell_type": "markdown",
   "metadata": {
    "id": "xh0xU_uAqtK9"
   },
   "source": [
    "sns.catplot() accepts height and aspect arguments. height=8 makes it taller, and aspect=2 makes it twice as wide as tall"
   ]
  },
  {
   "cell_type": "code",
   "execution_count": null,
   "metadata": {
    "id": "W2pFGcZTpajj"
   },
   "outputs": [],
   "source": [
    "sns.catplot(data=abalone, x='Sex', y='Whole Weight', hue='Rings', kind='swarm',  height=8, aspect=2)"
   ]
  },
  {
   "cell_type": "markdown",
   "metadata": {
    "id": "WIa7pSpwUje5"
   },
   "source": [
    "# Grouping rows with common values\n",
    "\n",
    "The electricity dataset has multiple power companies per state. It can be useful to aggregate into a per-state DataFrame"
   ]
  },
  {
   "cell_type": "code",
   "execution_count": null,
   "metadata": {
    "id": "6cYpISIFUje5"
   },
   "outputs": [],
   "source": [
    "elec = pd.read_csv('https://corgis-edu.github.io/corgis/datasets/csv/electricity/electricity.csv')\n",
    "elec"
   ]
  },
  {
   "cell_type": "code",
   "execution_count": null,
   "metadata": {
    "id": "rNhQmWBfUje5"
   },
   "outputs": [],
   "source": [
    "# Sometimes the reasonable way to groupby() is .sum()\n",
    "elecStateSum = elec.groupby('Utility.State').sum()\n",
    "elecStateSum.head()"
   ]
  },
  {
   "cell_type": "code",
   "execution_count": null,
   "metadata": {
    "id": "exnULl7KUje6"
   },
   "outputs": [],
   "source": [
    "# Sometimes (Demand.Summer.Peak ? ) max() may be more appropriate, or maybe sometimes mean()\n",
    "elecStateMax = elec.groupby('Utility.State').max()\n",
    "elecStateMax.head()"
   ]
  },
  {
   "cell_type": "markdown",
   "metadata": {
    "id": "NwlAqqZlUje6"
   },
   "source": [
    "# More complicated grouping\n",
    "\n",
    "There are multiple car makers from the same country, a new column can be put together to create a bulkier grouping than individual manufacturers"
   ]
  },
  {
   "cell_type": "code",
   "execution_count": null,
   "metadata": {
    "id": "LX4FdHX5Uje6"
   },
   "outputs": [],
   "source": [
    "cars['Identification.Make'].value_counts()"
   ]
  },
  {
   "cell_type": "code",
   "execution_count": null,
   "metadata": {
    "id": "YmLxW1YxUje7"
   },
   "outputs": [],
   "source": [
    "# Set this first, EVERYBODY gets other, so after we set a bunch, we can see who we missed\n",
    "cars['Country'] = 'Other'\n",
    "cars['Country'].value_counts()"
   ]
  },
  {
   "cell_type": "code",
   "execution_count": null,
   "metadata": {
    "id": "4a08jEgjUje7"
   },
   "outputs": [],
   "source": [
    "# I put this on multiple lines just so you can see the important parts more clearly\n",
    "cars.loc[ \n",
    "          cars['Identification.Make'].isin( ['Saab', 'Volvo'] ), \n",
    "          'Country' \n",
    "        ] = 'Sweden'"
   ]
  },
  {
   "cell_type": "code",
   "execution_count": null,
   "metadata": {
    "id": "rEGgmQgjUje7"
   },
   "outputs": [],
   "source": [
    "cars.loc[ cars['Identification.Make'].isin( ['Audi', 'BMW', 'Mercedes-Benz', 'Porsche', 'Volkswagen' ] ), 'Country' ] = 'Germany'"
   ]
  },
  {
   "cell_type": "code",
   "execution_count": null,
   "metadata": {
    "id": "6CtKSwZzUje8"
   },
   "outputs": [],
   "source": [
    "cars['Country'].value_counts()"
   ]
  },
  {
   "cell_type": "code",
   "execution_count": null,
   "metadata": {
    "id": "LbRsfgTWUje8"
   },
   "outputs": [],
   "source": [
    "# Check what's left over\n",
    "leftovers = cars[ cars['Country'] == 'Other' ]\n",
    "leftovers['Identification.Make'].value_counts()"
   ]
  },
  {
   "cell_type": "markdown",
   "metadata": {
    "id": "yB2F0-gAUje8"
   },
   "source": [
    "# Making a function to graph lots of stuff"
   ]
  },
  {
   "cell_type": "code",
   "execution_count": null,
   "metadata": {
    "id": "aqWNUfPFUje8"
   },
   "outputs": [],
   "source": [
    "bball = pd.read_csv('https://raw.githubusercontent.com/RubeRad/tcscs/master/Kenpom_cbb_dataALL.csv')\n",
    "bball.head()"
   ]
  },
  {
   "cell_type": "markdown",
   "metadata": {
    "id": "J1RTFreepL1J"
   },
   "source": [
    "I expect this kind of code would get a bit repetitive, and cut&paste is never a good idea"
   ]
  },
  {
   "cell_type": "code",
   "execution_count": null,
   "metadata": {
    "id": "J8QLdeKcUje8"
   },
   "outputs": [],
   "source": [
    "plt.figure()\n",
    "axes=plt.gca()\n",
    "\n",
    "kentacky = bball[ bball['Team'] == 'Kentucky']\n",
    "kx = kentacky['Year']\n",
    "ky = kentacky['AdjO']\n",
    "axes.plot(kx, ky)\n",
    "\n",
    "alababama = bball[ bball['Team'] == 'Alabama']\n",
    "ax = alababama['Year']\n",
    "ay = alababama['AdjO']\n",
    "axes.plot(ax, ay)\n",
    "\n",
    "tennesaw  = bball[ bball['Team'] == 'Tennessee']\n",
    "tx = tennesaw['Year']\n",
    "ty = tennesaw['AdjO']\n",
    "axes.plot(tx, ty)\n",
    "\n",
    "axes.legend(['Kentucky', 'Alabama', 'Tennessee'])\n",
    "\n",
    "plt.show()\n"
   ]
  },
  {
   "cell_type": "markdown",
   "metadata": {
    "id": "SkKP2g0_Uje8"
   },
   "source": [
    "Better to make a function to do this kind of thing generically"
   ]
  },
  {
   "cell_type": "code",
   "execution_count": null,
   "metadata": {
    "id": "DTFugUj8Uje9"
   },
   "outputs": [],
   "source": [
    "def multi_plot(adf,        # a DataFrame\n",
    "               scol_name,  # the name of the column we are selecting rows from\n",
    "               scol_vals,  # the list of values we are selecting; one plot for each\n",
    "               xcol_name,  # the name of the column to use for X in each plot\n",
    "               ycol_name,  # the name of the column to use for Y in each plot\n",
    "               color=None, # if you let this stay None, matplotlib will choose colors\n",
    "               alpha=None, # if you let this stay None, alpha=opacity=1\n",
    "               scatter=False, # default plot (line)\n",
    "               axes=None   # if you don't pass axes in, axes for a new figure will be returned\n",
    "              ):\n",
    "\n",
    "    if axes == None:\n",
    "      plt.figure()\n",
    "      axes=plt.gca() \n",
    "\n",
    "    for val in scol_vals:\n",
    "        # Grab a DataFrame of just the values we want from the selection column\n",
    "        sub_df = adf[ adf[scol_name] == val ]\n",
    "        \n",
    "        # Grab the Series (columns) for X and Y\n",
    "        xs = sub_df[xcol_name]\n",
    "        ys = sub_df[ycol_name]\n",
    "        \n",
    "        # Plot these xs vs ys\n",
    "        if scatter:\n",
    "          axes.scatter(xs, ys, color=color, alpha=alpha)\n",
    "        else:\n",
    "          axes.plot(xs, ys, color=color, alpha=alpha)\n",
    "            \n",
    "    return axes # caller may want to graph more stuff, add titles, mess with range, etc etc\n",
    "    "
   ]
  },
  {
   "cell_type": "code",
   "execution_count": null,
   "metadata": {
    "id": "LK-HkuYJUje9"
   },
   "outputs": [],
   "source": [
    "#good_teams = ['Duke', 'Kentucky','Baylor','Virginia','Gonzaga']\n",
    "axes = multi_plot(bball, 'Team', bball['Team'].unique(), 'Year', 'AdjO', color='gray',   alpha=0.1)\n",
    "axes = multi_plot(bball, 'Team', ['Duke'],               'Year', 'AdjO', color='blue',   axes=axes)\n",
    "axes = multi_plot(bball, 'Team', ['Baylor'],             'Year', 'AdjO', color='yellow', axes=axes)\n",
    "axes = multi_plot(bball, 'Team', ['Virginia'],           'Year', 'AdjO', color='orange', axes=axes)\n",
    "#axes.legend( good_teams )"
   ]
  },
  {
   "cell_type": "code",
   "execution_count": null,
   "metadata": {
    "id": "bODk62PZUje9"
   },
   "outputs": [],
   "source": []
  }
 ],
 "metadata": {
  "colab": {
   "name": "InfographicTips.ipynb",
   "provenance": []
  },
  "kernelspec": {
   "display_name": "Python 3",
   "language": "python",
   "name": "python3"
  },
  "language_info": {
   "codemirror_mode": {
    "name": "ipython",
    "version": 3
   },
   "file_extension": ".py",
   "mimetype": "text/x-python",
   "name": "python",
   "nbconvert_exporter": "python",
   "pygments_lexer": "ipython3",
   "version": "3.8.10"
  }
 },
 "nbformat": 4,
 "nbformat_minor": 1
}
