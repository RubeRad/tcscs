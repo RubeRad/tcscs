{
 "cells": [
  {
   "cell_type": "markdown",
   "id": "669949de",
   "metadata": {
    "colab_type": "text",
    "id": "view-in-github"
   },
   "source": [
    "<a href=\"https://colab.research.google.com/github/RubeRad/tcscs/blob/master/BubbleQuick.ipynb\" target=\"_parent\"><img src=\"https://colab.research.google.com/assets/colab-badge.svg\" alt=\"Open In Colab\"/></a>"
   ]
  },
  {
   "cell_type": "markdown",
   "id": "a6ee2e92",
   "metadata": {
    "id": "a6ee2e92"
   },
   "source": [
    "# CSV Handling with Pandas\n",
    "\n",
    "We have already started to learn about how `matplotlib` can be used to create excellent charts and graphs, but that was using datasets that were small enough to be typed directly into the notebook.\n",
    "\n",
    "`pandas` is an elegant and efficient python module for slurping in arbitrarily large data files, and handling them by column *name* rather than by index *number* (i.e. pandas enables ***Literate Programming***)\n",
    "\n"
   ]
  },
  {
   "cell_type": "code",
   "execution_count": 42,
   "id": "033b3d1b",
   "metadata": {
    "id": "033b3d1b"
   },
   "outputs": [],
   "source": [
    "# As usual, the first step is to import the required python libraries\n",
    "import numpy             as np    # all kinds of numerical and matrix capabilities in here\n",
    "import matplotlib.pyplot as plt   # this is for making charts and graphs\n",
    "import pandas            as pd    # for convenient handling of csv files"
   ]
  },
  {
   "cell_type": "markdown",
   "id": "3defbb83",
   "metadata": {
    "id": "3defbb83"
   },
   "source": [
    "## DataFrames\n",
    "The top-level datatype in pandas is a `DataFrame`. Think of it as one spreadsheet tab from Google Sheets or Microsoft Excel.\n",
    "\n",
    "When you ask `pandas` to read a data file, it returns a `DataFrame` object, so it is conventional to use a variable that has `df` in the name.\n",
    "\n",
    "As usual in a python notebook, if we just mention a variable at the end of a cell, the notebook tries to show it to us. A `DataFrame` can be quite big, so usually it shows just a summary."
   ]
  },
  {
   "cell_type": "code",
   "execution_count": 43,
   "id": "a71a78ea",
   "metadata": {
    "id": "a71a78ea"
   },
   "outputs": [
    {
     "data": {
      "text/html": [
       "<div>\n",
       "<style scoped>\n",
       "    .dataframe tbody tr th:only-of-type {\n",
       "        vertical-align: middle;\n",
       "    }\n",
       "\n",
       "    .dataframe tbody tr th {\n",
       "        vertical-align: top;\n",
       "    }\n",
       "\n",
       "    .dataframe thead th {\n",
       "        text-align: right;\n",
       "    }\n",
       "</style>\n",
       "<table border=\"1\" class=\"dataframe\">\n",
       "  <thead>\n",
       "    <tr style=\"text-align: right;\">\n",
       "      <th></th>\n",
       "      <th>ALGORITHM</th>\n",
       "      <th>NUMBER OF ELEMENTS</th>\n",
       "      <th>NUMBER OF COMPARISONS</th>\n",
       "      <th>NUMBER OF SWAPS</th>\n",
       "    </tr>\n",
       "  </thead>\n",
       "  <tbody>\n",
       "    <tr>\n",
       "      <th>0</th>\n",
       "      <td>QUICK</td>\n",
       "      <td>5</td>\n",
       "      <td>7</td>\n",
       "      <td>6</td>\n",
       "    </tr>\n",
       "    <tr>\n",
       "      <th>1</th>\n",
       "      <td>BUBBLE</td>\n",
       "      <td>5</td>\n",
       "      <td>10</td>\n",
       "      <td>7</td>\n",
       "    </tr>\n",
       "    <tr>\n",
       "      <th>2</th>\n",
       "      <td>QUICK</td>\n",
       "      <td>5</td>\n",
       "      <td>6</td>\n",
       "      <td>5</td>\n",
       "    </tr>\n",
       "    <tr>\n",
       "      <th>3</th>\n",
       "      <td>BUBBLE</td>\n",
       "      <td>5</td>\n",
       "      <td>10</td>\n",
       "      <td>8</td>\n",
       "    </tr>\n",
       "    <tr>\n",
       "      <th>4</th>\n",
       "      <td>BUBBLE</td>\n",
       "      <td>5</td>\n",
       "      <td>10</td>\n",
       "      <td>3</td>\n",
       "    </tr>\n",
       "    <tr>\n",
       "      <th>...</th>\n",
       "      <td>...</td>\n",
       "      <td>...</td>\n",
       "      <td>...</td>\n",
       "      <td>...</td>\n",
       "    </tr>\n",
       "    <tr>\n",
       "      <th>515</th>\n",
       "      <td>QUICK</td>\n",
       "      <td>30</td>\n",
       "      <td>124</td>\n",
       "      <td>121</td>\n",
       "    </tr>\n",
       "    <tr>\n",
       "      <th>516</th>\n",
       "      <td>BUBBLE</td>\n",
       "      <td>30</td>\n",
       "      <td>435</td>\n",
       "      <td>183</td>\n",
       "    </tr>\n",
       "    <tr>\n",
       "      <th>517</th>\n",
       "      <td>QUICK</td>\n",
       "      <td>30</td>\n",
       "      <td>132</td>\n",
       "      <td>130</td>\n",
       "    </tr>\n",
       "    <tr>\n",
       "      <th>518</th>\n",
       "      <td>BUBBLE</td>\n",
       "      <td>30</td>\n",
       "      <td>435</td>\n",
       "      <td>232</td>\n",
       "    </tr>\n",
       "    <tr>\n",
       "      <th>519</th>\n",
       "      <td>QUICK</td>\n",
       "      <td>30</td>\n",
       "      <td>125</td>\n",
       "      <td>125</td>\n",
       "    </tr>\n",
       "  </tbody>\n",
       "</table>\n",
       "<p>520 rows × 4 columns</p>\n",
       "</div>"
      ],
      "text/plain": [
       "    ALGORITHM  NUMBER OF ELEMENTS  NUMBER OF COMPARISONS  NUMBER OF SWAPS\n",
       "0       QUICK                   5                      7                6\n",
       "1      BUBBLE                   5                     10                7\n",
       "2       QUICK                   5                      6                5\n",
       "3      BUBBLE                   5                     10                8\n",
       "4      BUBBLE                   5                     10                3\n",
       "..        ...                 ...                    ...              ...\n",
       "515     QUICK                  30                    124              121\n",
       "516    BUBBLE                  30                    435              183\n",
       "517     QUICK                  30                    132              130\n",
       "518    BUBBLE                  30                    435              232\n",
       "519     QUICK                  30                    125              125\n",
       "\n",
       "[520 rows x 4 columns]"
      ]
     },
     "execution_count": 43,
     "metadata": {},
     "output_type": "execute_result"
    }
   ],
   "source": [
    "# csv = comma-separated-value is the most common/simple type of data file\n",
    "# pandas can even reach out to URLs on the internet to slurp in data\n",
    "df = pd.read_csv('https://raw.githubusercontent.com/RubeRad/tcscs/master/notebooks/BubbleQuick.csv')\n",
    "df"
   ]
  },
  {
   "cell_type": "markdown",
   "id": "efcefb3a",
   "metadata": {
    "id": "efcefb3a"
   },
   "source": [
    "### DataFrames as Objects\n",
    "I said above a `DataFrame` is an *object*. What it means to be an *object* in programming is to not just be a singular piece of data, but to have:\n",
    "* *attributes* or *elements* -- an object is an organized collection of not just one, but many data elements\n",
    "* *methods* or *functions* -- an object knows how to do certain things that are relevant to its nature\n",
    "\n",
    "A simpler way to think of it, an object is a bag of nouns and verbs.\n",
    "\n",
    "And like Plato's idealized concept of chair, the object *per se* is *abstract*. Every *instance* (concrete) of an object type has specific values of its attributes, and behaviors of its methods.\n",
    "\n",
    "For instance, if there were a software object called `Dog`, some of its attributes might be `color`,  or `breed`, and some of its functions might be `speak()`, or `is_hungry()`. A variable `fluffy` that is a Dog object might have attribute values of `color='white'`, `breed='toy pomeranian'`, and its `speak()` method might return `'yip'`. A  variable `spike` that is also a Dog object might have attribute values of `color='black'`, `breed='doberman pinscher'`, and its `speak()` method might return `'GRRR!'`.   (For all dogs, the `is_hungry()` method probably always returns `True`.)\n",
    "\n",
    "In python, you access/reference an attribute of a variable with a certain object type, by stating the name of the variable, then a `.`, then the name of the attribute. Here are a couple of the most interesting *attributes* of every `DataFrame` object:"
   ]
  },
  {
   "cell_type": "code",
   "execution_count": 44,
   "id": "22619b1d",
   "metadata": {
    "id": "22619b1d"
   },
   "outputs": [
    {
     "data": {
      "text/plain": [
       "(520, 4)"
      ]
     },
     "execution_count": 44,
     "metadata": {},
     "output_type": "execute_result"
    }
   ],
   "source": [
    "df.shape    # (rows, columns)"
   ]
  },
  {
   "cell_type": "code",
   "execution_count": 45,
   "id": "3bb351db",
   "metadata": {
    "id": "3bb351db"
   },
   "outputs": [
    {
     "data": {
      "text/plain": [
       "Index(['ALGORITHM', 'NUMBER OF ELEMENTS', 'NUMBER OF COMPARISONS',\n",
       "       'NUMBER OF SWAPS'],\n",
       "      dtype='object')"
      ]
     },
     "execution_count": 45,
     "metadata": {},
     "output_type": "execute_result"
    }
   ],
   "source": [
    "df.columns  # list of names of columns"
   ]
  },
  {
   "cell_type": "markdown",
   "id": "f6f222b2",
   "metadata": {
    "id": "f6f222b2"
   },
   "source": [
    "Methods are not *accessed* or *referenced* as data that merely *is* something, but *invoked*, since they are functions that *do* something. Methods are invoked similarly to referencing attributes, but always with (). Methods can also accept input parameters inside the (), just like the \"`bare functions`\" we have already seen how to make in python with `def`.\n",
    "\n",
    "Here are a few of methods of the DataFrame object:"
   ]
  },
  {
   "cell_type": "code",
   "execution_count": 46,
   "id": "6f723f16",
   "metadata": {
    "id": "6f723f16"
   },
   "outputs": [
    {
     "data": {
      "text/html": [
       "<div>\n",
       "<style scoped>\n",
       "    .dataframe tbody tr th:only-of-type {\n",
       "        vertical-align: middle;\n",
       "    }\n",
       "\n",
       "    .dataframe tbody tr th {\n",
       "        vertical-align: top;\n",
       "    }\n",
       "\n",
       "    .dataframe thead th {\n",
       "        text-align: right;\n",
       "    }\n",
       "</style>\n",
       "<table border=\"1\" class=\"dataframe\">\n",
       "  <thead>\n",
       "    <tr style=\"text-align: right;\">\n",
       "      <th></th>\n",
       "      <th>NUMBER OF ELEMENTS</th>\n",
       "      <th>NUMBER OF COMPARISONS</th>\n",
       "      <th>NUMBER OF SWAPS</th>\n",
       "    </tr>\n",
       "  </thead>\n",
       "  <tbody>\n",
       "    <tr>\n",
       "      <th>count</th>\n",
       "      <td>520.000000</td>\n",
       "      <td>520.000000</td>\n",
       "      <td>520.000000</td>\n",
       "    </tr>\n",
       "    <tr>\n",
       "      <th>mean</th>\n",
       "      <td>17.500000</td>\n",
       "      <td>120.394231</td>\n",
       "      <td>72.838462</td>\n",
       "    </tr>\n",
       "    <tr>\n",
       "      <th>std</th>\n",
       "      <td>7.507222</td>\n",
       "      <td>114.369564</td>\n",
       "      <td>55.452707</td>\n",
       "    </tr>\n",
       "    <tr>\n",
       "      <th>min</th>\n",
       "      <td>5.000000</td>\n",
       "      <td>6.000000</td>\n",
       "      <td>3.000000</td>\n",
       "    </tr>\n",
       "    <tr>\n",
       "      <th>25%</th>\n",
       "      <td>11.000000</td>\n",
       "      <td>36.000000</td>\n",
       "      <td>26.750000</td>\n",
       "    </tr>\n",
       "    <tr>\n",
       "      <th>50%</th>\n",
       "      <td>17.500000</td>\n",
       "      <td>78.000000</td>\n",
       "      <td>59.000000</td>\n",
       "    </tr>\n",
       "    <tr>\n",
       "      <th>75%</th>\n",
       "      <td>24.000000</td>\n",
       "      <td>155.750000</td>\n",
       "      <td>108.000000</td>\n",
       "    </tr>\n",
       "    <tr>\n",
       "      <th>max</th>\n",
       "      <td>30.000000</td>\n",
       "      <td>435.000000</td>\n",
       "      <td>250.000000</td>\n",
       "    </tr>\n",
       "  </tbody>\n",
       "</table>\n",
       "</div>"
      ],
      "text/plain": [
       "       NUMBER OF ELEMENTS  NUMBER OF COMPARISONS  NUMBER OF SWAPS\n",
       "count          520.000000             520.000000       520.000000\n",
       "mean            17.500000             120.394231        72.838462\n",
       "std              7.507222             114.369564        55.452707\n",
       "min              5.000000               6.000000         3.000000\n",
       "25%             11.000000              36.000000        26.750000\n",
       "50%             17.500000              78.000000        59.000000\n",
       "75%             24.000000             155.750000       108.000000\n",
       "max             30.000000             435.000000       250.000000"
      ]
     },
     "execution_count": 46,
     "metadata": {},
     "output_type": "execute_result"
    }
   ],
   "source": [
    "df.describe()    # a statistical description of the contents"
   ]
  },
  {
   "cell_type": "code",
   "execution_count": 47,
   "id": "78dce3f3",
   "metadata": {
    "id": "78dce3f3"
   },
   "outputs": [
    {
     "name": "stdout",
     "output_type": "stream",
     "text": [
      "<class 'pandas.core.frame.DataFrame'>\n",
      "RangeIndex: 520 entries, 0 to 519\n",
      "Data columns (total 4 columns):\n",
      " #   Column                 Non-Null Count  Dtype \n",
      "---  ------                 --------------  ----- \n",
      " 0   ALGORITHM              520 non-null    object\n",
      " 1   NUMBER OF ELEMENTS     520 non-null    int64 \n",
      " 2   NUMBER OF COMPARISONS  520 non-null    int64 \n",
      " 3   NUMBER OF SWAPS        520 non-null    int64 \n",
      "dtypes: int64(3), object(1)\n",
      "memory usage: 16.4+ KB\n"
     ]
    }
   ],
   "source": [
    "df.info()        # a more computer-science kind of description centered on data types and storage"
   ]
  },
  {
   "cell_type": "markdown",
   "id": "4f1349fe",
   "metadata": {
    "id": "4f1349fe"
   },
   "source": [
    "Compare these three ways to print a selection of the data:"
   ]
  },
  {
   "cell_type": "code",
   "execution_count": 48,
   "id": "e8b8394e",
   "metadata": {
    "id": "e8b8394e",
    "scrolled": true
   },
   "outputs": [
    {
     "data": {
      "text/html": [
       "<div>\n",
       "<style scoped>\n",
       "    .dataframe tbody tr th:only-of-type {\n",
       "        vertical-align: middle;\n",
       "    }\n",
       "\n",
       "    .dataframe tbody tr th {\n",
       "        vertical-align: top;\n",
       "    }\n",
       "\n",
       "    .dataframe thead th {\n",
       "        text-align: right;\n",
       "    }\n",
       "</style>\n",
       "<table border=\"1\" class=\"dataframe\">\n",
       "  <thead>\n",
       "    <tr style=\"text-align: right;\">\n",
       "      <th></th>\n",
       "      <th>ALGORITHM</th>\n",
       "      <th>NUMBER OF ELEMENTS</th>\n",
       "      <th>NUMBER OF COMPARISONS</th>\n",
       "      <th>NUMBER OF SWAPS</th>\n",
       "    </tr>\n",
       "  </thead>\n",
       "  <tbody>\n",
       "    <tr>\n",
       "      <th>0</th>\n",
       "      <td>QUICK</td>\n",
       "      <td>5</td>\n",
       "      <td>7</td>\n",
       "      <td>6</td>\n",
       "    </tr>\n",
       "    <tr>\n",
       "      <th>1</th>\n",
       "      <td>BUBBLE</td>\n",
       "      <td>5</td>\n",
       "      <td>10</td>\n",
       "      <td>7</td>\n",
       "    </tr>\n",
       "    <tr>\n",
       "      <th>2</th>\n",
       "      <td>QUICK</td>\n",
       "      <td>5</td>\n",
       "      <td>6</td>\n",
       "      <td>5</td>\n",
       "    </tr>\n",
       "    <tr>\n",
       "      <th>3</th>\n",
       "      <td>BUBBLE</td>\n",
       "      <td>5</td>\n",
       "      <td>10</td>\n",
       "      <td>8</td>\n",
       "    </tr>\n",
       "    <tr>\n",
       "      <th>4</th>\n",
       "      <td>BUBBLE</td>\n",
       "      <td>5</td>\n",
       "      <td>10</td>\n",
       "      <td>3</td>\n",
       "    </tr>\n",
       "  </tbody>\n",
       "</table>\n",
       "</div>"
      ],
      "text/plain": [
       "  ALGORITHM  NUMBER OF ELEMENTS  NUMBER OF COMPARISONS  NUMBER OF SWAPS\n",
       "0     QUICK                   5                      7                6\n",
       "1    BUBBLE                   5                     10                7\n",
       "2     QUICK                   5                      6                5\n",
       "3    BUBBLE                   5                     10                8\n",
       "4    BUBBLE                   5                     10                3"
      ]
     },
     "execution_count": 48,
     "metadata": {},
     "output_type": "execute_result"
    }
   ],
   "source": [
    "df.head()"
   ]
  },
  {
   "cell_type": "code",
   "execution_count": 49,
   "id": "05686c19",
   "metadata": {
    "id": "05686c19"
   },
   "outputs": [
    {
     "data": {
      "text/html": [
       "<div>\n",
       "<style scoped>\n",
       "    .dataframe tbody tr th:only-of-type {\n",
       "        vertical-align: middle;\n",
       "    }\n",
       "\n",
       "    .dataframe tbody tr th {\n",
       "        vertical-align: top;\n",
       "    }\n",
       "\n",
       "    .dataframe thead th {\n",
       "        text-align: right;\n",
       "    }\n",
       "</style>\n",
       "<table border=\"1\" class=\"dataframe\">\n",
       "  <thead>\n",
       "    <tr style=\"text-align: right;\">\n",
       "      <th></th>\n",
       "      <th>ALGORITHM</th>\n",
       "      <th>NUMBER OF ELEMENTS</th>\n",
       "      <th>NUMBER OF COMPARISONS</th>\n",
       "      <th>NUMBER OF SWAPS</th>\n",
       "    </tr>\n",
       "  </thead>\n",
       "  <tbody>\n",
       "    <tr>\n",
       "      <th>515</th>\n",
       "      <td>QUICK</td>\n",
       "      <td>30</td>\n",
       "      <td>124</td>\n",
       "      <td>121</td>\n",
       "    </tr>\n",
       "    <tr>\n",
       "      <th>516</th>\n",
       "      <td>BUBBLE</td>\n",
       "      <td>30</td>\n",
       "      <td>435</td>\n",
       "      <td>183</td>\n",
       "    </tr>\n",
       "    <tr>\n",
       "      <th>517</th>\n",
       "      <td>QUICK</td>\n",
       "      <td>30</td>\n",
       "      <td>132</td>\n",
       "      <td>130</td>\n",
       "    </tr>\n",
       "    <tr>\n",
       "      <th>518</th>\n",
       "      <td>BUBBLE</td>\n",
       "      <td>30</td>\n",
       "      <td>435</td>\n",
       "      <td>232</td>\n",
       "    </tr>\n",
       "    <tr>\n",
       "      <th>519</th>\n",
       "      <td>QUICK</td>\n",
       "      <td>30</td>\n",
       "      <td>125</td>\n",
       "      <td>125</td>\n",
       "    </tr>\n",
       "  </tbody>\n",
       "</table>\n",
       "</div>"
      ],
      "text/plain": [
       "    ALGORITHM  NUMBER OF ELEMENTS  NUMBER OF COMPARISONS  NUMBER OF SWAPS\n",
       "515     QUICK                  30                    124              121\n",
       "516    BUBBLE                  30                    435              183\n",
       "517     QUICK                  30                    132              130\n",
       "518    BUBBLE                  30                    435              232\n",
       "519     QUICK                  30                    125              125"
      ]
     },
     "execution_count": 49,
     "metadata": {},
     "output_type": "execute_result"
    }
   ],
   "source": [
    "df.tail()"
   ]
  },
  {
   "cell_type": "code",
   "execution_count": 50,
   "id": "9de6549b",
   "metadata": {
    "id": "9de6549b"
   },
   "outputs": [
    {
     "data": {
      "text/html": [
       "<div>\n",
       "<style scoped>\n",
       "    .dataframe tbody tr th:only-of-type {\n",
       "        vertical-align: middle;\n",
       "    }\n",
       "\n",
       "    .dataframe tbody tr th {\n",
       "        vertical-align: top;\n",
       "    }\n",
       "\n",
       "    .dataframe thead th {\n",
       "        text-align: right;\n",
       "    }\n",
       "</style>\n",
       "<table border=\"1\" class=\"dataframe\">\n",
       "  <thead>\n",
       "    <tr style=\"text-align: right;\">\n",
       "      <th></th>\n",
       "      <th>ALGORITHM</th>\n",
       "      <th>NUMBER OF ELEMENTS</th>\n",
       "      <th>NUMBER OF COMPARISONS</th>\n",
       "      <th>NUMBER OF SWAPS</th>\n",
       "    </tr>\n",
       "  </thead>\n",
       "  <tbody>\n",
       "    <tr>\n",
       "      <th>0</th>\n",
       "      <td>QUICK</td>\n",
       "      <td>5</td>\n",
       "      <td>7</td>\n",
       "      <td>6</td>\n",
       "    </tr>\n",
       "    <tr>\n",
       "      <th>1</th>\n",
       "      <td>BUBBLE</td>\n",
       "      <td>5</td>\n",
       "      <td>10</td>\n",
       "      <td>7</td>\n",
       "    </tr>\n",
       "    <tr>\n",
       "      <th>2</th>\n",
       "      <td>QUICK</td>\n",
       "      <td>5</td>\n",
       "      <td>6</td>\n",
       "      <td>5</td>\n",
       "    </tr>\n",
       "    <tr>\n",
       "      <th>3</th>\n",
       "      <td>BUBBLE</td>\n",
       "      <td>5</td>\n",
       "      <td>10</td>\n",
       "      <td>8</td>\n",
       "    </tr>\n",
       "    <tr>\n",
       "      <th>4</th>\n",
       "      <td>BUBBLE</td>\n",
       "      <td>5</td>\n",
       "      <td>10</td>\n",
       "      <td>3</td>\n",
       "    </tr>\n",
       "    <tr>\n",
       "      <th>...</th>\n",
       "      <td>...</td>\n",
       "      <td>...</td>\n",
       "      <td>...</td>\n",
       "      <td>...</td>\n",
       "    </tr>\n",
       "    <tr>\n",
       "      <th>515</th>\n",
       "      <td>QUICK</td>\n",
       "      <td>30</td>\n",
       "      <td>124</td>\n",
       "      <td>121</td>\n",
       "    </tr>\n",
       "    <tr>\n",
       "      <th>516</th>\n",
       "      <td>BUBBLE</td>\n",
       "      <td>30</td>\n",
       "      <td>435</td>\n",
       "      <td>183</td>\n",
       "    </tr>\n",
       "    <tr>\n",
       "      <th>517</th>\n",
       "      <td>QUICK</td>\n",
       "      <td>30</td>\n",
       "      <td>132</td>\n",
       "      <td>130</td>\n",
       "    </tr>\n",
       "    <tr>\n",
       "      <th>518</th>\n",
       "      <td>BUBBLE</td>\n",
       "      <td>30</td>\n",
       "      <td>435</td>\n",
       "      <td>232</td>\n",
       "    </tr>\n",
       "    <tr>\n",
       "      <th>519</th>\n",
       "      <td>QUICK</td>\n",
       "      <td>30</td>\n",
       "      <td>125</td>\n",
       "      <td>125</td>\n",
       "    </tr>\n",
       "  </tbody>\n",
       "</table>\n",
       "<p>520 rows × 4 columns</p>\n",
       "</div>"
      ],
      "text/plain": [
       "    ALGORITHM  NUMBER OF ELEMENTS  NUMBER OF COMPARISONS  NUMBER OF SWAPS\n",
       "0       QUICK                   5                      7                6\n",
       "1      BUBBLE                   5                     10                7\n",
       "2       QUICK                   5                      6                5\n",
       "3      BUBBLE                   5                     10                8\n",
       "4      BUBBLE                   5                     10                3\n",
       "..        ...                 ...                    ...              ...\n",
       "515     QUICK                  30                    124              121\n",
       "516    BUBBLE                  30                    435              183\n",
       "517     QUICK                  30                    132              130\n",
       "518    BUBBLE                  30                    435              232\n",
       "519     QUICK                  30                    125              125\n",
       "\n",
       "[520 rows x 4 columns]"
      ]
     },
     "execution_count": 50,
     "metadata": {},
     "output_type": "execute_result"
    }
   ],
   "source": [
    "df"
   ]
  },
  {
   "cell_type": "markdown",
   "id": "31656d25",
   "metadata": {
    "id": "31656d25"
   },
   "source": [
    "As you can see, `head()` and `tail()` default to showing the first/last 5 rows (you can put a different number into the () -- try it!); and just mentioning the `DataFrame` variable does a `head()` and a `tail()` -- all nicely formatted with bold and grey stripes for convenient reading in a Jupyter notebook."
   ]
  },
  {
   "cell_type": "markdown",
   "id": "91c09fa1",
   "metadata": {
    "id": "91c09fa1"
   },
   "source": [
    "## DataFrame columns\n",
    "As we saw above, pandas is aware of the columns of the dataset, by their *names* (the string labels in the top row of the .csv file). You can refer to any particular column using square brackets, like this:"
   ]
  },
  {
   "cell_type": "code",
   "execution_count": 51,
   "id": "166d23f2",
   "metadata": {
    "id": "166d23f2"
   },
   "outputs": [
    {
     "data": {
      "text/plain": [
       "0       QUICK\n",
       "1      BUBBLE\n",
       "2       QUICK\n",
       "3      BUBBLE\n",
       "4      BUBBLE\n",
       "        ...  \n",
       "515     QUICK\n",
       "516    BUBBLE\n",
       "517     QUICK\n",
       "518    BUBBLE\n",
       "519     QUICK\n",
       "Name: ALGORITHM, Length: 520, dtype: object"
      ]
     },
     "execution_count": 51,
     "metadata": {},
     "output_type": "execute_result"
    }
   ],
   "source": [
    "df['ALGORITHM']  # try all the available column names"
   ]
  },
  {
   "cell_type": "markdown",
   "id": "3b2bade6",
   "metadata": {},
   "source": [
    "### Column shorthand\n",
    "Pandas has syntax magic that supports a shorthand notation like this: easier to type and read! More Literate!"
   ]
  },
  {
   "cell_type": "code",
   "execution_count": 54,
   "id": "5f6d3b5a",
   "metadata": {},
   "outputs": [
    {
     "data": {
      "text/plain": [
       "0       QUICK\n",
       "1      BUBBLE\n",
       "2       QUICK\n",
       "3      BUBBLE\n",
       "4      BUBBLE\n",
       "        ...  \n",
       "515     QUICK\n",
       "516    BUBBLE\n",
       "517     QUICK\n",
       "518    BUBBLE\n",
       "519     QUICK\n",
       "Name: ALGORITHM, Length: 520, dtype: object"
      ]
     },
     "execution_count": 54,
     "metadata": {},
     "output_type": "execute_result"
    }
   ],
   "source": [
    "df.ALGORITHM  # try all the available column names"
   ]
  },
  {
   "cell_type": "markdown",
   "id": "c9dae54e",
   "metadata": {},
   "source": [
    "The catch on that shorthand is, it doesn't work if the column names have spaces. But, column headers can be changed. Here's how:\n"
   ]
  },
  {
   "cell_type": "code",
   "execution_count": 59,
   "id": "c4812b92",
   "metadata": {},
   "outputs": [
    {
     "data": {
      "text/html": [
       "<div>\n",
       "<style scoped>\n",
       "    .dataframe tbody tr th:only-of-type {\n",
       "        vertical-align: middle;\n",
       "    }\n",
       "\n",
       "    .dataframe tbody tr th {\n",
       "        vertical-align: top;\n",
       "    }\n",
       "\n",
       "    .dataframe thead th {\n",
       "        text-align: right;\n",
       "    }\n",
       "</style>\n",
       "<table border=\"1\" class=\"dataframe\">\n",
       "  <thead>\n",
       "    <tr style=\"text-align: right;\">\n",
       "      <th></th>\n",
       "      <th>ALG</th>\n",
       "      <th>N</th>\n",
       "      <th>COMPS</th>\n",
       "      <th>SWAPS</th>\n",
       "    </tr>\n",
       "  </thead>\n",
       "  <tbody>\n",
       "    <tr>\n",
       "      <th>0</th>\n",
       "      <td>QUICK</td>\n",
       "      <td>5</td>\n",
       "      <td>7</td>\n",
       "      <td>6</td>\n",
       "    </tr>\n",
       "    <tr>\n",
       "      <th>1</th>\n",
       "      <td>BUBBLE</td>\n",
       "      <td>5</td>\n",
       "      <td>10</td>\n",
       "      <td>7</td>\n",
       "    </tr>\n",
       "    <tr>\n",
       "      <th>2</th>\n",
       "      <td>QUICK</td>\n",
       "      <td>5</td>\n",
       "      <td>6</td>\n",
       "      <td>5</td>\n",
       "    </tr>\n",
       "    <tr>\n",
       "      <th>3</th>\n",
       "      <td>BUBBLE</td>\n",
       "      <td>5</td>\n",
       "      <td>10</td>\n",
       "      <td>8</td>\n",
       "    </tr>\n",
       "    <tr>\n",
       "      <th>4</th>\n",
       "      <td>BUBBLE</td>\n",
       "      <td>5</td>\n",
       "      <td>10</td>\n",
       "      <td>3</td>\n",
       "    </tr>\n",
       "    <tr>\n",
       "      <th>...</th>\n",
       "      <td>...</td>\n",
       "      <td>...</td>\n",
       "      <td>...</td>\n",
       "      <td>...</td>\n",
       "    </tr>\n",
       "    <tr>\n",
       "      <th>515</th>\n",
       "      <td>QUICK</td>\n",
       "      <td>30</td>\n",
       "      <td>124</td>\n",
       "      <td>121</td>\n",
       "    </tr>\n",
       "    <tr>\n",
       "      <th>516</th>\n",
       "      <td>BUBBLE</td>\n",
       "      <td>30</td>\n",
       "      <td>435</td>\n",
       "      <td>183</td>\n",
       "    </tr>\n",
       "    <tr>\n",
       "      <th>517</th>\n",
       "      <td>QUICK</td>\n",
       "      <td>30</td>\n",
       "      <td>132</td>\n",
       "      <td>130</td>\n",
       "    </tr>\n",
       "    <tr>\n",
       "      <th>518</th>\n",
       "      <td>BUBBLE</td>\n",
       "      <td>30</td>\n",
       "      <td>435</td>\n",
       "      <td>232</td>\n",
       "    </tr>\n",
       "    <tr>\n",
       "      <th>519</th>\n",
       "      <td>QUICK</td>\n",
       "      <td>30</td>\n",
       "      <td>125</td>\n",
       "      <td>125</td>\n",
       "    </tr>\n",
       "  </tbody>\n",
       "</table>\n",
       "<p>520 rows × 4 columns</p>\n",
       "</div>"
      ],
      "text/plain": [
       "        ALG   N  COMPS  SWAPS\n",
       "0     QUICK   5      7      6\n",
       "1    BUBBLE   5     10      7\n",
       "2     QUICK   5      6      5\n",
       "3    BUBBLE   5     10      8\n",
       "4    BUBBLE   5     10      3\n",
       "..      ...  ..    ...    ...\n",
       "515   QUICK  30    124    121\n",
       "516  BUBBLE  30    435    183\n",
       "517   QUICK  30    132    130\n",
       "518  BUBBLE  30    435    232\n",
       "519   QUICK  30    125    125\n",
       "\n",
       "[520 rows x 4 columns]"
      ]
     },
     "execution_count": 59,
     "metadata": {},
     "output_type": "execute_result"
    }
   ],
   "source": [
    "coldict = {'ALGORITHM'             : 'ALG',\n",
    "           'NUMBER OF ELEMENTS'    : 'N',\n",
    "           'NUMBER OF COMPARISONS' : 'COMPS',\n",
    "           'NUMBER OF SWAPS'       : 'SWAPS' }\n",
    "df.rename(columns=coldict, inplace=True)\n",
    "df"
   ]
  },
  {
   "cell_type": "markdown",
   "id": "7f3190e3",
   "metadata": {
    "id": "7f3190e3"
   },
   "source": [
    "A `DataFrame` column is also an object (technically the name of the object is `Series`, but since you find the names of the `Series` with the `DataFrame` attribute `columns`, we'll just call them columns). As an object, a column also has some useful methods. `describe()`, invoked on a column, behaves analogously to being invoked on a whole `DataFrame`:"
   ]
  },
  {
   "cell_type": "code",
   "execution_count": 60,
   "id": "43062229",
   "metadata": {},
   "outputs": [
    {
     "data": {
      "text/plain": [
       "0       QUICK\n",
       "1      BUBBLE\n",
       "2       QUICK\n",
       "3      BUBBLE\n",
       "4      BUBBLE\n",
       "        ...  \n",
       "515     QUICK\n",
       "516    BUBBLE\n",
       "517     QUICK\n",
       "518    BUBBLE\n",
       "519     QUICK\n",
       "Name: ALG, Length: 520, dtype: object"
      ]
     },
     "execution_count": 60,
     "metadata": {},
     "output_type": "execute_result"
    }
   ],
   "source": [
    "# Now try it again with all the new compact column names\n",
    "df.ALG"
   ]
  },
  {
   "cell_type": "code",
   "execution_count": 61,
   "id": "4adb52a0",
   "metadata": {
    "id": "4adb52a0"
   },
   "outputs": [
    {
     "data": {
      "text/plain": [
       "count        520\n",
       "unique         2\n",
       "top       BUBBLE\n",
       "freq         270\n",
       "Name: ALG, dtype: object"
      ]
     },
     "execution_count": 61,
     "metadata": {},
     "output_type": "execute_result"
    }
   ],
   "source": [
    "df.ALG.describe()  # try all the column names"
   ]
  },
  {
   "cell_type": "markdown",
   "id": "75d55986",
   "metadata": {
    "id": "75d55986"
   },
   "source": [
    "Another very useful method available for column objects is `value_counts()` -- what is that explaining about the data?"
   ]
  },
  {
   "cell_type": "code",
   "execution_count": 62,
   "id": "ff3917ec",
   "metadata": {
    "id": "ff3917ec"
   },
   "outputs": [
    {
     "data": {
      "text/plain": [
       "BUBBLE    270\n",
       "QUICK     250\n",
       "Name: ALG, dtype: int64"
      ]
     },
     "execution_count": 62,
     "metadata": {},
     "output_type": "execute_result"
    }
   ],
   "source": [
    "df.ALG.value_counts() # try all the column names. When is value_counts() more/less useful?"
   ]
  },
  {
   "cell_type": "markdown",
   "id": "3bafabe4",
   "metadata": {
    "id": "3bafabe4"
   },
   "source": [
    "## DataFrame column combination\n",
    "One of the elementary uses for a spreadsheet is to populating a new column using cell formulas to combine columns that already exist. Analogously, pandas makes it very easy to create new columns from previous.\n",
    "\n",
    "Derived columns will appear in the list of columns like the ones read from the raw data, and have all the same methods available."
   ]
  },
  {
   "cell_type": "code",
   "execution_count": 63,
   "id": "6c7aa90e",
   "metadata": {
    "id": "6c7aa90e"
   },
   "outputs": [],
   "source": [
    "# OPS is the column we really care most about!\n",
    "df['OPS'] = df.COMPS + df.SWAPS # NOTE: column 'ops' doesn't exist yet so we can't use the shortcut"
   ]
  },
  {
   "cell_type": "code",
   "execution_count": 64,
   "id": "e0ef8a5e",
   "metadata": {
    "id": "e0ef8a5e"
   },
   "outputs": [
    {
     "data": {
      "text/plain": [
       "Index(['ALG', 'N', 'COMPS', 'SWAPS', 'OPS'], dtype='object')"
      ]
     },
     "execution_count": 64,
     "metadata": {},
     "output_type": "execute_result"
    }
   ],
   "source": [
    "df.columns"
   ]
  },
  {
   "cell_type": "code",
   "execution_count": 65,
   "id": "39fa6077",
   "metadata": {
    "id": "39fa6077"
   },
   "outputs": [
    {
     "data": {
      "text/html": [
       "<div>\n",
       "<style scoped>\n",
       "    .dataframe tbody tr th:only-of-type {\n",
       "        vertical-align: middle;\n",
       "    }\n",
       "\n",
       "    .dataframe tbody tr th {\n",
       "        vertical-align: top;\n",
       "    }\n",
       "\n",
       "    .dataframe thead th {\n",
       "        text-align: right;\n",
       "    }\n",
       "</style>\n",
       "<table border=\"1\" class=\"dataframe\">\n",
       "  <thead>\n",
       "    <tr style=\"text-align: right;\">\n",
       "      <th></th>\n",
       "      <th>ALG</th>\n",
       "      <th>N</th>\n",
       "      <th>COMPS</th>\n",
       "      <th>SWAPS</th>\n",
       "      <th>OPS</th>\n",
       "    </tr>\n",
       "  </thead>\n",
       "  <tbody>\n",
       "    <tr>\n",
       "      <th>0</th>\n",
       "      <td>QUICK</td>\n",
       "      <td>5</td>\n",
       "      <td>7</td>\n",
       "      <td>6</td>\n",
       "      <td>13</td>\n",
       "    </tr>\n",
       "    <tr>\n",
       "      <th>1</th>\n",
       "      <td>BUBBLE</td>\n",
       "      <td>5</td>\n",
       "      <td>10</td>\n",
       "      <td>7</td>\n",
       "      <td>17</td>\n",
       "    </tr>\n",
       "    <tr>\n",
       "      <th>2</th>\n",
       "      <td>QUICK</td>\n",
       "      <td>5</td>\n",
       "      <td>6</td>\n",
       "      <td>5</td>\n",
       "      <td>11</td>\n",
       "    </tr>\n",
       "    <tr>\n",
       "      <th>3</th>\n",
       "      <td>BUBBLE</td>\n",
       "      <td>5</td>\n",
       "      <td>10</td>\n",
       "      <td>8</td>\n",
       "      <td>18</td>\n",
       "    </tr>\n",
       "    <tr>\n",
       "      <th>4</th>\n",
       "      <td>BUBBLE</td>\n",
       "      <td>5</td>\n",
       "      <td>10</td>\n",
       "      <td>3</td>\n",
       "      <td>13</td>\n",
       "    </tr>\n",
       "  </tbody>\n",
       "</table>\n",
       "</div>"
      ],
      "text/plain": [
       "      ALG  N  COMPS  SWAPS  OPS\n",
       "0   QUICK  5      7      6   13\n",
       "1  BUBBLE  5     10      7   17\n",
       "2   QUICK  5      6      5   11\n",
       "3  BUBBLE  5     10      8   18\n",
       "4  BUBBLE  5     10      3   13"
      ]
     },
     "execution_count": 65,
     "metadata": {},
     "output_type": "execute_result"
    }
   ],
   "source": [
    "df.head()"
   ]
  },
  {
   "cell_type": "code",
   "execution_count": 67,
   "id": "b713bb90",
   "metadata": {
    "id": "b713bb90"
   },
   "outputs": [
    {
     "data": {
      "text/plain": [
       "count    520.000000\n",
       "mean     193.232692\n",
       "std      166.653997\n",
       "min       10.000000\n",
       "25%       63.000000\n",
       "50%      146.000000\n",
       "75%      264.500000\n",
       "max      671.000000\n",
       "Name: OPS, dtype: float64"
      ]
     },
     "execution_count": 67,
     "metadata": {},
     "output_type": "execute_result"
    }
   ],
   "source": [
    "# Now that 'ops' is a column name (without spaces), shortcut use is available!!\n",
    "df.OPS.describe()"
   ]
  },
  {
   "cell_type": "code",
   "execution_count": 68,
   "id": "2c6c3b0c",
   "metadata": {
    "id": "2c6c3b0c"
   },
   "outputs": [
    {
     "data": {
      "text/plain": [
       "84     6\n",
       "16     5\n",
       "25     5\n",
       "23     5\n",
       "76     5\n",
       "      ..\n",
       "301    1\n",
       "343    1\n",
       "334    1\n",
       "353    1\n",
       "250    1\n",
       "Name: OPS, Length: 313, dtype: int64"
      ]
     },
     "execution_count": 68,
     "metadata": {},
     "output_type": "execute_result"
    }
   ],
   "source": [
    "df.OPS.value_counts()"
   ]
  },
  {
   "cell_type": "markdown",
   "id": "b7e912fb",
   "metadata": {
    "id": "b7e912fb"
   },
   "source": [
    "## DataFrame rows and slicing\n",
    "Perhaps the most powerful and flexible aspect of pandas is the ability to *slice* the data, allowing you to select any subset of the data you want to deal with.\n",
    "\n",
    "Recall that `==` is asking a *question*. Before executing this next cell, consider, what would expect to be the answer to the question?"
   ]
  },
  {
   "cell_type": "code",
   "execution_count": 69,
   "id": "3293b18e",
   "metadata": {
    "id": "3293b18e"
   },
   "outputs": [
    {
     "data": {
      "text/plain": [
       "0      False\n",
       "1       True\n",
       "2      False\n",
       "3       True\n",
       "4       True\n",
       "       ...  \n",
       "515    False\n",
       "516     True\n",
       "517    False\n",
       "518     True\n",
       "519    False\n",
       "Name: ALG, Length: 520, dtype: bool"
      ]
     },
     "execution_count": 69,
     "metadata": {},
     "output_type": "execute_result"
    }
   ],
   "source": [
    "df.ALG == 'BUBBLE' # == is always a question. \n",
    "# What is it asking?\n",
    "# What does the answer mean?"
   ]
  },
  {
   "cell_type": "markdown",
   "id": "5acd00d6",
   "metadata": {
    "id": "5acd00d6"
   },
   "source": [
    "What is the size of that thing which is the answer to the question? What does it mean?\n",
    "\n",
    "We can catch the answer to the question in a variable. And then we can give that variable to the `DataFrame` object.\n",
    "\n",
    "Pandas is clever enough to understand that, when we use square brackets to give it a single string, we want that column. But if we give it a list of booleans that is the same length as the number of rows of data, it will line up the Trues/Falses with the rows, and give us back just the rows that are True."
   ]
  },
  {
   "cell_type": "code",
   "execution_count": 70,
   "id": "b000668d",
   "metadata": {
    "id": "b000668d"
   },
   "outputs": [],
   "source": [
    "# We can catch the answer to the question in a variable\n",
    "bubblerows = (df.ALG=='BUBBLE')"
   ]
  },
  {
   "cell_type": "code",
   "execution_count": 71,
   "id": "e2117c11",
   "metadata": {
    "id": "e2117c11"
   },
   "outputs": [
    {
     "data": {
      "text/html": [
       "<div>\n",
       "<style scoped>\n",
       "    .dataframe tbody tr th:only-of-type {\n",
       "        vertical-align: middle;\n",
       "    }\n",
       "\n",
       "    .dataframe tbody tr th {\n",
       "        vertical-align: top;\n",
       "    }\n",
       "\n",
       "    .dataframe thead th {\n",
       "        text-align: right;\n",
       "    }\n",
       "</style>\n",
       "<table border=\"1\" class=\"dataframe\">\n",
       "  <thead>\n",
       "    <tr style=\"text-align: right;\">\n",
       "      <th></th>\n",
       "      <th>ALG</th>\n",
       "      <th>N</th>\n",
       "      <th>COMPS</th>\n",
       "      <th>SWAPS</th>\n",
       "      <th>OPS</th>\n",
       "    </tr>\n",
       "  </thead>\n",
       "  <tbody>\n",
       "    <tr>\n",
       "      <th>1</th>\n",
       "      <td>BUBBLE</td>\n",
       "      <td>5</td>\n",
       "      <td>10</td>\n",
       "      <td>7</td>\n",
       "      <td>17</td>\n",
       "    </tr>\n",
       "    <tr>\n",
       "      <th>3</th>\n",
       "      <td>BUBBLE</td>\n",
       "      <td>5</td>\n",
       "      <td>10</td>\n",
       "      <td>8</td>\n",
       "      <td>18</td>\n",
       "    </tr>\n",
       "    <tr>\n",
       "      <th>4</th>\n",
       "      <td>BUBBLE</td>\n",
       "      <td>5</td>\n",
       "      <td>10</td>\n",
       "      <td>3</td>\n",
       "      <td>13</td>\n",
       "    </tr>\n",
       "    <tr>\n",
       "      <th>5</th>\n",
       "      <td>BUBBLE</td>\n",
       "      <td>5</td>\n",
       "      <td>10</td>\n",
       "      <td>5</td>\n",
       "      <td>15</td>\n",
       "    </tr>\n",
       "    <tr>\n",
       "      <th>6</th>\n",
       "      <td>BUBBLE</td>\n",
       "      <td>5</td>\n",
       "      <td>10</td>\n",
       "      <td>6</td>\n",
       "      <td>16</td>\n",
       "    </tr>\n",
       "    <tr>\n",
       "      <th>...</th>\n",
       "      <td>...</td>\n",
       "      <td>...</td>\n",
       "      <td>...</td>\n",
       "      <td>...</td>\n",
       "      <td>...</td>\n",
       "    </tr>\n",
       "    <tr>\n",
       "      <th>512</th>\n",
       "      <td>BUBBLE</td>\n",
       "      <td>30</td>\n",
       "      <td>435</td>\n",
       "      <td>199</td>\n",
       "      <td>634</td>\n",
       "    </tr>\n",
       "    <tr>\n",
       "      <th>513</th>\n",
       "      <td>BUBBLE</td>\n",
       "      <td>30</td>\n",
       "      <td>435</td>\n",
       "      <td>188</td>\n",
       "      <td>623</td>\n",
       "    </tr>\n",
       "    <tr>\n",
       "      <th>514</th>\n",
       "      <td>BUBBLE</td>\n",
       "      <td>30</td>\n",
       "      <td>435</td>\n",
       "      <td>181</td>\n",
       "      <td>616</td>\n",
       "    </tr>\n",
       "    <tr>\n",
       "      <th>516</th>\n",
       "      <td>BUBBLE</td>\n",
       "      <td>30</td>\n",
       "      <td>435</td>\n",
       "      <td>183</td>\n",
       "      <td>618</td>\n",
       "    </tr>\n",
       "    <tr>\n",
       "      <th>518</th>\n",
       "      <td>BUBBLE</td>\n",
       "      <td>30</td>\n",
       "      <td>435</td>\n",
       "      <td>232</td>\n",
       "      <td>667</td>\n",
       "    </tr>\n",
       "  </tbody>\n",
       "</table>\n",
       "<p>270 rows × 5 columns</p>\n",
       "</div>"
      ],
      "text/plain": [
       "        ALG   N  COMPS  SWAPS  OPS\n",
       "1    BUBBLE   5     10      7   17\n",
       "3    BUBBLE   5     10      8   18\n",
       "4    BUBBLE   5     10      3   13\n",
       "5    BUBBLE   5     10      5   15\n",
       "6    BUBBLE   5     10      6   16\n",
       "..      ...  ..    ...    ...  ...\n",
       "512  BUBBLE  30    435    199  634\n",
       "513  BUBBLE  30    435    188  623\n",
       "514  BUBBLE  30    435    181  616\n",
       "516  BUBBLE  30    435    183  618\n",
       "518  BUBBLE  30    435    232  667\n",
       "\n",
       "[270 rows x 5 columns]"
      ]
     },
     "execution_count": 71,
     "metadata": {},
     "output_type": "execute_result"
    }
   ],
   "source": [
    "df[bubblerows]"
   ]
  },
  {
   "cell_type": "markdown",
   "id": "e087fb31",
   "metadata": {
    "id": "e087fb31"
   },
   "source": [
    "When pandas gives us back the selected rows (the requested 'slice' of the data), it gives us back another `DataFrame` object, and we can hold that sliced `DataFrame` in another variable."
   ]
  },
  {
   "cell_type": "code",
   "execution_count": 72,
   "id": "bb5ff8d0",
   "metadata": {
    "id": "bb5ff8d0"
   },
   "outputs": [],
   "source": [
    "df_bubble = df[bubblerows]"
   ]
  },
  {
   "cell_type": "code",
   "execution_count": 73,
   "id": "8653ec5b",
   "metadata": {
    "id": "8653ec5b"
   },
   "outputs": [],
   "source": [
    "# Use this cell to examine the sliced DataFrame df_bubble\n",
    "# in all the ways we learned about up top with the full DataFrame df\n",
    "\n",
    "\n"
   ]
  },
  {
   "cell_type": "markdown",
   "id": "d4ea953c",
   "metadata": {
    "id": "d4ea953c"
   },
   "source": [
    "This slicing operation can also be done in a single python statement, like below. This is very common pattern, examine it closely and expect to do it a lot."
   ]
  },
  {
   "cell_type": "code",
   "execution_count": 77,
   "id": "bc23b229",
   "metadata": {
    "id": "bc23b229"
   },
   "outputs": [],
   "source": [
    "# notice this:   vvvvvvvvvvvvvvvvvv\n",
    "df_bubble = df[  df.ALG == 'BUBBLE'  ]\n",
    "# is the same as what we saved off into variable \"bubblerows\"\n",
    "# This time, we just wrap that with df[  ]\n",
    "# We get to skip a step, and one less variable hanging around\n",
    "# (and one less variable we need to think of a Literate Programming name for)"
   ]
  },
  {
   "cell_type": "code",
   "execution_count": 78,
   "id": "805da88d",
   "metadata": {
    "id": "805da88d"
   },
   "outputs": [],
   "source": [
    "# In this cell, create a DataFrame slice df_quick to go with df_bubble\n",
    "\n"
   ]
  },
  {
   "cell_type": "markdown",
   "id": "75e8d122",
   "metadata": {
    "id": "75e8d122"
   },
   "source": [
    "Since `df_bubble` and `df_quick` are also `DataFrame` objects, they can also create new columns by combining other columns.\n",
    "\n",
    "Recall that, for Bubble Sort, the expected number of total operations is `1.5*COMPS` (why?). So let's make a column `EXP` so we can compare it to the actual number of operations in column `OPS`."
   ]
  },
  {
   "cell_type": "code",
   "execution_count": 79,
   "id": "55612ea6",
   "metadata": {},
   "outputs": [
    {
     "name": "stderr",
     "output_type": "stream",
     "text": [
      "/tmp/ipykernel_31828/922331059.py:1: SettingWithCopyWarning: \n",
      "A value is trying to be set on a copy of a slice from a DataFrame.\n",
      "Try using .loc[row_indexer,col_indexer] = value instead\n",
      "\n",
      "See the caveats in the documentation: https://pandas.pydata.org/pandas-docs/stable/user_guide/indexing.html#returning-a-view-versus-a-copy\n",
      "  df_bubble['EXP'] = df_bubble.COMPS * 1.5\n"
     ]
    }
   ],
   "source": [
    "df_bubble['EXP'] = df_bubble.COMPS * 1.5"
   ]
  },
  {
   "cell_type": "markdown",
   "id": "7375aafa",
   "metadata": {
    "id": "bbe11aa3"
   },
   "source": [
    "Oopx! What happened there?\n",
    "\n",
    "A slice is not (normally) a separate copy of the data. To avoid wasting memory, when pandas gives a slice `DataFrame`, it is like a lens or a prism, that sees just the right part of the original data.\n",
    "\n",
    "When we try to create a new column in the *slice*, pandas says \"Wait a minute, how am I supposed to deal with this back in the original full `DataFrame`? If there's a new column EXP for everybody, what am I supposed to do for EXP on all the rows that are not in this slice?\n",
    "\n",
    "There are multiple ways to deal with this, but for now we'll take the easy road and just go ahead and be wasteful of memory. \n",
    "\n",
    "Go back up to the two cells that create the `df_bubble` and `df_quick` slices, and add a `.copy()` on the end.\n",
    "\n",
    "After `df_bubble` has its EXP column defined, use the next cell to calculate EXP appropriately for `df_quick`:"
   ]
  },
  {
   "cell_type": "code",
   "execution_count": 80,
   "id": "459459bf",
   "metadata": {
    "id": "459459bf"
   },
   "outputs": [],
   "source": [
    "# What is the EXPected number of QuickSort operations for N cards?\n",
    "# Hint: numpy offers a log-base-2 function called np.log2()\n",
    "\n",
    "\n"
   ]
  },
  {
   "cell_type": "markdown",
   "id": "caf34e07",
   "metadata": {
    "id": "caf34e07"
   },
   "source": [
    "## Pandas and Matplotlib -- a match made in heaven!\n",
    "Here's the main point. `pandas` columns can be handed over to `matplotlib` to be either the x's or y's for data series to `plot()`!"
   ]
  },
  {
   "cell_type": "code",
   "execution_count": 82,
   "id": "005b2fb7",
   "metadata": {
    "id": "005b2fb7"
   },
   "outputs": [
    {
     "ename": "NameError",
     "evalue": "name 'df_quick' is not defined",
     "output_type": "error",
     "traceback": [
      "\u001b[0;31m---------------------------------------------------------------------------\u001b[0m",
      "\u001b[0;31mNameError\u001b[0m                                 Traceback (most recent call last)",
      "Cell \u001b[0;32mIn[82], line 4\u001b[0m\n\u001b[1;32m      2\u001b[0m ax \u001b[38;5;241m=\u001b[39m plt\u001b[38;5;241m.\u001b[39mgca()\n\u001b[1;32m      3\u001b[0m ax\u001b[38;5;241m.\u001b[39mplot(df_bubble\u001b[38;5;241m.\u001b[39mN, df_bubble\u001b[38;5;241m.\u001b[39mOPS)\n\u001b[0;32m----> 4\u001b[0m ax\u001b[38;5;241m.\u001b[39mplot(\u001b[43mdf_quick\u001b[49m\u001b[38;5;241m.\u001b[39mN,  df_quick\u001b[38;5;241m.\u001b[39mOPS)\n\u001b[1;32m      5\u001b[0m \u001b[38;5;66;03m# plot both 'EXP' series as well!\u001b[39;00m\n",
      "\u001b[0;31mNameError\u001b[0m: name 'df_quick' is not defined"
     ]
    },
    {
     "data": {
      "image/png": "[encoded data removed]",
      "text/plain": [
       "<Figure size 640x480 with 1 Axes>"
      ]
     },
     "metadata": {},
     "output_type": "display_data"
    }
   ],
   "source": [
    "plt.figure()\n",
    "ax = plt.gca()\n",
    "ax.plot(df_bubble.N, df_bubble.OPS)\n",
    "ax.plot(df_quick.N,  df_quick.OPS)\n",
    "# plot both 'EXP' series as well!\n"
   ]
  },
  {
   "cell_type": "markdown",
   "id": "0268627e",
   "metadata": {
    "id": "0268627e"
   },
   "source": [
    "# Homework\n",
    "\n",
    "## Exercise I: Matplotlib styling review\n",
    "Finish the ugly graph above:\n",
    "* Add the EXPected series\n",
    "* Rock the matplotlib styling to make it an excellent graph\n",
    "  * (Feel free to refer back to the MatplotlibIntro notebook)\n"
   ]
  },
  {
   "cell_type": "markdown",
   "id": "bef42581",
   "metadata": {
    "id": "bef42581"
   },
   "source": [
    "## Exercise II: Practice with slicing and plotting\n",
    "\n",
    "\n",
    "In code cells below, do the following:\n",
    "1. Make a slice of all the quicksort rows with N between 15 and 25\n",
    "   1. Make a plot of x=N,y=OPS from the slice.\n",
    "1. Make a slice of `df` (the original full `DataFrame`) of rows with OPS between 100 and 200. \n",
    "   1. Make a plot of N,OPS from the slice.\n",
    "1. Make a new column in the original `df` called `SWAPS_PER_COMP` (df.SWAPS divided by df.COMPS)\n",
    "   1. Or if you want, more concisely named `SPC`? \n",
    "   1. Recreate the df_bubble/df_quick slices (unfortunately, new columns added to the original `DataFrame` do not magically show up in `df_bubble` and `df_quick`). \n",
    "   1. Make a plot x=df.N and two data series, SWAPS_PER_COMP for bubblesort vs quicksort.\n",
    "1. Make a plot of df_bubble actual vs expected, with different colors for points above/below the line:\n",
    "   1. Make a slice from `df_bubble` for which OPS is less than EXP\n",
    "   1. Make another slice for which OPS is more than EXP. \n",
    "   1. Make a plot with three series: EXPected line from `df_bubble`, and the under/over slices\n",
    "\n",
    "Notes:\n",
    "1. Above, we sliced `df` using `==` on the text-valued column `ALG`. In these exercises you will be slicing based on columns with numerical data, using comparators like `<` or `>=`. You will also need to use the logical operator `and`.\n",
    "1. For each of these, you should think of a concise but not confusing variable name for the slice\n",
    "1. None of these plots need to be pretty, just make sure they are scatter or line as appropriate.\n",
    "\n"
   ]
  },
  {
   "cell_type": "code",
   "execution_count": 83,
   "id": "43dc1611",
   "metadata": {
    "id": "43dc1611"
   },
   "outputs": [
    {
     "ename": "NameError",
     "evalue": "name 'df_quick' is not defined",
     "output_type": "error",
     "traceback": [
      "\u001b[0;31m---------------------------------------------------------------------------\u001b[0m",
      "\u001b[0;31mNameError\u001b[0m                                 Traceback (most recent call last)",
      "Cell \u001b[0;32mIn[83], line 2\u001b[0m\n\u001b[1;32m      1\u001b[0m \u001b[38;5;66;03m# HWII.1 could start by slicing a slice, like this:\u001b[39;00m\n\u001b[0;32m----> 2\u001b[0m dfq_ge_15 \u001b[38;5;241m=\u001b[39m  \u001b[43mdf_quick\u001b[49m[  df_quick\u001b[38;5;241m.\u001b[39mN \u001b[38;5;241m>\u001b[39m\u001b[38;5;241m=\u001b[39m \u001b[38;5;241m15\u001b[39m ]\n\u001b[1;32m      3\u001b[0m dfq_15_25 \u001b[38;5;241m=\u001b[39m dfq_ge_15[ dfq_ge_15\u001b[38;5;241m.\u001b[39mN \u001b[38;5;241m<\u001b[39m\u001b[38;5;241m=\u001b[39m \u001b[38;5;241m25\u001b[39m ]\n\u001b[1;32m      5\u001b[0m \u001b[38;5;66;03m# But here's how to slice with multiple conditions in one step\u001b[39;00m\n\u001b[1;32m      6\u001b[0m \u001b[38;5;66;03m# The () are very important! If you wanted OR instead of AND it would be | instead of &\u001b[39;00m\n",
      "\u001b[0;31mNameError\u001b[0m: name 'df_quick' is not defined"
     ]
    }
   ],
   "source": [
    "# HWII.1 could start by slicing a slice, like this:\n",
    "dfq_ge_15 =  df_quick[  df_quick.N >= 15 ]\n",
    "dfq_15_25 = dfq_ge_15[ dfq_ge_15.N <= 25 ]\n",
    "\n",
    "# But here's how to slice with multiple conditions in one step\n",
    "# The () are very important! If you wanted OR instead of AND it would be | instead of &\n",
    "df_q_15_25 = df_quick[  (df_quick.N >= 15) & (df_quick.N <= 25)  ]"
   ]
  },
  {
   "cell_type": "code",
   "execution_count": null,
   "id": "c0d6f5ee",
   "metadata": {},
   "outputs": [],
   "source": []
  }
 ],
 "metadata": {
  "colab": {
   "include_colab_link": true,
   "provenance": []
  },
  "kernelspec": {
   "display_name": "Python 3 (ipykernel)",
   "language": "python",
   "name": "python3"
  },
  "language_info": {
   "codemirror_mode": {
    "name": "ipython",
    "version": 3
   },
   "file_extension": ".py",
   "mimetype": "text/x-python",
   "name": "python",
   "nbconvert_exporter": "python",
   "pygments_lexer": "ipython3",
   "version": "3.10.12"
  }
 },
 "nbformat": 4,
 "nbformat_minor": 5
}
