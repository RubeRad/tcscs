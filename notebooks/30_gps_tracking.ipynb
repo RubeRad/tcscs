{
 "cells": [
  {
   "cell_type": "markdown",
   "id": "76c26048",
   "metadata": {},
   "source": [
    "[<img src=\"https://colab.research.google.com/assets/colab-badge.svg\" />](https://colab.research.google.com/github/RubeRad/tcscs/blob/master/notebooks/30_gps_tracking.ipynb)"
   ]
  },
  {
   "cell_type": "markdown",
   "id": "74b17f09",
   "metadata": {},
   "source": [
    "# Analyzing GPS tracking data\n",
    "\n",
    "Recall the New York Times article series, [*One Nation, Tracked*](https://www.nytimes.com/interactive/2019/12/19/opinion/location-tracking-cell-phone.html). We're going to do some investigative sleuthing of our own, using some GPS track data (voluntarily submitted by willing participants).  [This full dataset](https://www.microsoft.com/en-us/download/details.aspx?id=52367) from Microsoft Research contains about 25M GPS points with IDs and timestamps, in cities around the world. I've selected a subset in one particular city."
   ]
  },
  {
   "cell_type": "markdown",
   "id": "9aad1c85",
   "metadata": {},
   "source": [
    "# Looking at the dataset\n",
    "\n",
    "Load the dataset into a pandas DataFrame, and probe it to get some initial understanding"
   ]
  },
  {
   "cell_type": "code",
   "execution_count": null,
   "id": "ac81f1f9",
   "metadata": {},
   "outputs": [],
   "source": [
    "import numpy             as np\n",
    "import matplotlib.pyplot as plt\n",
    "import pandas            as pd"
   ]
  },
  {
   "cell_type": "code",
   "execution_count": null,
   "id": "b357f47f",
   "metadata": {},
   "outputs": [],
   "source": [
    "# We name this DataFrame dfall, because we're going to be filtering it down later\n",
    "dfall = pd.read_csv('https://raw.githubusercontent.com/RubeRad/tcscs/master/notebooks/tracks.csv')\n",
    "dfall"
   ]
  },
  {
   "cell_type": "code",
   "execution_count": null,
   "id": "1a0e7838",
   "metadata": {},
   "outputs": [],
   "source": [
    "dfall.describe()"
   ]
  },
  {
   "cell_type": "code",
   "execution_count": null,
   "id": "31f0b161",
   "metadata": {},
   "outputs": [],
   "source": [
    "# LONGITUDE=East/West=X \n",
    "# LATITUDE=North/South=Y\n",
    "plt.plot(dfall.LON, dfall.LAT)"
   ]
  },
  {
   "cell_type": "markdown",
   "id": "6c3095c6",
   "metadata": {},
   "source": [
    "## Exercise\n",
    "\n",
    "* How much data is there?\n",
    "* What time span does the data cover?\n",
    "* Since 1deg$\\approx$100km (thus 0.00001deg$\\approx$1m), what geographic extent is the dataset?\n",
    "* What city is this?"
   ]
  },
  {
   "cell_type": "markdown",
   "id": "64f9f4db",
   "metadata": {},
   "source": [
    "As loaded, the LAT, LON columns are numerical. This creates a new column called 'LATLON' which smushes them together as strings with N and W. We'll use this in a minute..."
   ]
  },
  {
   "cell_type": "code",
   "execution_count": null,
   "id": "58a6e961",
   "metadata": {},
   "outputs": [],
   "source": [
    "dfall['LATLON'] = dfall.LAT.astype(str) + 'N ' + (abs(dfall.LON)).astype(str) + 'W'\n",
    "dfall"
   ]
  },
  {
   "cell_type": "markdown",
   "id": "d9c46806",
   "metadata": {},
   "source": [
    "# Plotting the individuals separately\n",
    "\n",
    "All that mess plotted above is as if the GPS tracks came from just one person. We can use the ID to separate per-person track data"
   ]
  },
  {
   "cell_type": "code",
   "execution_count": null,
   "id": "bdb1d061",
   "metadata": {},
   "outputs": [],
   "source": [
    "dfall.ID.value_counts()"
   ]
  },
  {
   "cell_type": "code",
   "execution_count": null,
   "id": "193a0faa",
   "metadata": {},
   "outputs": [],
   "source": [
    "ids = dfall.ID.unique()\n",
    "len(ids)"
   ]
  },
  {
   "cell_type": "markdown",
   "id": "666446a2",
   "metadata": {},
   "source": [
    "Now that we have a list of all the unique IDs, we can make a loop that filters the DataFrame down to just one ID at a time, and plot them separately"
   ]
  },
  {
   "cell_type": "code",
   "execution_count": null,
   "id": "7f61bbe7",
   "metadata": {},
   "outputs": [],
   "source": [
    "fig = plt.figure()\n",
    "ax  = fig.add_subplot()\n",
    "\n",
    "for idx,id in enumerate(ids):\n",
    "    dfid = dfall[ dfall.ID==id ]            # filter for this ID\n",
    "    lbl = '{}={}'.format(idx,id)            # make a label for the legend\n",
    "    ax.plot(dfid.LON, dfid.LAT, label=lbl)  # plot (rotate through colors automatically)\n",
    "\n",
    "ax.legend()"
   ]
  },
  {
   "cell_type": "markdown",
   "id": "be5ce2ad",
   "metadata": {},
   "source": [
    "## Exercise\n",
    "\n",
    "Do these things to make this plot more readable:\n",
    "\n",
    "* Adjust the `figsize`\n",
    "* `ax.set_aspect('equal')` (because it's a map, we don't want it squished)\n",
    "* `ax.set_xlim(  ,  )`     (make room for the legend)"
   ]
  },
  {
   "cell_type": "markdown",
   "id": "09783345",
   "metadata": {},
   "source": [
    "# Inspect a particular track\n",
    "\n",
    "The map above of everybody's tracks might help choose a particular track to look at in isolation. Let's just start with the first one."
   ]
  },
  {
   "cell_type": "code",
   "execution_count": null,
   "id": "ffb5dc64",
   "metadata": {},
   "outputs": [],
   "source": [
    "id = ids[0]\n",
    "id"
   ]
  },
  {
   "cell_type": "code",
   "execution_count": null,
   "id": "1da10e36",
   "metadata": {},
   "outputs": [],
   "source": [
    "dfid = dfall[ dfall.ID==id ]\n",
    "dfid"
   ]
  },
  {
   "cell_type": "code",
   "execution_count": null,
   "id": "8decdf45",
   "metadata": {},
   "outputs": [],
   "source": [
    "fig = plt.figure(figsize=(12,12))\n",
    "ax  = fig.add_subplot()\n",
    "\n",
    "# this is so LAT/LON are proportional like a map\n",
    "ax.set_aspect('equal')\n",
    "# this makes sure matplotlib doesn't put the X axis in scientific notation\n",
    "ax.ticklabel_format(useOffset=False, style='plain')\n",
    "# this rotates the longitudes so they don't write on top of each other\n",
    "plt.setp(ax.get_xticklabels(), rotation=30, horizontalalignment='right')\n",
    "\n",
    "ax.plot(dfid.LON, dfid.LAT)"
   ]
  },
  {
   "cell_type": "code",
   "execution_count": null,
   "id": "52b54aea",
   "metadata": {},
   "outputs": [],
   "source": [
    "dfid.LAT.describe()"
   ]
  },
  {
   "cell_type": "code",
   "execution_count": null,
   "id": "67d05a2f",
   "metadata": {},
   "outputs": [],
   "source": [
    "dfid.LON.describe()"
   ]
  },
  {
   "cell_type": "markdown",
   "id": "db345da0",
   "metadata": {},
   "source": [
    "## Exercise\n",
    "\n",
    "* When/where does this person start/end their day (track)?\n",
    "* About how far apart are the start/end points? (1deg$\\approx$100km; 0.00001deg$\\approx$1m)\n",
    "* Where are the start/end points on the plot?\n",
    "* About how big is the total extent of the track?\n",
    "* Go to Google Maps, and plot directions from the first LATLON to the last LATLON\n"
   ]
  },
  {
   "cell_type": "markdown",
   "id": "f3c3ad87",
   "metadata": {},
   "source": [
    "## Identifying extreme points of the track"
   ]
  },
  {
   "cell_type": "markdown",
   "id": "993cb1de",
   "metadata": {},
   "source": [
    "What's that spike on the West side? `dfid.LON.describe()` says the minimum LON is -122.143624"
   ]
  },
  {
   "cell_type": "code",
   "execution_count": null,
   "id": "7f92e19f",
   "metadata": {},
   "outputs": [],
   "source": [
    "# It might work to filter for ==-122.143624 exactly, \n",
    "# but just in case of rounding error...\n",
    "dfid[ dfid.LON<-122.14362 ]"
   ]
  },
  {
   "cell_type": "markdown",
   "id": "1e3dc09d",
   "metadata": {},
   "source": [
    "Where's that southernmost bump?"
   ]
  },
  {
   "cell_type": "code",
   "execution_count": null,
   "id": "e39491c3",
   "metadata": {},
   "outputs": [],
   "source": [
    "dfid[ dfid.LAT<47.62793 ]"
   ]
  },
  {
   "cell_type": "markdown",
   "id": "eced1213",
   "metadata": {},
   "source": [
    "## Exercise\n",
    "\n",
    "* Add those two LATLON to the Google Map directions\n",
    "* Check the DATETIME, make sure they are in the right order\n",
    "* How far apart are those two trackpoints in space?\n",
    "* How far apart are those two trackpoints in time?\n",
    "* What is the likely mode of travel?"
   ]
  },
  {
   "cell_type": "markdown",
   "id": "a6e9b00e",
   "metadata": {},
   "source": [
    "## Identifying other parts of the track\n",
    "\n",
    "Let's pull out that knob at the NW corner, as distinct from the two other knobs at that maximum latitude, which are further east."
   ]
  },
  {
   "cell_type": "code",
   "execution_count": null,
   "id": "06304b69",
   "metadata": {},
   "outputs": [],
   "source": [
    "# parentheses are critically important here\n",
    "knob = dfid[ (dfid.LON>-122.1425) & (dfid.LON<-122.1415) & (dfid.LAT>47.6325)]\n",
    "knob"
   ]
  },
  {
   "cell_type": "code",
   "execution_count": null,
   "id": "f0ed4dc0",
   "metadata": {},
   "outputs": [],
   "source": [
    "knob.describe()"
   ]
  },
  {
   "cell_type": "code",
   "execution_count": null,
   "id": "dcf8656e",
   "metadata": {},
   "outputs": [],
   "source": [
    "knob[ knob.LAT > 47.63289 ]"
   ]
  },
  {
   "cell_type": "markdown",
   "id": "7c57c69b",
   "metadata": {},
   "source": [
    "## Exercise\n",
    "\n",
    "* Paste this LATLON also into the Google Map directions, in proper sequence"
   ]
  },
  {
   "cell_type": "markdown",
   "id": "86010940",
   "metadata": {},
   "source": [
    "# Homework\n",
    "\n",
    "Select a different ID, and repeat the exercises above\n",
    "\n",
    "* Create a map of their track\n",
    "* Identify the start and end points\n",
    "* Choose and isolate at least two other points of interest from somewhere in the middle of their track\n",
    "* Build up GoogleMap directions for the start/selected/end points -- in chronological order\n",
    "* Describe whatever kind of inferences we can make from this data:\n",
    "  * What this person was doing?\n",
    "  * Where do they live?\n",
    "  * Where do they work?\n",
    "  * Where do they shop?\n",
    "  * How fast are they moving?\n",
    "  * What is their mode of transport?\n",
    "  * etc."
   ]
  },
  {
   "cell_type": "code",
   "execution_count": null,
   "id": "d74352fd",
   "metadata": {},
   "outputs": [],
   "source": []
  }
 ],
 "metadata": {
  "kernelspec": {
   "display_name": "Python 3 (ipykernel)",
   "language": "python",
   "name": "python3"
  },
  "language_info": {
   "codemirror_mode": {
    "name": "ipython",
    "version": 3
   },
   "file_extension": ".py",
   "mimetype": "text/x-python",
   "name": "python",
   "nbconvert_exporter": "python",
   "pygments_lexer": "ipython3",
   "version": "3.10.12"
  }
 },
 "nbformat": 4,
 "nbformat_minor": 5
}
