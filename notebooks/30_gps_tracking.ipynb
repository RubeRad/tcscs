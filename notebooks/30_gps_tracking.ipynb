{
 "cells": [
  {
   "cell_type": "markdown",
   "id": "395a9160",
   "metadata": {},
   "source": [
    "[<img src=\"https://colab.research.google.com/assets/colab-badge.svg\" />](https://colab.research.google.com/github/RubeRad/tcscs/blob/master/notebooks/30_gps_tracking.ipynb)"
   ]
  },
  {
   "cell_type": "markdown",
   "id": "298e63ef",
   "metadata": {},
   "source": [
    "# Analyzing GPS tracking data\n",
    "\n",
    "The New York Times article series, [*One Nation, Tracked*](https://www.nytimes.com/interactive/2019/12/19/opinion/location-tracking-cell-phone.html) showed how easy it is to identified individuals from their smartphone GPS tracks -- and how GPS tracks cannot be \"anonymized\" simply by omitting names:\n",
    "\n",
    "<blockquote>In most cases, ascertaining a home location and an office location was enough to identify a person. Consider your daily commute: Would any other smartphone travel directly between your house and your office every day?\n",
    "\n",
    "Describing location data as anonymous is “a completely false claim” that has been debunked in multiple studies, Paul Ohm, a law professor and privacy researcher at the Georgetown University Law Center, told us. “Really precise, longitudinal geolocation information is absolutely impossible to anonymize.”\n",
    "\n",
    "“D.N.A.,” he added, “is probably the only thing that’s harder to anonymize than precise geolocation information.”</blockquote>\n",
    "\n",
    "We're going to do some investigative sleuthing of our own, using some GPS track data (voluntarily submitted by willing participants).  [This full dataset](https://www.microsoft.com/en-us/download/details.aspx?id=52367) from Microsoft Research contains about 25M GPS points with IDs and timestamps, in cities around the world. I've selected a subset in one particular city."
   ]
  },
  {
   "cell_type": "markdown",
   "id": "c88f5a99",
   "metadata": {},
   "source": [
    "# Looking at the dataset\n",
    "\n",
    "Load the dataset into a pandas DataFrame, and probe it to get some initial understanding"
   ]
  },
  {
   "cell_type": "code",
   "execution_count": null,
   "id": "fc0ffb0d",
   "metadata": {},
   "outputs": [],
   "source": [
    "import numpy             as np\n",
    "import matplotlib.pyplot as plt\n",
    "import pandas            as pd"
   ]
  },
  {
   "cell_type": "code",
   "execution_count": null,
   "id": "c8865ddc",
   "metadata": {},
   "outputs": [],
   "source": [
    "# We name this DataFrame dfall, because we're going to be filtering it down later\n",
    "dfall = pd.read_csv('https://raw.githubusercontent.com/RubeRad/tcscs/master/notebooks/tracks.csv')\n",
    "dfall"
   ]
  },
  {
   "cell_type": "code",
   "execution_count": null,
   "id": "c33ec346",
   "metadata": {},
   "outputs": [],
   "source": [
    "dfall.describe()"
   ]
  },
  {
   "cell_type": "code",
   "execution_count": null,
   "id": "ccc06d8e",
   "metadata": {},
   "outputs": [],
   "source": [
    "# LONgitude =  East/West  = X \n",
    "# LATitude  = North/South = Y\n",
    "plt.plot(dfall.LON, dfall.LAT)"
   ]
  },
  {
   "cell_type": "markdown",
   "id": "796c9d3e",
   "metadata": {},
   "source": [
    "## Exercise\n",
    "\n",
    "* How much data is there?\n",
    "* What time span does the data cover?\n",
    "* Since 1deg$\\approx$100km (thus 1m$\\approx$0.00001deg), what geographic extent is the dataset?\n",
    "* What city is this?"
   ]
  },
  {
   "cell_type": "markdown",
   "id": "9097e307",
   "metadata": {},
   "source": [
    "As loaded, the LAT, LON columns are numerical. This creates a new column called 'LATLON' which smushes them together as strings with 'N' and 'W'. We'll use this in a minute..."
   ]
  },
  {
   "cell_type": "code",
   "execution_count": null,
   "id": "c137dfe8",
   "metadata": {},
   "outputs": [],
   "source": [
    "dfall['LATLON'] = dfall.LAT.astype(str) + 'N ' + (abs(dfall.LON)).astype(str) + 'W'\n",
    "dfall"
   ]
  },
  {
   "cell_type": "markdown",
   "id": "7a6fdb7a",
   "metadata": {},
   "source": [
    "# Plotting the individuals separately\n",
    "\n",
    "All that mess plotted above is as if the GPS tracks came from just one person. We can use the ID to separate per-person track data"
   ]
  },
  {
   "cell_type": "code",
   "execution_count": null,
   "id": "41f25920",
   "metadata": {},
   "outputs": [],
   "source": [
    "dfall.ID.value_counts()"
   ]
  },
  {
   "cell_type": "code",
   "execution_count": null,
   "id": "93c3e583",
   "metadata": {},
   "outputs": [],
   "source": [
    "ids = dfall.ID.unique()\n",
    "len(ids)"
   ]
  },
  {
   "cell_type": "markdown",
   "id": "e85dc5da",
   "metadata": {},
   "source": [
    "Now that we have a list of all the unique IDs, we can make a loop that filters the DataFrame down to just one ID at a time, and plot them separately"
   ]
  },
  {
   "cell_type": "code",
   "execution_count": null,
   "id": "934d600d",
   "metadata": {},
   "outputs": [],
   "source": [
    "fig = plt.figure()\n",
    "ax  = fig.add_subplot()\n",
    "\n",
    "for idx,id in enumerate(ids):\n",
    "    dfid = dfall[ dfall.ID==id ]            # filter for this ID\n",
    "    lbl = '{}={}'.format(idx,id)            # make a label for the legend\n",
    "    ax.plot(dfid.LON, dfid.LAT, label=lbl)  # plot (rotate through colors automatically)\n",
    "\n",
    "ax.legend()"
   ]
  },
  {
   "cell_type": "markdown",
   "id": "3c0d2c4e",
   "metadata": {},
   "source": [
    "## Exercise\n",
    "\n",
    "Do these things to make this plot more readable:\n",
    "\n",
    "* Adjust the `figsize`\n",
    "* `ax.set_aspect('equal')` (because it's a map, we don't want it squished)\n",
    "* `ax.set_xlim(  ,  )`     (make room for the legend)"
   ]
  },
  {
   "cell_type": "markdown",
   "id": "f7389fa2",
   "metadata": {},
   "source": [
    "# Inspect a particular track\n",
    "\n",
    "The map above of everybody's tracks might help choose a particular track to look at in isolation. Let's just start with the first one."
   ]
  },
  {
   "cell_type": "code",
   "execution_count": null,
   "id": "8259c5a4",
   "metadata": {},
   "outputs": [],
   "source": [
    "id = ids[0]\n",
    "id"
   ]
  },
  {
   "cell_type": "code",
   "execution_count": null,
   "id": "d9e22532",
   "metadata": {},
   "outputs": [],
   "source": [
    "dfid = dfall[ dfall.ID==id ]\n",
    "dfid"
   ]
  },
  {
   "cell_type": "code",
   "execution_count": null,
   "id": "f42fb149",
   "metadata": {},
   "outputs": [],
   "source": [
    "fig = plt.figure(figsize=(12,12))\n",
    "ax  = fig.add_subplot()\n",
    "\n",
    "# this is so LAT/LON are proportional like a map\n",
    "#ax.set_aspect('equal')\n",
    "# this makes sure matplotlib doesn't put the X axis in scientific notation\n",
    "#ax.ticklabel_format(useOffset=False, style='plain')\n",
    "# this rotates the longitudes so they don't write on top of each other\n",
    "#plt.setp(ax.get_xticklabels(), rotation=30, horizontalalignment='right')\n",
    "\n",
    "ax.plot(dfid.LON, dfid.LAT)"
   ]
  },
  {
   "cell_type": "code",
   "execution_count": null,
   "id": "1d74f2f6",
   "metadata": {},
   "outputs": [],
   "source": [
    "dfid.LAT.describe()"
   ]
  },
  {
   "cell_type": "code",
   "execution_count": null,
   "id": "4bcf6cf8",
   "metadata": {},
   "outputs": [],
   "source": [
    "dfid.LON.describe()"
   ]
  },
  {
   "cell_type": "markdown",
   "id": "4c802c44",
   "metadata": {},
   "source": [
    "## Exercise\n",
    "\n",
    "* When/where does this person start/end their day (track)?\n",
    "* About how far apart are the start/end points? (1deg$\\approx$100km; 1m$\\approx$0.00001deg)\n",
    "* Where are the start/end points on the plot?\n",
    "* About how big is the total extent of the track?\n",
    "* Go to Google Maps, and plot directions from the first LATLON to the last LATLON\n"
   ]
  },
  {
   "cell_type": "markdown",
   "id": "89adc980",
   "metadata": {},
   "source": [
    "## Identifying extreme points of the track"
   ]
  },
  {
   "cell_type": "markdown",
   "id": "a74242e9",
   "metadata": {},
   "source": [
    "What's that spike on the West side? `dfid.LON.describe()` says the minimum LON is -122.143624"
   ]
  },
  {
   "cell_type": "code",
   "execution_count": null,
   "id": "e35f78a9",
   "metadata": {},
   "outputs": [],
   "source": [
    "# It might work to filter for ==-122.143624 exactly, \n",
    "# but just in case of rounding error...\n",
    "dfid[ dfid.LON<-122.14362 ]"
   ]
  },
  {
   "cell_type": "markdown",
   "id": "4dd9f94e",
   "metadata": {},
   "source": [
    "Where's that southernmost bump?"
   ]
  },
  {
   "cell_type": "code",
   "execution_count": null,
   "id": "5609606f",
   "metadata": {},
   "outputs": [],
   "source": [
    "dfid[ dfid.LAT<47.62793 ]"
   ]
  },
  {
   "cell_type": "markdown",
   "id": "e1fe64af",
   "metadata": {},
   "source": [
    "## Exercise\n",
    "\n",
    "* Add those two LATLON to the Google Map directions\n",
    "* Check the DATETIME, make sure they are in the right order\n",
    "* How far apart are those two trackpoints in space?\n",
    "* How far apart are those two trackpoints in time?\n",
    "* What is the likely mode of travel?"
   ]
  },
  {
   "cell_type": "markdown",
   "id": "d84719d5",
   "metadata": {},
   "source": [
    "## Identifying other parts of the track\n",
    "\n",
    "Let's pull out that knob at the NW corner, as distinct from the two other knobs at that maximum latitude, which are further east."
   ]
  },
  {
   "cell_type": "code",
   "execution_count": null,
   "id": "0cd65af1",
   "metadata": {},
   "outputs": [],
   "source": [
    "# parentheses are critically important here\n",
    "knob = dfid[ (dfid.LAT>47.6325) & (dfid.LON>-122.1425) & (dfid.LON<-122.1415) ]\n",
    "knob"
   ]
  },
  {
   "cell_type": "code",
   "execution_count": null,
   "id": "ebc1a58d",
   "metadata": {},
   "outputs": [],
   "source": [
    "knob.describe()"
   ]
  },
  {
   "cell_type": "code",
   "execution_count": null,
   "id": "f5c98085",
   "metadata": {},
   "outputs": [],
   "source": [
    "knob[ knob.LAT > 47.63289 ]"
   ]
  },
  {
   "cell_type": "markdown",
   "id": "fcc33b26",
   "metadata": {},
   "source": [
    "## Exercise\n",
    "\n",
    "* Paste this LATLON also into the Google Map directions, in proper sequence"
   ]
  },
  {
   "cell_type": "markdown",
   "id": "9173a8d2",
   "metadata": {},
   "source": [
    "# Homework\n",
    "\n",
    "Select a different ID, and repeat the exercises above\n",
    "\n",
    "* Create a map of their track\n",
    "* Identify the start and end points\n",
    "* Choose and isolate at least two other points of interest from somewhere in the middle of their track\n",
    "* Build up GoogleMap directions for the start/selected/end points -- in chronological order\n",
    "* Conclude with one or more markup cells that escribe whatever kind of inferences we can make from this data:\n",
    "  * What this person was doing?\n",
    "  * Where do they live? work? shop? eat? recreate?\n",
    "  * How fast are they moving? What is their mode of transport?\n",
    "  * etc\n",
    "  * Include a link to the URL of the GoogleMap directions"
   ]
  },
  {
   "cell_type": "code",
   "execution_count": null,
   "id": "8ad9409f",
   "metadata": {},
   "outputs": [],
   "source": []
  }
 ],
 "metadata": {
  "kernelspec": {
   "display_name": "Python 3 (ipykernel)",
   "language": "python",
   "name": "python3"
  },
  "language_info": {
   "codemirror_mode": {
    "name": "ipython",
    "version": 3
   },
   "file_extension": ".py",
   "mimetype": "text/x-python",
   "name": "python",
   "nbconvert_exporter": "python",
   "pygments_lexer": "ipython3",
   "version": "3.10.12"
  }
 },
 "nbformat": 4,
 "nbformat_minor": 5
}
