{
 "cells": [
  {
   "cell_type": "markdown",
   "metadata": {
    "colab_type": "text",
    "id": "view-in-github"
   },
   "source": [
    "<a href=\"https://colab.research.google.com/github/RubeRad/tcscs/blob/master/notebooks/10_MatplotlibIntro.ipynb\" target=\"_parent\"><img src=\"https://colab.research.google.com/assets/colab-badge.svg\" alt=\"Open In Colab\"/></a>"
   ]
  },
  {
   "cell_type": "markdown",
   "metadata": {},
   "source": [
    "# Introduction to Python, Jupyter, and Matplotlib\n",
    "This is a Jupyter Python notebook, which is a collection of cells. Each cell is either of type 'markdown' (formatted text, like this cell) or code (python, grey background). The two most important rules of Jupyter Notebooks are:\n",
    "1. ***SHIFT-ENTER*** will cause the current cell to execute. \n",
    "  - For Markdown cells, 'execute' means render the formatting. ([Here's a markdown cheatsheet](https://sqlbak.com/blog/wp-content/uploads/2020/04/Jupyter-Notebook-Markdown-Cheatsheet.pdf))\n",
    "  - For Code cells, 'execute' means run the python.\n",
    "  - Some Code cells take a while to execute, watch for the * to change to a number\n",
    "1. Any cell can be edited (double-click into it) and re-executed (SHIFT-ENTER again).\n",
    "--- \n",
    "The first code in any Python script/Jupyter notebook, needs to import any libraries that will be used. The `as` directives allow specification of nicknames that are more convenient to type."
   ]
  },
  {
   "cell_type": "code",
   "execution_count": null,
   "metadata": {},
   "outputs": [],
   "source": [
    "# In Python, anything after a hash is a comment, ignored as code, but for the benefit of the reader\n",
    "\n",
    "import numpy             as np    # all kinds of numerical and matrix capabilities in here\n",
    "import matplotlib.pyplot as plt   # this is for making charts and graphs"
   ]
  },
  {
   "cell_type": "markdown",
   "metadata": {},
   "source": [
    "The cell below creates a variable `exes` and puts a list of numbers into it. The syntax (punctuation) is very important to get right. This is equivalent to 'Make a variable' named `exes` in Snap! and then `(set exes to (list ...))`"
   ]
  },
  {
   "cell_type": "code",
   "execution_count": null,
   "metadata": {},
   "outputs": [],
   "source": [
    "exes = [10, 8, 13, 9, 11, 14, 6, 4, 12, 7, 5]"
   ]
  },
  {
   "cell_type": "markdown",
   "metadata": {},
   "source": [
    "One thing you can do it Jupyter Notebooks that you can't do in regular Python scripts (programs), is to just mention something at the end of a code cell, which is a request for the notebook to display it."
   ]
  },
  {
   "cell_type": "code",
   "execution_count": null,
   "metadata": {},
   "outputs": [],
   "source": [
    "exes"
   ]
  },
  {
   "cell_type": "markdown",
   "metadata": {},
   "source": [
    "Python has a function called `len()`, which unsurprisingly returns the length of a list (just like in the Snap! Variables palette there's a `(length of list)` block -- *all programming languages are essentially the same like this*)"
   ]
  },
  {
   "cell_type": "code",
   "execution_count": null,
   "metadata": {},
   "outputs": [],
   "source": [
    "len(exes)"
   ]
  },
  {
   "cell_type": "markdown",
   "metadata": {},
   "source": [
    "Double-click into this next cell and change the index to different values to see what happens. Can you break it? What happens with negative indices?"
   ]
  },
  {
   "cell_type": "code",
   "execution_count": null,
   "metadata": {},
   "outputs": [],
   "source": [
    "exes[0]"
   ]
  },
  {
   "cell_type": "code",
   "execution_count": null,
   "metadata": {},
   "outputs": [],
   "source": [
    "wise = [8.04, 6.95, 7.58, 8.81, 8.33, 9.96, 7.24, 4.26, 10.84, 4.82, 5.68]"
   ]
  },
  {
   "cell_type": "code",
   "execution_count": null,
   "metadata": {},
   "outputs": [],
   "source": [
    "wise"
   ]
  },
  {
   "cell_type": "markdown",
   "metadata": {},
   "source": [
    "Now that we have (***matching-length***) exes and wise to graph, we can use matplotlib to graph them. Here's probably the simplest possible graph."
   ]
  },
  {
   "cell_type": "code",
   "execution_count": null,
   "metadata": {},
   "outputs": [],
   "source": [
    "plt.plot(exes,wise)"
   ]
  },
  {
   "cell_type": "markdown",
   "metadata": {},
   "source": [
    "That may work for a quick peek at what's going on with the data, but in order to access the full power of matplotlib, you'll need to get used to the fuller form, that doesn't hide so many details:"
   ]
  },
  {
   "cell_type": "code",
   "execution_count": null,
   "metadata": {
    "scrolled": true
   },
   "outputs": [],
   "source": [
    "fig = plt.figure()       # The 'Figure' is the whole thing, one figure may have multiple subplots\n",
    "ax  = fig.add_subplot()  # The 'Axes' is the handle for graphing in any one subplot\n",
    "ax.plot(exes, wise)      # plot() makes an X/Y plot; there's also scatter(), bar(), but we'll focus on plot()"
   ]
  },
  {
   "cell_type": "markdown",
   "metadata": {},
   "source": [
    "Since that data series is not ordered, and the lines detract from the information rather than add, let's get a look at some of the many many options for controlling the appearance of the graph.\n",
    "\n",
    "In this command, `exes, wise` are **positional** arguments, plot knows what to do with them based on what order they are in at the front.\n",
    "\n",
    "The rest are all **named**, optional arguments. They can be present or absent, in any order. But they are all of the form name=value (and text values get quotes).\n",
    "\n",
    "All parameters, whether positional or named, are separated by commas."
   ]
  },
  {
   "cell_type": "code",
   "execution_count": null,
   "metadata": {},
   "outputs": [],
   "source": [
    "fig = plt.figure()\n",
    "ax  = fig.add_subplot()\n",
    "\n",
    "# Long lines can be continued, but they should be indented\n",
    "ax.plot(exes, wise,        # Positional arguments have to be first (in their proper positions)\n",
    "        color='red',       # Note for each of these named parameters, the input parameter name is NOT in quotes\n",
    "        marker='o',        # Also it is important to have commas after each parameter\n",
    "        linestyle='solid', # Input values which are text MUST be in quotes, it can be '' or \"\"\n",
    "        linewidth=1,       # Input values which are numbers do not get quotes, that would turn them into text\n",
    "        markersize=10,     \n",
    "        markeredgecolor='g',\n",
    "        markeredgewidth=3,\n",
    "        markerfacecolor='k') # plot's argument list opened with a (, and at the end must close with a matching )   "
   ]
  },
  {
   "cell_type": "markdown",
   "metadata": {},
   "source": [
    "Many `plot()` input parameters have convenient nicknames, as do the values that can be passed into them. The one line plot command below is the same as the multiline one above:"
   ]
  },
  {
   "cell_type": "code",
   "execution_count": null,
   "metadata": {},
   "outputs": [],
   "source": [
    "plt.plot(exes, wise, c='r', marker='o', ls='-', lw=1, ms=10, mec='g', mew=3, mfc='k')"
   ]
  },
  {
   "cell_type": "markdown",
   "metadata": {},
   "source": [
    "An even shorter cut is to specify a 'format code' as the third argument:\n",
    "1. color (leave this out if you want to let matplotlib choose the color)\n",
    "1. marker (leave this out if you only want lines)\n",
    "1. linestyle (leave this out if you only want markers)"
   ]
  },
  {
   "cell_type": "code",
   "execution_count": null,
   "metadata": {},
   "outputs": [],
   "source": [
    "# 'ro-' --> r(ed) o(circles) with -(solid lines)\n",
    "plt.plot(exes, wise, 'ro-', lw=1, ms=10, mec='g', mew=3, mfc='k')"
   ]
  },
  {
   "cell_type": "markdown",
   "metadata": {},
   "source": [
    "# Exercise\n",
    "\n",
    "Experiment with the plot above by testing various types of (don't forget quotes as appropriate):\n",
    "* colors: r g b k y c m purple orange teal darkgreen ...\n",
    "* marker: . , o + x * s d v ^ < > \n",
    "* linestyle: `'' -  --  -.  :` or `'None', 'solid'`\n",
    "* format codes: `'r^:'`, `'g*'`, `'b--'`, `'-.'`\n",
    "* sizes: 1, 3.5, ...\n",
    "\n",
    "Bookmark this link for a reminder of what's available: https://matplotlib.org/2.1.1/api/_as_gen/matplotlib.pyplot.plot.html\n",
    "\n",
    "A helpful snippet from that link about colors...\n",
    "> In addition, you can specify colors in **many weird and wonderful ways**, including full names (`c='green'`), hex strings (`c='#008000'`), RGB or RGBA tuples (`c=(0,1,0,1)`) or grayscale intensities as a string (`c='0.8'`)"
   ]
  },
  {
   "cell_type": "markdown",
   "metadata": {},
   "source": [
    "### Multiple Series\n",
    "Now let's add a second set of y values for the same x values:"
   ]
  },
  {
   "cell_type": "code",
   "execution_count": null,
   "metadata": {},
   "outputs": [],
   "source": [
    "whys = [9.14, 8.14, 8.74, 8.77, 9.26, 8.10, 6.13, 3.10, 9.13, 7.26, 4.74]"
   ]
  },
  {
   "cell_type": "markdown",
   "metadata": {},
   "source": [
    "Additional data series can be added with additional `plot()` commands, and their appearance can be controlled separately:"
   ]
  },
  {
   "cell_type": "code",
   "execution_count": null,
   "metadata": {},
   "outputs": [],
   "source": [
    "fig = plt.figure()\n",
    "ax  = fig.add_subplot()    # we can plot() multiple data series onto this same Axes\n",
    "ax.plot(exes, wise, 'bo')  # blue circles (no lines)\n",
    "ax.plot(exes, whys, 'g^')  # green triangles (no lines)"
   ]
  },
  {
   "cell_type": "markdown",
   "metadata": {},
   "source": [
    "Normal Python `range()` is useful for looping, but it can only do integers. That's where numpy's `np.arange()` (\"array-range\") comes in."
   ]
  },
  {
   "cell_type": "code",
   "execution_count": null,
   "metadata": {},
   "outputs": [],
   "source": [
    "# In Python, range intervals are always Inclusive on the left side, and Exclusive on the right side,\n",
    "# so this ends up [3.5, 4.0, 4.5, ... 14.5]\n",
    "xrange = np.arange(3.5, 15.0, 0.5)"
   ]
  },
  {
   "cell_type": "markdown",
   "metadata": {},
   "source": [
    "We choose this range because exes is from 4...14, so 3.5...14.5 will give a line that nicely extrapolates a little bit. Let's take a look at it:"
   ]
  },
  {
   "cell_type": "code",
   "execution_count": null,
   "metadata": {},
   "outputs": [],
   "source": [
    "xrange"
   ]
  },
  {
   "cell_type": "markdown",
   "metadata": {},
   "source": [
    "The point of `numpy` is that it allows treating lists (vectors) and grids (lists-of-lists aka matrices) of numbers mathematically, and arithmetically manipulate all the values in this array at once. Check these out:"
   ]
  },
  {
   "cell_type": "code",
   "execution_count": null,
   "metadata": {},
   "outputs": [],
   "source": [
    "xrange*2"
   ]
  },
  {
   "cell_type": "code",
   "execution_count": null,
   "metadata": {},
   "outputs": [],
   "source": [
    "xrange*2 - 5"
   ]
  },
  {
   "cell_type": "code",
   "execution_count": null,
   "metadata": {},
   "outputs": [],
   "source": [
    "-1.5*xrange*xrange + 0.5*xrange + 3"
   ]
  },
  {
   "cell_type": "code",
   "execution_count": null,
   "metadata": {},
   "outputs": [],
   "source": [
    "fig = plt.figure()\n",
    "ax  = fig.add_subplot()\n",
    "ax.plot(exes, wise, 'bo')  # scatterplot the first series of points (linestyle='')\n",
    "ax.plot(exes, whys, 'g^')  # scatterplot the second series\n",
    "ax.plot(xrange,   1.5*xrange - 1,                  'b:')  # plot the dotted line  y = 1.5x - 1\n",
    "ax.plot(xrange, -.127*xrange*xrange + 2.78*xrange, 'g:')  # plot the dotted 'line' y = -0.127x^2 + 2.78x"
   ]
  },
  {
   "cell_type": "markdown",
   "metadata": {},
   "source": [
    "# Exercise\n",
    "Double-click the code cell above to edit it, and fiddle with the coefficients of the line and the curve to get them to fit the data better\n",
    "\n",
    "---\n",
    "\n",
    "### Labeling\n",
    "Matplotlib has many options for controlling the appearance of graphs beyond the data series themselves. Because the Axes object is needed for all these formatting functions, and the Axes object is really what owns functions like plot(), it is recommended to make a habit of using Axes instead of just plt."
   ]
  },
  {
   "cell_type": "code",
   "execution_count": null,
   "metadata": {},
   "outputs": [],
   "source": [
    "fig = plt.figure(figsize=(12,8)) # control size, in 'inches' (wide, tall)\n",
    "ax  = fig.add_subplot()  \n",
    "\n",
    "# Use plot() to draw the data series as normal\n",
    "# labels are used to build up an ax.legend()\n",
    "ax.plot(exes, wise, c='b', marker='o', ls='', label='Actual')    # the long way\n",
    "ax.plot(exes, whys, 'g^',                     label='Expected')  # shorter with a format code\n",
    "\n",
    "# plot can do individual points\n",
    "# note also there is no label='foo', so it will be excluded from the legend()\n",
    "ax.plot(4.5, 4, 'rx', ms=10)\n",
    "\n",
    "# annotate() allows addition of ad hoc descriptions onto the graph\n",
    "ax.annotate('We are\\nhere', (4.75, 4), # the text (including \\n(ewline) and the point being annotated\n",
    "            xytext=(6,3),              # the position of the text\n",
    "            color='r',                 # the color of the text\n",
    "            fontsize=20,\n",
    "            arrowprops=dict(arrowstyle='->', color='r') ) # this is a bundle of properties for the arrow\n",
    "\n",
    "ax.annotate('(0,0) is here', (0,0), xytext=(2,0.5), color='k',\n",
    "            arrowprops=dict(arrowstyle='-|>', color='k'))\n",
    "\n",
    "# This will draw a v[ertical]line from bottom to top, there's also an axhline() that draws across\n",
    "ax.axvline(8.5,                       # all you really need is the X\n",
    "           ymin=0.0, ymax=1.0,        # optionally you can control the height %\n",
    "           ls=':', lw=5, c='#800080') # and all the usual line formatting options\n",
    "ax.text(9,12, 'Minimum required for Harvard admissions',\n",
    "        c='#800080', fontsize=9.87)\n",
    "\n",
    "# The hlines() or vlines() functions allows drawing one or more lines \n",
    "ax.hlines([1,2.5], 0, 5,                # list of y positions for horizontal lines, and min,max X extents\n",
    "          colors=['teal','chartreuse'], # can specify separately\n",
    "          label='Alternatives',         # can add to the legend()\n",
    "          ls='--')                      # and all the usual line formatting options\n",
    "ax.text(1.25, 1.25, 'Public school=1.0 (baseline)')\n",
    "ax.text(1.25, 2.75, 'Homeschool=2.5')\n",
    "\n",
    "\n",
    "# automatically generate a legend for all the labels\n",
    "ax.legend(loc='lower right') # Usually just say ax.legend() and matplotlib will try to find space for it\n",
    "\n",
    "\n",
    "# Axes has functions to control all kinds of other formatting/labeling stuff\n",
    "ax.set_title('Cambridge students need more homework')\n",
    "ax.set_xlabel('Nightly hours of homework per class')\n",
    "ax.set_ylabel('Educational effectiveness')\n",
    "ax.set_xlim(-2, 20)          # These are bad choices!\n",
    "ax.set_ylim(0, 15)\n",
    "ax.set_xticks( exes )                 # ax.set_xticks( [] ) would force no ticks at all\n",
    "ax.set_yticks( [2, 3.14, 5, 6, 12] )  # note the [] inside the ()\n",
    "ax.spines['right'].set_visible(False) # or 'top' or 'left' or 'bottom'\n",
    "ax.spines['left'].set_bounds(1, 13)   # limit the extent of an axis line ('spine')\n",
    "ax.spines['left'].set_position( ('data',1) ) # move the Y axis to X=1\n",
    "\n",
    "\n",
    "# The plot is ready to show, but before we do that, we can save to a file\n",
    "fig.savefig('labelled.png', dpi=600) # inches above * dots per inch, determines pixels \n",
    "# Check the file folder tab on the left sidebar..."
   ]
  },
  {
   "cell_type": "markdown",
   "metadata": {},
   "source": [
    "### Subplots\n",
    "A figure can be a grid of multiple subplots; there's a separate Axes for each one. This example shows how to manipulate them."
   ]
  },
  {
   "cell_type": "code",
   "execution_count": null,
   "metadata": {},
   "outputs": [],
   "source": [
    "# Two more datasets for 'Anscombe's Quartet'\n",
    "wyes = [7.46, 6.77, 12.74, 7.11, 7.81, 8.84, 6.08, 5.39, 8.15, 6.42, 5.73] # this 3rd one also uses x=exes\n",
    "\n",
    "# The 4th dataset uses different x's\n",
    "x4 = [8,    8,    8,    8,    8,    8,    8,    19,    8,    8,    8]\n",
    "y4 = [6.58, 5.76, 7.71, 8.84, 8.47, 7.04, 5.25, 12.50, 5.56, 7.91, 6.89]\n",
    "\n",
    "# use the rest of this cell to prepare additional data (different np.arange() for the 4th graph,\n",
    "# data for drawing the common fit line on each graph, ...)"
   ]
  },
  {
   "cell_type": "code",
   "execution_count": null,
   "metadata": {},
   "outputs": [],
   "source": [
    "fig = plt.figure(figsize=(15,12))\n",
    "\n",
    "# The add_subplot() function allows us to set up a grid of subplots\n",
    "# The ordering is like english (left to right, top to bottom)\n",
    "# and also like row/col matrix indexing \n",
    "ax11 = fig.add_subplot(2,2, 1)  # 2,2      means there is going to be a grid of 2 rows, 2 columns \n",
    "                                #    , 1   means this is subplot 1 (upper left = row 1 col 1)\n",
    "ax12 = fig.add_subplot(2,2, 2)  #                    ... subplot 2 (upper rght = row 1 col 2)\n",
    "ax21 = fig.add_subplot(2,2, 3)  #                    ... subplot 3 (lower left = row 2 col 1)\n",
    "ax22 = fig.add_subplot(2,2, 4)  #                    ... subplot 4 (lower rght = row 2 col 2)\n",
    "\n",
    "# Now that we have our four Axes' we can use them to plot the data\n",
    "ax11.plot(exes, wise, 'ko')          \n",
    "ax12.plot(exes, whys, 'ko')\n",
    "ax21.plot(exes, wyes, 'ko')\n",
    "ax22.plot(x4,   y4,   'ko')\n",
    "\n",
    "# The Figure can have it's own Super Title, in addition to per-subplot ax.set_title()\n",
    "fig.suptitle('Super Title!')\n",
    "\n",
    "# This file will show up in the Jupyter navigation tab, you can download it from there\n",
    "fig.savefig('anscombe.png') "
   ]
  },
  {
   "cell_type": "markdown",
   "metadata": {},
   "source": [
    "# Exercise\n",
    "The four subplots in the figure above are called [Anscombe's Quartet](https://en.wikipedia.org/wiki/Anscombe%27s_quartet). If you use linear regression to solve for the least-squares best-fit line through all four of those datasets, the result is identical. Graphs III and IV in particular illustrate the influence of outliers in datasets (and thus the importance of removing justifiable outliers before analysis).\n",
    "\n",
    "Edit the code cells above to:\n",
    "* **Add that common best-fit line** ($y=0.5x+3$) to each of the four subplots above. \n",
    "* **Make them look good** (vary marker, color, linestyle, range for the plots, etc)\n",
    "* **Title each Axes** with a concise description of what that subplot's data/line is saying/doing\n",
    "\n",
    "**NOTE**: because the X values from IV are 8 and 19, plot IV will need a different xrange than I-III in order to plot() the fit line. Don't reuse the variable name xrange for plot IV, or it will mess up I-III. Create a separate variable, maybe name it `xrange2` or `xrangeIV` or `xrange_8_19` or ..."
   ]
  },
  {
   "cell_type": "markdown",
   "metadata": {},
   "source": [
    "# Exercise\n",
    "\n",
    "Recall this example from the *Graphical Integrity* chapter of Tufte's *Visual Display of Quantitative Information*:\n",
    "\n",
    "As originally printed, with a distortion 'Lie Factor' of 14.8:\n",
    "\n",
    "<img src=\"https://github.com/RubeRad/tcscs/blob/master/notebooks/fuel_economy_nyt.png?raw=1\" width=600>\n",
    "\n",
    "As redesigned by Tufte:\n",
    "\n",
    "<img src=\"https://github.com/RubeRad/tcscs/blob/master/notebooks/fuel_economy_tufte.png?raw=1\" width=300>\n",
    "\n",
    "Use Python and matplotlib to reproduce Tufte's graph as accurately as you can. The tools demonstrated in this notebook should allow you match details such as:\n",
    "* Actual numerical data (choose appropriate variable names to hold these lists)\n",
    "* Markers/size and linestyle, color always black\n",
    "* Overall size/aspect ratio\n",
    "* Scale of data within frame, and spacing around\n",
    "* Extra data points and `vlines()`, with `annotate()`\n",
    "* `text()` positioned at the top (not `set_title()`, that would end up outside the frame)\n",
    "* `fontsize`\n",
    "\n",
    "A few details I do **not** expect you to reproduce: \n",
    "* 4-digit years (2 digits are easier to fit)\n",
    "* tiny gaps between the lines and the points\n",
    "* X axis ticks/labels inwards\n",
    "* font\n",
    "* yellow tint\n"
   ]
  },
  {
   "cell_type": "code",
   "execution_count": null,
   "metadata": {},
   "outputs": [],
   "source": [
    "# Reproduce Tufte graph here\n"
   ]
  },
  {
   "cell_type": "code",
   "execution_count": null,
   "metadata": {},
   "outputs": [],
   "source": []
  }
 ],
 "metadata": {
  "kernelspec": {
   "display_name": "Python 3 (ipykernel)",
   "language": "python",
   "name": "python3"
  },
  "language_info": {
   "codemirror_mode": {
    "name": "ipython",
    "version": 3
   },
   "file_extension": ".py",
   "mimetype": "text/x-python",
   "name": "python",
   "nbconvert_exporter": "python",
   "pygments_lexer": "ipython3",
   "version": "3.10.12"
  }
 },
 "nbformat": 4,
 "nbformat_minor": 4
}
