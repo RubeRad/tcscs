{
 "cells": [
  {
   "cell_type": "markdown",
   "metadata": {
    "colab_type": "text",
    "id": "view-in-github"
   },
   "source": [
    "<a href=\"https://colab.research.google.com/github/RubeRad/tcscs/blob/master/MatplotlibIntro.ipynb\" target=\"_parent\"><img src=\"https://colab.research.google.com/assets/colab-badge.svg\" alt=\"Open In Colab\"/></a>"
   ]
  },
  {
   "cell_type": "markdown",
   "metadata": {},
   "source": [
    "# Introduction to Python, Jupyter, and Matplotlib\n",
    "This is a Jupyter Python notebook, which is a collection of cells. Each cell is either of type 'markdown' (formatted text, like this cell) or code (python, grey background). The two most important rules of Jupyter Notebooks are:\n",
    "1. ***SHIFT-ENTER*** will cause the current cell to execute. \n",
    "  - For Markdown cells, 'execute' means render the formatting. ([Here's a markdown cheatsheet](https://sqlbak.com/blog/wp-content/uploads/2020/04/Jupyter-Notebook-Markdown-Cheatsheet.pdf))\n",
    "  - For Code cells, 'execute' means run the python.\n",
    "  - Some Code cells take a while to execute, watch for the * to change to a number\n",
    "1. Any cell can be edited (double-click into it) and re-executed (SHIFT-ENTER again).\n",
    "--- \n",
    "The first code in any Python script/Jupyter notebook, needs to import any libraries that will be used. The `as` directives allow specification of nicknames that are more convenient to type."
   ]
  },
  {
   "cell_type": "code",
   "execution_count": null,
   "metadata": {},
   "outputs": [],
   "source": [
    "# In Python, anything after a hash is a comment, ignored as code, but for the benefit of the reader\n",
    "\n",
    "import numpy             as np    # all kinds of numerical and matrix capabilities in here\n",
    "import matplotlib.pyplot as plt   # this is for making charts and graphs"
   ]
  },
  {
   "cell_type": "markdown",
   "metadata": {},
   "source": [
    "The cell below creates a variable `exes` and puts a list of numbers into it. The syntax (punctuation) is very important to get right. This is equivalent to 'Make a variable' named `exes` in Snap! and then `(set exes to (list ...))`"
   ]
  },
  {
   "cell_type": "code",
   "execution_count": null,
   "metadata": {},
   "outputs": [],
   "source": [
    "exes = [10, 8, 13, 9, 11, 14, 6, 4, 12, 7, 5]"
   ]
  },
  {
   "cell_type": "markdown",
   "metadata": {},
   "source": [
    "One thing you can do it Jupyter Notebooks that you can't do in regular Python scripts (programs), is to just mention something at the end of a code cell, which is a request for the notebook to display it."
   ]
  },
  {
   "cell_type": "code",
   "execution_count": null,
   "metadata": {},
   "outputs": [],
   "source": [
    "exes"
   ]
  },
  {
   "cell_type": "markdown",
   "metadata": {},
   "source": [
    "Python has a function called `len()`, which unsurprisingly returns the length of a list (just like in the Snap! Variables palette there's a `(length of list)` block -- *all programming languages are essentially the same like this*)"
   ]
  },
  {
   "cell_type": "code",
   "execution_count": null,
   "metadata": {},
   "outputs": [],
   "source": [
    "len(exes)"
   ]
  },
  {
   "cell_type": "markdown",
   "metadata": {},
   "source": [
    "Double-click into this next cell and change the index to different values to see what happens. Can you break it? What happens with negative indices?"
   ]
  },
  {
   "cell_type": "code",
   "execution_count": null,
   "metadata": {},
   "outputs": [],
   "source": [
    "exes[0]"
   ]
  },
  {
   "cell_type": "code",
   "execution_count": null,
   "metadata": {},
   "outputs": [],
   "source": [
    "wise = [8.04, 6.95, 7.58, 8.81, 8.33, 9.96, 7.24, 4.26, 10.84, 4.82, 5.68]"
   ]
  },
  {
   "cell_type": "code",
   "execution_count": null,
   "metadata": {},
   "outputs": [],
   "source": [
    "wise"
   ]
  },
  {
   "cell_type": "markdown",
   "metadata": {},
   "source": [
    "Now that we have (matching-length) exes and wise to graph, we can use matplotlib to graph them. Here's probably the simplest possible graph. (Note that a code cell can have multiple commands in it)"
   ]
  },
  {
   "cell_type": "code",
   "execution_count": null,
   "metadata": {},
   "outputs": [],
   "source": [
    "plt.figure()             # always start a new graph with plt.figure() to clear away anything previous\n",
    "ax = plt.gca()           # gca() = get current Axes; a default Figure has just one Axes, but there could be more\n",
    "ax.plot(exes, wise)      # plot() makes an X/Y plot; other functions include scatter(), bar(), ...\n",
    "plt.show()               # when all setup is done, this causes the plot to render"
   ]
  },
  {
   "cell_type": "markdown",
   "metadata": {},
   "source": [
    "That's not too useful, because the default behavior of `plot()` is a line graph. Let's take a quick look at a default scatterplot:"
   ]
  },
  {
   "cell_type": "code",
   "execution_count": null,
   "metadata": {},
   "outputs": [],
   "source": [
    "plt.figure()             # same as before\n",
    "ax = plt.gca()           # same as before\n",
    "ax.scatter(exes, wise)   # use the function scatter() instead of plot()\n",
    "plt.show()               # same as before"
   ]
  },
  {
   "cell_type": "markdown",
   "metadata": {},
   "source": [
    "Let's go back to `plot()` though, to learn about options to control appearance.\n",
    "\n",
    "In this command, `exes, wise` are **positional** arguments, plot knows what to do with them based on what order they are in at the front.\n",
    "\n",
    "The rest are all **named**, optional arguments. They can be present or absent, in any order. But they are all of the form name=value (and text values get quotes).\n",
    "\n",
    "All parameters, whether positional or named, are separated by commas."
   ]
  },
  {
   "cell_type": "code",
   "execution_count": null,
   "metadata": {},
   "outputs": [],
   "source": [
    "plt.figure()\n",
    "ax = plt.gca()\n",
    "\n",
    "# Long lines can be continued, but they should be indented\n",
    "ax.plot(exes, wise,        # Positional arguments have to be first (in their proper positions)\n",
    "        color='red',       # Note for each of these named parameters, the input parameter name is NOT in quotes\n",
    "        linestyle='solid', # Input values which are text MUST be in quotes, it can be '' or \"\"\n",
    "        linewidth=1,       # Input values which are numbers do not get quotes, that would turn them into text\n",
    "        marker='o',        # Also it is important to have commas after each parameter\n",
    "        markersize=10,     \n",
    "        markeredgecolor='g',\n",
    "        markeredgewidth=3,\n",
    "        markerfacecolor='k') # plot's argument list opened with a (, and at the end must close with a matching )   \n",
    "\n",
    "plt.show()"
   ]
  },
  {
   "cell_type": "markdown",
   "metadata": {},
   "source": [
    "Many `plot()` input parameters have convenient nicknames, as do the values that can be passed into them. The one line plot command below is the same as the multiline one above:"
   ]
  },
  {
   "cell_type": "code",
   "execution_count": null,
   "metadata": {},
   "outputs": [],
   "source": [
    "plt.figure()\n",
    "ax = plt.gca()\n",
    "ax.plot(exes, wise, c='r', ls='-', lw=1, marker='o', ms=10, mec='g', mew=3, mfc='k')\n",
    "plt.show()"
   ]
  },
  {
   "cell_type": "markdown",
   "metadata": {},
   "source": [
    "# Exercise\n",
    "\n",
    "Experiment with the plot above by testing various types of (don't forget quotes as appropriate):\n",
    "* colors: r g b k y c m purple orange teal darkgreen ...\n",
    "* linestyle: `'' -  --  -.  :` or `'None', 'solid'`\n",
    "* marker: . , o + x * s d v ^ < > \n",
    "* sizes: 1, 3.5, ...\n",
    "\n",
    "Keep this link handy for a reminder of what's available: https://matplotlib.org/2.1.1/api/_as_gen/matplotlib.pyplot.plot.html"
   ]
  },
  {
   "cell_type": "markdown",
   "metadata": {},
   "source": [
    "### Multiple Series\n",
    "Now let's add a second set of y values for the same x values:"
   ]
  },
  {
   "cell_type": "code",
   "execution_count": null,
   "metadata": {},
   "outputs": [],
   "source": [
    "whys = [9.14, 8.14, 8.74, 8.77, 9.26, 8.10, 6.13, 3.10, 9.13, 7.26, 4.74]"
   ]
  },
  {
   "cell_type": "markdown",
   "metadata": {},
   "source": [
    "Additional data series can be added with additional `plot()` commands, and their appearance can be controlled separately:"
   ]
  },
  {
   "cell_type": "code",
   "execution_count": null,
   "metadata": {},
   "outputs": [],
   "source": [
    "plt.figure()\n",
    "ax=plt.gca()  # we can plot() multiple data series onto this same Axes\n",
    "ax.plot(exes, wise, c='b', marker='o', ls='')\n",
    "ax.plot(exes, whys, c='g', marker='^', ls='')\n",
    "plt.show()"
   ]
  },
  {
   "cell_type": "markdown",
   "metadata": {},
   "source": [
    "Normal Python `range()` is useful for looping, but it can't do floating point. That's where numpy's `np.arange()` comes in."
   ]
  },
  {
   "cell_type": "code",
   "execution_count": null,
   "metadata": {},
   "outputs": [],
   "source": [
    "# In Python, range intervals are always Inclusive on the left side, and Exclusive on the right side,\n",
    "# so this ends up [3.5, 4.0, 4.5, ... 14.5]\n",
    "xrange = np.arange(3.5, 15.0, 0.5)"
   ]
  },
  {
   "cell_type": "markdown",
   "metadata": {},
   "source": [
    "We choose this range because exes is from 4...14, so 3.5...14.5 will give a line that nicely extrapolates a little bit. Let's take a look at it:"
   ]
  },
  {
   "cell_type": "code",
   "execution_count": null,
   "metadata": {},
   "outputs": [],
   "source": [
    "xrange"
   ]
  },
  {
   "cell_type": "markdown",
   "metadata": {},
   "source": [
    "The point of `numpy` is that it allows treating lists (vectors) and grids (matrices) of numbers mathematically, and arithmetically manipulate all the values in this array at once. Check these out:"
   ]
  },
  {
   "cell_type": "code",
   "execution_count": null,
   "metadata": {},
   "outputs": [],
   "source": [
    "xrange*2"
   ]
  },
  {
   "cell_type": "code",
   "execution_count": null,
   "metadata": {},
   "outputs": [],
   "source": [
    "xrange*2 - 5"
   ]
  },
  {
   "cell_type": "code",
   "execution_count": null,
   "metadata": {},
   "outputs": [],
   "source": [
    "-1.5*xrange*xrange + 0.5*xrange + 3"
   ]
  },
  {
   "cell_type": "code",
   "execution_count": null,
   "metadata": {},
   "outputs": [],
   "source": [
    "plt.figure()\n",
    "ax=plt.gca()\n",
    "ax.plot(exes, wise, c='b', marker='o', ls='')  # scatterplot the first series of points (linestyle='')\n",
    "ax.plot(exes, whys, c='g', marker='^', ls='')  # scatterplot the second series\n",
    "ax.plot(xrange,   1.5*xrange - 1,                  c='b', ls=':')  # plot the line  y = 1.5x - 1\n",
    "ax.plot(xrange, -.127*xrange*xrange + 2.78*xrange, c='g', ls=':')  # plot the curve y = -0.127x^2 + 2.78x\n",
    "plt.show()"
   ]
  },
  {
   "cell_type": "markdown",
   "metadata": {},
   "source": [
    "# Exercise\n",
    "Double-click the code cell above to edit it, and fiddle with the coefficients of the line and the curve to get them to fit the data better\n",
    "\n",
    "---\n",
    "\n",
    "### Labeling\n",
    "Matplotlib has many options for controlling the appearance of graphs beyond the data series themselves. Because the Axes object is needed for all these formatting functions, and the Axes object is really what owns functions like plot(), it is recommended to make a habit of using Axes instead of just plt."
   ]
  },
  {
   "cell_type": "code",
   "execution_count": null,
   "metadata": {},
   "outputs": [],
   "source": [
    "plt.figure(figsize=(12,8)) # control size, in 'inches' (wide, tall)\n",
    "ax = plt.gca()  \n",
    "\n",
    "# Use plot() to draw the data series as normal\n",
    "ax.plot(exes, wise, c='b', marker='o', ls='')\n",
    "ax.plot(exes, whys, c='g', marker='^', ls='')\n",
    "\n",
    "# Axes has functions to control all kinds of other stuff\n",
    "ax.set_title('Cambridge students need more homework')\n",
    "ax.set_xlabel('Nightly hours of homework per class')\n",
    "ax.set_ylabel('Educational effectiveness')\n",
    "ax.set_xlim(0, 20)          # These are bad choices!\n",
    "ax.set_ylim(0, 15)\n",
    "ax.set_xticks( exes )\n",
    "ax.set_yticks( [2, 3.14, 5, 6, 12] )\n",
    "ax.spines['top'].set_visible(False)\n",
    "ax.spines['right'].set_visible(False)\n",
    "ax.spines['left'].set_position( ('outward', 10) )  # note extra () inside () here\n",
    "ax.spines['bottom'].set_position( ('outward', 10) )\n",
    "ax.legend(['Actual', 'Expected'], \n",
    "          loc='lower right') # Usually you don't need this option\n",
    "ax.plot([4.5], [4], marker='x', c='r', ms=10)\n",
    "ax.annotate('We are here', (4.75, 4), xytext=(7,3), color='r',\n",
    "             arrowprops=dict(arrowstyle=\"->\", color='r') )     # this is a bundle of properties for the arrow\n",
    "\n",
    "# The plot is ready to show(), but before we do that, we can save to a file\n",
    "fig = plt.gcf() # gcf = 'get current figure'\n",
    "fig.savefig('labelled.png')   \n",
    "# can be done in one line like: plt.gcf().savefig('filename.png')\n",
    "\n",
    "# savefig() has to happen before show, because show() resets things.\n",
    "# If we're only saving to a file, show()ing to screen is optional.\n",
    "plt.show()"
   ]
  },
  {
   "cell_type": "markdown",
   "metadata": {},
   "source": [
    "### Subplots\n",
    "A figure can be a grid of multiple subplots; there's a separate Axes for each one. This example shows how to manipulate them."
   ]
  },
  {
   "cell_type": "code",
   "execution_count": null,
   "metadata": {},
   "outputs": [],
   "source": [
    "# Two more datasets for 'Anscombe's Quartet'\n",
    "wyes = [7.46, 6.77, 12.74, 7.11, 7.81, 8.84, 6.08, 5.39, 8.15, 6.42, 5.73] # this 3rd one also uses x=exes\n",
    "\n",
    "x4 = [8,    8,    8,    8,    8,    8,    8,    19,    8,    8,    8]\n",
    "y4 = [6.58, 5.76, 7.71, 8.84, 8.47, 7.04, 5.25, 12.50, 5.56, 7.91, 6.89]"
   ]
  },
  {
   "cell_type": "code",
   "execution_count": null,
   "metadata": {},
   "outputs": [],
   "source": [
    "fig = plt.figure(figsize=(15,12))   # here we catch fig in a variable up front, don't need to gcf() later\n",
    "\n",
    "# This add_subplot() function gives us one of the Axes to plot onto\n",
    "axI   = fig.add_subplot(221)  # 221 means: there are going to be 2x2, this is subplot 1 (upper left)\n",
    "axI.scatter(exes, wise)       # we switch to scatter here so we don't have to specify ls=''\n",
    "\n",
    "axII  = fig.add_subplot(222)  #                                   ... this is subplot 2 (upper right)\n",
    "axII.scatter(exes, whys)\n",
    "\n",
    "axIII = fig.add_subplot(223)  #                                   ... this is subplot 3 (next row)\n",
    "axIII.scatter(exes, wyes)\n",
    "\n",
    "axIV  = fig.add_subplot(224)  #                                   ... this is subplot 4 (last one)\n",
    "axIV.scatter(x4, y4)\n",
    "\n",
    "# savefig() has to happen before plt.show()\n",
    "# This file will show up in the Jupyter navigation tab, you can save it from there\n",
    "fig.savefig('anscombe.png') \n",
    "\n",
    "plt.show()"
   ]
  },
  {
   "cell_type": "markdown",
   "metadata": {},
   "source": [
    "# Exercise\n",
    "The four subplots in the figure above are called [Anscombe's Quartet](https://en.wikipedia.org/wiki/Anscombe%27s_quartet). If you use linear regression to solve for the least-squares best-fit line through all four of those datasets, the result is identical. Graphs III and IV in particular illustrate the influence of outliers in datasets (and thus the importance of removing justifiable outliers before analysis).\n",
    "\n",
    "Edit the code cell above to **add that best-fit line (y=0.5x+3) to each of the four subplots above. Make them look good** (vary marker, color, linestyle, range for the plots, label each Axes with set_title(), etc). \n",
    "\n",
    "NOTE: because the X values from IV are 8 and 19, plot IV will need a different xrange than I-III in order to plot() the fit line. Don't reuse the variable name xrange for plot IV, or it will mess up I-III, create a separate variable, maybe name it xrangeIV.\n",
    "\n",
    "Once you are done, click the little icon with the cloud and a down arrow (save to browser storage); and File/Download As/.ipynb. Submit the ipynb file. I will be able to run your notebook."
   ]
  }
 ],
 "metadata": {
  "kernelspec": {
   "display_name": "Python 3 (ipykernel)",
   "language": "python",
   "name": "python3"
  },
  "language_info": {
   "codemirror_mode": {
    "name": "ipython",
    "version": 3
   },
   "file_extension": ".py",
   "mimetype": "text/x-python",
   "name": "python",
   "nbconvert_exporter": "python",
   "pygments_lexer": "ipython3",
   "version": "3.10.6"
  }
 },
 "nbformat": 4,
 "nbformat_minor": 4
}
