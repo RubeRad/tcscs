{
 "cells": [
  {
   "cell_type": "markdown",
   "metadata": {},
   "source": [
    "# 2SAT in Python\n",
    "\n",
    "## Create a random 2SAT problem\n",
    "\n",
    "Each clause is represented by a pair of integers, i.e. (X3 v ~X5) is (3,-5)\n",
    "\n",
    "Directed graphs can be constructed/manipulated with the tool at [this link](https://bl.ocks.org/cjrd/6863459)"
   ]
  },
  {
   "cell_type": "code",
   "execution_count": null,
   "metadata": {},
   "outputs": [],
   "source": [
    "import random\n",
    "# Fix a seed for repeatability during testing\n",
    "# random.seed(12346) # 8-component   satisfiable case \n",
    "# random.seed(12347) # 3-component unsatisfiable case DUPLICATE CLAUSe\n",
    "# random.seed(12348) # acyclic       satisfiable case DUPLICATE CLAUSE\n",
    "# random.seed(12349) # acyclic       satisfiable case <-- Class 2\n",
    "# random.seed(12350) # 1-component unsatisfiable case <--- ?\n",
    "# random.seed(12351) # 4-component satisfiable case\n",
    "# random.seed(12356) # unsatisfiable case for class pizza puzzle\n",
    "# random.seed(12364) # 8-component  satisfiable case\n",
    "# random.seed(12365) # 8-component  satisfiable case\n",
    "# random.seed(12366) # 2-component  satisfiable case\n",
    "# 12754 5-component UNSAT case, HW 2\n",
    "# 12380 acyclic SAT --> HW 1\n",
    "\n",
    "# 12399 3 component UNSAT --> HW 2? bidirectional arc\n",
    "# 12356\n",
    "\n",
    "n = 8 # number of (X v Y) clauses to ^ together\n",
    "m = 5  # number of variables X1...X8\n",
    "s = 12380\n",
    "\n",
    "def make_clauses(n, m, s):\n",
    "    random.seed(s)\n",
    "    clauses = []\n",
    "    while len(clauses) < n:\n",
    "        frst = random.randint(1,m) * random.choice( (-1,1) )\n",
    "        scnd = frst\n",
    "        while abs(scnd) == abs(frst): # no clauses like (X4 v X4) or (X7 v ~X7)\n",
    "            scnd = random.randint(1,m) * random.choice( (-1,1) )\n",
    "        clauses.append( (frst,scnd) )\n",
    "    return clauses\n",
    "    \n",
    "clauses = make_clauses(n, m, s)\n",
    "clauses\n",
    "    "
   ]
  },
  {
   "cell_type": "code",
   "execution_count": null,
   "metadata": {},
   "outputs": [],
   "source": [
    "# Check for duplicate clauses\n",
    "def has_duplicate(clauses, verbose=True):\n",
    "    has_dup = False # until we find ont\n",
    "    for i in range(len(clauses)-1):\n",
    "        for j in range(i+1, len(clauses)):\n",
    "            ci = clauses[i]\n",
    "            cj = clauses[j]\n",
    "            if sorted(ci) == sorted(cj):\n",
    "                if verbose: print('DUPLICATE: {}={} {}={}'.format(i,ci,j,cj))\n",
    "                has_dup = True\n",
    "    return has_dup\n",
    "\n",
    "has_duplicate(clauses)"
   ]
  },
  {
   "cell_type": "markdown",
   "metadata": {},
   "source": [
    "## Print the clauses in the form of a 2SAT instance"
   ]
  },
  {
   "cell_type": "code",
   "execution_count": null,
   "metadata": {},
   "outputs": [],
   "source": [
    "def label_of(x):\n",
    "    if x<0:\n",
    "        l = '~'\n",
    "    else:\n",
    "        l = ''\n",
    "    l += 'X'\n",
    "    l += str(abs(x))\n",
    "    return(l)"
   ]
  },
  {
   "cell_type": "code",
   "execution_count": null,
   "metadata": {},
   "outputs": [],
   "source": [
    "def xstring(clauses):\n",
    "    cstrs = []\n",
    "    for (x,y) in clauses:\n",
    "        c = '(' + label_of(x) + ' v ' + label_of(y) + ')'\n",
    "        cstrs.append(c)\n",
    "    return ' ^ '.join(cstrs)\n",
    "xstring(clauses)"
   ]
  },
  {
   "cell_type": "code",
   "execution_count": null,
   "metadata": {},
   "outputs": [],
   "source": [
    "# as a pizza puzzle, in LaTeX\n",
    "topps = ['', 'm', 's', 'h', 'p', 'a'] # mushrooms, sausage, ham, pineapple, anchovies\n",
    "def latex_of(x):\n",
    "    if x<0:\n",
    "        l = '\\neg '\n",
    "    else:\n",
    "        l = ''\n",
    "    l += str(topps[abs(x)])\n",
    "    return(l)\n",
    "\n",
    "# after copy/pasting, need to search/replace \\\\ for \\\n",
    "def latex_string(clauses):\n",
    "    lstrs = []\n",
    "    for (x,y) in clauses:\n",
    "        c = '(' + latex_of(x) + ' \\lor ' + latex_of(y) + ')'\n",
    "        lstrs.append(c)\n",
    "    return ' \\land '.join(lstrs)\n",
    "latex_string(clauses)\n",
    "    "
   ]
  },
  {
   "cell_type": "markdown",
   "metadata": {},
   "source": [
    "## Create the implication graph"
   ]
  },
  {
   "cell_type": "code",
   "execution_count": null,
   "metadata": {},
   "outputs": [],
   "source": [
    "import networkx as nx\n",
    "def make_digraph(clauses):\n",
    "    imp = nx.DiGraph()\n",
    "    for (x,y) in clauses:\n",
    "        #    if  x is false, then y better be true\n",
    "        # so if -x is true,  then y has to be true; and likewise vice versa\n",
    "        #imp.add_edges_from([ (label_of(-x),label_of(y)),      # this version uses labels\n",
    "        #                     (label_of(-y),label_of(x)) ])\n",
    "        imp.add_edges_from([ (-x,y), (-y,x) ])\n",
    "    return imp\n",
    "\n",
    "imp = make_digraph(clauses)\n",
    "imp.nodes()"
   ]
  },
  {
   "cell_type": "markdown",
   "metadata": {},
   "source": [
    "## Draw the graph\n",
    "Note this tries to place vertices reasonably so to minimize edge crossings"
   ]
  },
  {
   "cell_type": "code",
   "execution_count": null,
   "metadata": {},
   "outputs": [],
   "source": [
    "import matplotlib.pyplot as plt\n",
    "\n",
    "def draw_digraph(dg):\n",
    "    plt.tight_layout()\n",
    "    nx.draw_networkx(dg, arrows=True, node_color='lightblue')\n",
    "    plt.show()\n",
    "\n",
    "draw_digraph(imp)"
   ]
  },
  {
   "cell_type": "markdown",
   "metadata": {},
   "source": [
    "## Check Strongly Connected Components\n",
    "\n",
    "Any group of vertices that can reach each other is called a 'Strongly Connected Component'. \n",
    "\n",
    "If any one vertex in a SCC is True, then because its implication edges reach all the others (by definition of SCC), then everybody in the SCC must be True. (It is also possible that they are all False together).\n",
    "\n",
    "But if any Xi and ~Xi are together in the same SCC, one of them must be True, which makes all of them be True, which makes the opposite one be False, which is a contradiction ==> this 2SAT cannot be satisfied!!\n",
    "\n",
    "In the 'Condensation' graph, each SCC is reduced to one node. The condensed graph has no cycles (is 'acyclic') -- because all the cycles were within the SCCs. Vertices with only incoming edges are called 'sinks', and vertices with only outgoing edges are called 'sources'. \n",
    "\n",
    "Turns out, if no SCC have this kind of contradiction, then the 2SAT is satisfiable! We just need to start at the sink SCCs and set everybody to True (and their negations to False). Roll back from the sinks until everything has a value, and it should all work out! "
   ]
  },
  {
   "cell_type": "code",
   "execution_count": null,
   "metadata": {},
   "outputs": [],
   "source": [
    "cond  = nx.condensation(imp)                  # this is the condensation graph of SCC\n",
    "comps = nx.strongly_connected_components(imp) # these are all the SCC\n",
    "\n",
    "comp_ary = []\n",
    "for c in comps:\n",
    "    comp_ary.append(c)\n",
    "    # check whether any Xi and ~Xi are both in this same component\n",
    "    ok = True # so far anyways\n",
    "    for v in c:\n",
    "        if -v in c:\n",
    "            print('FAIL: '+label_of(abs(v))+'<==>'+label_of(-abs(v)))\n",
    "            ok = False\n",
    "    if ok:\n",
    "        print('Component OK:', c)\n",
    "    else:\n",
    "        print('Component failed:', c)\n",
    "\n",
    "    \n",
    "comp_ary\n",
    "\n"
   ]
  },
  {
   "cell_type": "code",
   "execution_count": null,
   "metadata": {},
   "outputs": [],
   "source": [
    "# Draw the Condensation\n",
    "plt.tight_layout()\n",
    "nx.draw_networkx(cond, arrows=True, node_color='yellow')\n",
    "plt.show()"
   ]
  },
  {
   "cell_type": "code",
   "execution_count": null,
   "metadata": {},
   "outputs": [],
   "source": [
    "# But it would be better to label the condensation graph with SCC elements\n",
    "cond_lbls = {}\n",
    "for i in range(len(comp_ary)):\n",
    "    cond_lbls[i] = comp_ary[i]\n",
    "\n",
    "plt.figure(figsize=(10,8))\n",
    "nx.draw_networkx(cond, arrows=True, node_color='lightgreen', node_size=1000, labels=cond_lbls)"
   ]
  },
  {
   "cell_type": "markdown",
   "metadata": {},
   "source": [
    "## Use condensed graph to set T/F values"
   ]
  },
  {
   "cell_type": "code",
   "execution_count": null,
   "metadata": {
    "scrolled": true
   },
   "outputs": [],
   "source": [
    "sinks_to_sources = list(reversed(list(nx.lexicographical_topological_sort(cond))))\n",
    "for i in sinks_to_sources:\n",
    "    print(comp_ary[i])"
   ]
  },
  {
   "cell_type": "code",
   "execution_count": null,
   "metadata": {},
   "outputs": [],
   "source": [
    "true_false = {}\n",
    "for i in range(m):\n",
    "    true_false[ i+1] = None\n",
    "    true_false[-i-1] = None\n",
    "    \n",
    "for i in sinks_to_sources:\n",
    "    print('Set condensed component', i, ' to True')\n",
    "    c = comp_ary[i]\n",
    "    for v in c:\n",
    "        if true_false[v] is None:\n",
    "            print(v)\n",
    "            true_false[v]  = True\n",
    "            true_false[-v] = False\n",
    "        \n",
    "    \n",
    "    if None not in true_false.values():\n",
    "        break # no more True/False left to set!\n",
    "        \n",
    "true_false\n",
    "    "
   ]
  },
  {
   "cell_type": "markdown",
   "metadata": {},
   "source": [
    "## Evaluate 2SAT expression using truth values\n",
    "Plug & chug!"
   ]
  },
  {
   "cell_type": "code",
   "execution_count": null,
   "metadata": {},
   "outputs": [],
   "source": [
    "clause_tf = []\n",
    "for (x,y) in clauses:\n",
    "    clause_tf.append( true_false[x] or true_false[y] )\n",
    "\n",
    "if False in clause_tf:\n",
    "    print('Not all clauses satisfied: ', clause_tf)\n",
    "else:\n",
    "    print('All clauses satisfied! ', clause_tf)\n",
    "    "
   ]
  },
  {
   "cell_type": "code",
   "execution_count": null,
   "metadata": {},
   "outputs": [],
   "source": []
  },
  {
   "cell_type": "code",
   "execution_count": null,
   "metadata": {},
   "outputs": [],
   "source": []
  },
  {
   "cell_type": "markdown",
   "metadata": {},
   "source": [
    "# Search for good examples\n",
    "No duplicate clauses, SAT cases should be acyclic=10-components (not even benign cycles), unsatisfiable should not have any bidirectional arcs"
   ]
  },
  {
   "cell_type": "code",
   "execution_count": null,
   "metadata": {},
   "outputs": [],
   "source": [
    "for s in range(12345, 13000):\n",
    "    clauses = make_clauses(8, 5, s)\n",
    "    if has_duplicate(clauses, False):\n",
    "        #print(\"{} DUP\".format(s))\n",
    "        continue\n",
    "    dg = make_digraph(clauses)\n",
    "    comps = nx.strongly_connected_components(dg)\n",
    "    satisfiable = True # so far\n",
    "    ncomps = 0\n",
    "    for c in comps:\n",
    "        ncomps += 1\n",
    "        for v in c:\n",
    "            if -v in c:\n",
    "                satisfiable = False\n",
    "    #if satisfiable:\n",
    "    #print(\"{}  SAT  {} comps\".format(s, ncomps))\n",
    "    #    continue\n",
    "    #else:\n",
    "    if not satisfiable and ncomps >= 5:\n",
    "        print(\"{} UNSAT {} comps\".format(s, ncomps))\n",
    "                \n",
    "    \n",
    "    "
   ]
  },
  {
   "cell_type": "code",
   "execution_count": null,
   "metadata": {},
   "outputs": [],
   "source": []
  }
 ],
 "metadata": {
  "kernelspec": {
   "display_name": "Python 3",
   "language": "python",
   "name": "python3"
  },
  "language_info": {
   "codemirror_mode": {
    "name": "ipython",
    "version": 3
   },
   "file_extension": ".py",
   "mimetype": "text/x-python",
   "name": "python",
   "nbconvert_exporter": "python",
   "pygments_lexer": "ipython3",
   "version": "3.8.5"
  }
 },
 "nbformat": 4,
 "nbformat_minor": 4
}
