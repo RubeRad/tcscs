{
 "cells": [
  {
   "cell_type": "code",
   "execution_count": null,
   "metadata": {},
   "outputs": [],
   "source": [
    "import random"
   ]
  },
  {
   "cell_type": "code",
   "execution_count": null,
   "metadata": {},
   "outputs": [],
   "source": [
    "# a^k mod n, by recursive halving\n",
    "def powmod(a,k,n):\n",
    "    if k==1:\n",
    "        return a%n\n",
    "    halfpower  = int(k/2)\n",
    "    halfanswer = powmod(a,halfpower,n)\n",
    "    evenanswer = (halfanswer*halfanswer)%n\n",
    "    if k%2: # if k is odd\n",
    "        return (evenanswer*a)%n\n",
    "    else:\n",
    "        return evenanswer"
   ]
  },
  {
   "cell_type": "code",
   "execution_count": null,
   "metadata": {},
   "outputs": [],
   "source": [
    "# Fermat's little theorem used as a primality test\n",
    "# with a bunch of random bases\n",
    "# If any a^(n-1)mod n != 1 we know it's not prime\n",
    "# otherwise it probably is.\n",
    "def probably_prime(n, its=100):\n",
    "    for i in range(its):\n",
    "        a = random.randint(2,n-1)\n",
    "        if powmod(a,n-1,n) != 1:\n",
    "            return False  # definitely not prime\n",
    "    return True # probably prime"
   ]
  },
  {
   "cell_type": "code",
   "execution_count": null,
   "metadata": {},
   "outputs": [],
   "source": [
    "# Randomly choose numbers (ending in 1,3,7 or 9)\n",
    "# until one passes the probably_prime() test\n",
    "# Default: 10^7 < n < 10^8\n",
    "def random_prime(lo=10000000, hi=100000000):\n",
    "    while True:\n",
    "        n = random.randint(lo,hi)\n",
    "        n = int(n/10)\n",
    "        n = n * 10\n",
    "        n = n + random.choice( (1,3,7,9) )\n",
    "        if probably_prime(n):\n",
    "            return n"
   ]
  },
  {
   "cell_type": "code",
   "execution_count": null,
   "metadata": {},
   "outputs": [],
   "source": [
    "# Euclid's extended algorithm\n",
    "# Copied from spreadsheet method from youtube.com/watch?v=zxMNNwvhj94\n",
    "def compute_decryption_exponent(p,q,e):\n",
    "    Euler=(p-1)*(q-1)\n",
    "    rem = [Euler,e]\n",
    "    div = [1, int(Euler/e)]\n",
    "    a = [1,0]\n",
    "    b = [0,1]\n",
    "    while rem[-1] != 1:\n",
    "        rem.append(rem[-2] % rem[-1])\n",
    "        div.append(int(rem[-2]/rem[-1]))\n",
    "        a.append(a[-2]-(a[-1]*div[-2]))\n",
    "        b.append(b[-2]-(b[-1]*div[-2]))\n",
    "    return (b[-1]%Euler)"
   ]
  },
  {
   "cell_type": "code",
   "execution_count": null,
   "metadata": {},
   "outputs": [],
   "source": []
  }
 ],
 "metadata": {
  "kernelspec": {
   "display_name": "Python 3",
   "language": "python",
   "name": "python3"
  },
  "language_info": {
   "codemirror_mode": {
    "name": "ipython",
    "version": 3
   },
   "file_extension": ".py",
   "mimetype": "text/x-python",
   "name": "python",
   "nbconvert_exporter": "python",
   "pygments_lexer": "ipython3",
   "version": "3.8.10"
  }
 },
 "nbformat": 4,
 "nbformat_minor": 4
}
