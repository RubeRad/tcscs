{
  "cells": [
    {
      "cell_type": "markdown",
      "metadata": {
        "id": "view-in-github",
        "colab_type": "text"
      },
      "source": [
        "<a href=\"https://colab.research.google.com/github/RubeRad/tcscs/blob/master/rsa/rsa.ipynb\" target=\"_parent\"><img src=\"https://colab.research.google.com/assets/colab-badge.svg\" alt=\"Open In Colab\"/></a>"
      ]
    },
    {
      "cell_type": "markdown",
      "id": "6bc114c9",
      "metadata": {
        "id": "6bc114c9"
      },
      "source": [
        "# RSA from Snap! to Python\n",
        "Similar to the looping puzzles, we (i.e. you) are going to practice Python by porting some Snap! with which you are familiar."
      ]
    },
    {
      "cell_type": "markdown",
      "id": "11442a63",
      "metadata": {
        "id": "11442a63"
      },
      "source": [
        "## powmod\n",
        "First function to implement is $(a^k\\mod n$), aka `powmod`. Here it is in Snap!\n",
        "\n",
        "<img src=\"https://github.com/RubeRad/tcscs/blob/master/rsa/powmod.png?raw=1\" width=500>\n",
        "\n",
        "*Hint*: For Snap!'s floor(k/2), in python use **`k // 2`**. The double slash there means use integer division, and truncate away any fractional remainder. So even though `5/2==2.5`, which has to be stored in floating point format, `5//2==2` and can be stored in regular binary. For the larger and larger numbers that RSA uses, you need more and more bits, but fortunately Python does that automatically.\n"
      ]
    },
    {
      "cell_type": "code",
      "execution_count": null,
      "id": "b21a9b38",
      "metadata": {
        "id": "b21a9b38"
      },
      "outputs": [],
      "source": [
        "# compute a^k mod n\n",
        "def powmod(a, k, n):\n",
        "    # base case: \n",
        "    if k==1:           # when the exponent is 1\n",
        "        return (a%n)   # a^1 mod n is just a mod n\n",
        "    \n",
        "    # you continue writing the rest..."
      ]
    },
    {
      "cell_type": "code",
      "execution_count": null,
      "id": "eb82cecb",
      "metadata": {
        "id": "eb82cecb"
      },
      "outputs": [],
      "source": [
        "# Test to make sure your powmod is working\n",
        "# what is the correct answer for 3^5 mod 7?\n",
        "powmod(3, 5, 7)"
      ]
    },
    {
      "cell_type": "code",
      "execution_count": null,
      "id": "93f6ae57",
      "metadata": {
        "id": "93f6ae57"
      },
      "outputs": [],
      "source": [
        "# Verify that your powmod gets the correct answer\n",
        "# with these slightly bigger numbers:\n",
        "# 123^456 mod 789 = 699\n",
        "powmod(123, 456, 789)"
      ]
    },
    {
      "cell_type": "markdown",
      "id": "b86e3223",
      "metadata": {
        "id": "b86e3223"
      },
      "source": [
        "## (Probable) primality testing\n",
        "Fermat's little theorem says $n$ is prime iff for *every* base $a$:\n",
        "$$a^{n-1} = 1\\mod n$$\n",
        "By contrapositive, if for *any* base $a^{n-1}\\ne1 \\mod n$, then $n$ is not prime. \n",
        "\n",
        "Here is a Snap! implementation, using 100 random bases. If it says False, we are 100% certain $n$ is not prime (without knowing its factors!), and if it says True, $n$ is very very very very very very probably prime.\n",
        "\n",
        "<img src=\"https://github.com/RubeRad/tcscs/blob/master/rsa/probably_prime.png?raw=1\" width=500>\n",
        "\n",
        "*Hints*:\n",
        "* To get a random number between `lo` and `hi` (inclusive), use `random.randint(lo, hi)`\n",
        "* In Python, not equal is `!=`\n",
        "* In Python, `True` and `False` need to be capitalized\n",
        "\n"
      ]
    },
    {
      "cell_type": "code",
      "execution_count": null,
      "id": "930354df",
      "metadata": {
        "id": "930354df"
      },
      "outputs": [],
      "source": [
        "import random # this is python's random number module\n",
        "\n",
        "def probably_prime(n):\n",
        "    "
      ]
    },
    {
      "cell_type": "markdown",
      "id": "1ee0e4c0",
      "metadata": {
        "id": "1ee0e4c0"
      },
      "source": [
        "Use the cells below to test out `probably_prime()`. Demonstrate that it says the correct True/False answer for some pretty large numbers"
      ]
    },
    {
      "cell_type": "code",
      "execution_count": null,
      "id": "ff8deb10",
      "metadata": {
        "id": "ff8deb10"
      },
      "outputs": [],
      "source": [
        "# Test a prime number here:\n",
        "probably_prime(  )"
      ]
    },
    {
      "cell_type": "code",
      "execution_count": null,
      "id": "85246364",
      "metadata": {
        "id": "85246364"
      },
      "outputs": [],
      "source": [
        "# Test a composite number here:\n",
        "probably_prime(  )"
      ]
    },
    {
      "cell_type": "markdown",
      "id": "8e20054e",
      "metadata": {
        "id": "8e20054e"
      },
      "source": [
        "## Prime generation\n",
        "To generate a large prime, just keep picking random numbers until you find one that passes the `probably_prime()` test.\n",
        "\n",
        "Here's a Snap! implementation:\n",
        "\n",
        "<img src=\"https://github.com/RubeRad/tcscs/blob/master/rsa/random_prime.png?raw=1\" width=400>\n",
        "\n",
        "*Hint*: \n",
        "* In python, you can do a forever loop with `while True:`\n",
        "* It's not really forever, because it will eventually land on a prime and return out"
      ]
    },
    {
      "cell_type": "code",
      "execution_count": null,
      "id": "7984563f",
      "metadata": {
        "id": "7984563f"
      },
      "outputs": [],
      "source": [
        "# for example, if lo is 100, then it will return a prime between 100 and 1000\n",
        "# i.e. a 3-digit prime (just like 100 is 3 digits)\n",
        "def random_prime(lo):\n",
        "    "
      ]
    },
    {
      "cell_type": "markdown",
      "id": "29fa6a34",
      "metadata": {
        "id": "29fa6a34"
      },
      "source": [
        "Use the cells below to test out `random_prime()`, and make bigger and bigger primes!\n",
        "\n",
        "Unlike Snap!, where you have to use the [BIGNUMS] block, or the integer values will overflow the number of bits they are stored in, Python does some clever stuff to automatically let integer arithmetic grow arbitrarily large."
      ]
    },
    {
      "cell_type": "code",
      "execution_count": null,
      "id": "8399360a",
      "metadata": {
        "id": "8399360a"
      },
      "outputs": [],
      "source": []
    },
    {
      "cell_type": "code",
      "execution_count": null,
      "id": "ef47fa85",
      "metadata": {
        "id": "ef47fa85"
      },
      "outputs": [],
      "source": []
    },
    {
      "cell_type": "code",
      "execution_count": null,
      "id": "4f0f24bc",
      "metadata": {
        "id": "4f0f24bc"
      },
      "outputs": [],
      "source": []
    },
    {
      "cell_type": "markdown",
      "id": "a87ebb34",
      "metadata": {
        "id": "a87ebb34"
      },
      "source": [
        "## Decryption Exponent\n",
        "\n",
        "Just like in Snap!, I'll give you this function for free, since it's more complicated."
      ]
    },
    {
      "cell_type": "code",
      "execution_count": null,
      "id": "4b195cb5",
      "metadata": {
        "id": "4b195cb5"
      },
      "outputs": [],
      "source": [
        "# Given chosen primes p and q and encryption exponent e,\n",
        "# compute a decryption exponent d, so that for Euler number \n",
        "# E=(p-1)(q-1), e*d mod E = 1\n",
        "# See the video 'RSA Encryption with Excel' by Jonathon Briggs\n",
        "# youtube.com/watch?v=zxMNNwvhj94\n",
        "def decryption_exponent(p,q,e):\n",
        "    Euler = (p-1)*(q-1)\n",
        "    rem = [Euler, e]     # these are lists that will be appended to\n",
        "    div = [1, Euler//e]  # // is integer/truncating division\n",
        "    a   = [1, 0]\n",
        "    b   = [0, 1]\n",
        "    while rem[-1] != 1:  # repeat until the last element of rem is 1\n",
        "        rem.append( rem[-2] %  rem[-1] )\n",
        "        div.append( rem[-2] // rem[-1] )\n",
        "        a.append( a[-2] - a[-1]*div[-2] )\n",
        "        b.append( b[-2] - b[-1]*div[-2] )\n",
        "    return (b[-1] % Euler)\n",
        "        "
      ]
    },
    {
      "cell_type": "code",
      "execution_count": null,
      "id": "83f98fa8",
      "metadata": {
        "id": "83f98fa8"
      },
      "outputs": [],
      "source": [
        "# Example we did in class with p,q=11,13 --> n=143, Euler=120\n",
        "# encryption exponent 23 went with decryption exponent 47\n",
        "p=11\n",
        "q=13\n",
        "n=p*q\n",
        "e=23\n",
        "d=decryption_exponent(p,q,e)\n",
        "d"
      ]
    },
    {
      "cell_type": "code",
      "execution_count": null,
      "id": "32ecb075",
      "metadata": {
        "id": "32ecb075"
      },
      "outputs": [],
      "source": [
        "# We should see that e*d mod Euler = 1\n",
        "Euler = (p-1)*(q-1)\n",
        "(e * d) % Euler"
      ]
    },
    {
      "cell_type": "markdown",
      "id": "c593a755",
      "metadata": {
        "id": "c593a755"
      },
      "source": [
        "Go back and test those two cells with different choices of prime $p$ and $q$ and encryption exponent $e$, make sure the 2nd cell still comes out 1"
      ]
    },
    {
      "cell_type": "markdown",
      "id": "2091388c",
      "metadata": {
        "id": "2091388c"
      },
      "source": [
        "## RSA\n",
        "Now you have all the machinery necessary to do RSA encryption and decryption! $$c=m^e\\mod n$$ $$m=c^d\\mod n$$\n",
        "\n",
        "Use as many additional cells below to set up RSA $p$, $q$, $n$, $e=65537$, $d$, and do a roundtrip encryption/decryption of the message \"TCSROX\"=200319181524.\n",
        "\n",
        "Intersperse code cells with text/markup cells to narrate what you're doing at each step.\n"
      ]
    },
    {
      "cell_type": "code",
      "execution_count": null,
      "id": "9d249f61",
      "metadata": {
        "id": "9d249f61"
      },
      "outputs": [],
      "source": []
    }
  ],
  "metadata": {
    "kernelspec": {
      "display_name": "Python 3 (ipykernel)",
      "language": "python",
      "name": "python3"
    },
    "language_info": {
      "codemirror_mode": {
        "name": "ipython",
        "version": 3
      },
      "file_extension": ".py",
      "mimetype": "text/x-python",
      "name": "python",
      "nbconvert_exporter": "python",
      "pygments_lexer": "ipython3",
      "version": "3.10.6"
    },
    "colab": {
      "provenance": [],
      "include_colab_link": true
    }
  },
  "nbformat": 4,
  "nbformat_minor": 5
}