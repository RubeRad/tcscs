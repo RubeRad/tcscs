{
 "cells": [
  {
   "cell_type": "markdown",
   "metadata": {},
   "source": [
    "# Categorial Plotting with Seaborn\n",
    "\n",
    "We've had a fair bit of relational line and scatter plotting with 2D numerical data, but what about when data is not numerical but **categorical**, like male/female, public/charter/private, own/rent, ...? \n",
    "\n",
    "**Seaborn** is a popular graphing package built on top of matplotlib, which offers a suite of attractive, data-rich chart styles, including `catplot`. [This link is worth bookmarking for reference](https://seaborn.pydata.org/tutorial/categorical.html#categorical-tutorial). \n",
    "\n",
    "Let's import libraries and load up a dataset about the Titanic."
   ]
  },
  {
   "cell_type": "code",
   "execution_count": null,
   "metadata": {},
   "outputs": [],
   "source": [
    "import matplotlib.pyplot as plt\n",
    "import pandas  as pd\n",
    "import seaborn as sns # sns='Sam Norman Seaborn'\n",
    "# Sam Seaborn was Rob Lowe's character in 'West Wing'\n",
    "# The creator of seaborn is a huge fan of WW and created other modules\n",
    "# named after other characters (lyman, moss, https://github.com/mwaskom)"
   ]
  },
  {
   "cell_type": "code",
   "execution_count": null,
   "metadata": {
    "scrolled": false
   },
   "outputs": [],
   "source": [
    "# This is a famous dataset of Titanic passenger statistics\n",
    "t3 = pd.read_csv('https://raw.githubusercontent.com/RubeRad/camcom/master/titanic3.csv')\n",
    "t3.head()"
   ]
  },
  {
   "cell_type": "markdown",
   "metadata": {},
   "source": [
    "Take a moment to read those first 5 rows.\n",
    "\n",
    "Row 0 is an unmarried woman, 29 years old, traveling alone, 1st class, who survived.\n",
    "\n",
    "The next 4 rows are a family of 4, the Allisons: 2 parents, a 2-year old daughter and under 1 year old son (all traveling with #siblings/spouses=2 and #parents/children=2). Only the baby boy survived.\n",
    "\n",
    "There are a couple ways to get some total survival statistics:"
   ]
  },
  {
   "cell_type": "code",
   "execution_count": null,
   "metadata": {},
   "outputs": [],
   "source": [
    "t3['survived'].value_counts()"
   ]
  },
  {
   "cell_type": "code",
   "execution_count": null,
   "metadata": {},
   "outputs": [],
   "source": [
    "survived = t3['survived'].sum()   # sum of 500 ones (and 809 zeroes)\n",
    "total    = t3['survived'].count() # 1309\n",
    "died = total - survived           # 809\n",
    "diepct =     (died/total)*100\n",
    "livpct = (survived/total)*100"
   ]
  },
  {
   "cell_type": "code",
   "execution_count": null,
   "metadata": {},
   "outputs": [],
   "source": [
    "diepct"
   ]
  },
  {
   "cell_type": "code",
   "execution_count": null,
   "metadata": {},
   "outputs": [],
   "source": [
    "plt.figure()\n",
    "plt.gca().set_ylabel('Percent')\n",
    "plt.bar(  ['Died','Survived'],   # array of categories\n",
    "          [diepct, livpct]    )  # array of bar heights\n",
    "\n",
    "#plt.text(0.5, 35, 'LAME', ha='center', va='center',\n",
    "#        rotation=45, c='r', size=75, fontdict={'weight':'bold'} )\n",
    "\n",
    "plt.show()"
   ]
  },
  {
   "cell_type": "markdown",
   "metadata": {},
   "source": [
    "## Tufte Time\n",
    "How many pieces of data are displayed in that bar chart? What is the data ink ratio? This is why Tufte has a generally low opinion of bar charts.\n",
    "\n",
    "Go back and uncomment that plt.txt() and recreate the graph"
   ]
  },
  {
   "cell_type": "markdown",
   "metadata": {},
   "source": [
    "## Seaborn `catplot`\n",
    "Let's examine Seaborn's categorical plotting on another dataset and come back to apply what we've learned to the Titanic.\n",
    "\n",
    "We use the dataset 'Tips', which is an educational standard. Who are better tippers -- men/women? smokers/non? Weekday/weekend/lunch/dinner diners? Small/large parties?"
   ]
  },
  {
   "cell_type": "code",
   "execution_count": null,
   "metadata": {},
   "outputs": [],
   "source": [
    "tips = sns.load_dataset('tips')\n",
    "tips.head()"
   ]
  },
  {
   "cell_type": "markdown",
   "metadata": {},
   "source": [
    "Let's add another column:"
   ]
  },
  {
   "cell_type": "code",
   "execution_count": null,
   "metadata": {},
   "outputs": [],
   "source": [
    "tips['pct'] = tips['tip'] / tips['total_bill'] * 100\n",
    "tips.info()\n",
    "tips['pct'].describe()"
   ]
  },
  {
   "cell_type": "markdown",
   "metadata": {},
   "source": [
    "Seaborn's `catplot` takes categorical data as the x axis, and numerical data as the y axis (or the other way around!)\n",
    "\n",
    "This is the most basic possible use:\n",
    "\n",
    "NOTE: using data=tips saves you typing tips[] in the x and y parts (and other parts, as we'll see later)"
   ]
  },
  {
   "cell_type": "code",
   "execution_count": null,
   "metadata": {},
   "outputs": [],
   "source": [
    "sns.catplot(data=tips, x='sex', y='pct')   "
   ]
  },
  {
   "cell_type": "markdown",
   "metadata": {},
   "source": [
    "## Exercise 1: diferent kinds\n",
    "The default kind of catplot is kind='strip'. Try regraphing with other kinds: 'swarm', 'box', 'boxen', 'violin', 'point', 'bar', 'count'."
   ]
  },
  {
   "cell_type": "markdown",
   "metadata": {},
   "source": [
    "## Exercise 2: Swap x and y\n",
    "Seaborn automatically decides if x or y is categorical/numerical and how to handle it.\n",
    "\n",
    "After noticing that swapping x and y works, put it back."
   ]
  },
  {
   "cell_type": "markdown",
   "metadata": {},
   "source": [
    "## Exercise 3: Use hue to display another dimension\n",
    "It's always better to display more dimensions of data. Seaborn can include a third dimension by varying color with 'hue'. Try adding hue='day' or 'smoker' or 'time'\n",
    "\n",
    "Also test using Dodge=True"
   ]
  },
  {
   "cell_type": "markdown",
   "metadata": {},
   "source": [
    "## Exercise 4: Split graphs along col to display another dimension\n",
    "Try adding col='day' or 'smoker' or 'time' (whatever you didn't use for hue)"
   ]
  },
  {
   "cell_type": "markdown",
   "metadata": {},
   "source": [
    "## Exercise 5: Split graphs along row to display another dimension\n",
    "Try adding row='day' or 'smoker' or 'time' (whatever you didn't use for hue or col)"
   ]
  },
  {
   "cell_type": "markdown",
   "metadata": {},
   "source": [
    "## (Not a) Competition: whose graph looks best?\n",
    "Which choices reveal the most information from the dataset?\n",
    "\n",
    "If using all of x,y,hue,col,row is too much clutter, what would be best removed?"
   ]
  },
  {
   "cell_type": "markdown",
   "metadata": {},
   "source": [
    "# Back to the Titanic\n",
    "\n",
    "Just like we made an additional useful column `pct` in Tips, let's make an additional useful column in Titanic"
   ]
  },
  {
   "cell_type": "code",
   "execution_count": null,
   "metadata": {},
   "outputs": [],
   "source": [
    "t3.loc[t3.sex=='male', 'who'] = 'Man'\n",
    "t3.head()"
   ]
  },
  {
   "cell_type": "code",
   "execution_count": null,
   "metadata": {},
   "outputs": [],
   "source": [
    "t3['who'].value_counts()"
   ]
  },
  {
   "cell_type": "code",
   "execution_count": null,
   "metadata": {},
   "outputs": [],
   "source": [
    "t3.loc[t3.sex=='female', 'who'] = 'Woman'\n",
    "t3.head()"
   ]
  },
  {
   "cell_type": "code",
   "execution_count": null,
   "metadata": {},
   "outputs": [],
   "source": [
    "t3['who'].value_counts()"
   ]
  },
  {
   "cell_type": "code",
   "execution_count": null,
   "metadata": {},
   "outputs": [],
   "source": [
    "t3.loc[t3.age<=16, 'who'] = 'Child'\n",
    "t3.head()"
   ]
  },
  {
   "cell_type": "code",
   "execution_count": null,
   "metadata": {},
   "outputs": [],
   "source": [
    "t3['who'].value_counts()"
   ]
  },
  {
   "cell_type": "markdown",
   "metadata": {},
   "source": [
    "## Titanic exercise: choose data columns\n",
    "Look at those columns there, a few of them can be plotted numerically (age, fare), many are interesting categorically (survived, pclass, sex, who)\n",
    "\n",
    "Use `sns.catplot` and choose Series for x, y, hue, row and/or col, as well as a plot kind, and optionally dodge=True.\n",
    "\n",
    "Which configuration does the best job revealing a pattern of who is most likely to survive?"
   ]
  },
  {
   "cell_type": "code",
   "execution_count": null,
   "metadata": {},
   "outputs": [],
   "source": [
    "# Available columns to choose for x, y, and col\n",
    "# 'sex'      : categorical male/female\n",
    "# 'who'      : categorical Man/Woman/Child\n",
    "# 'age'      : numerical years old\n",
    "# 'pclass'   : passenger class 1/2/3\n",
    "# 'fare'     : numerical ticket price\n",
    "# 'survived' : categorical 0/1\n",
    "\n",
    "# Choose a catplot kind (strip, swarm, box, boxen, violin, ...),\n",
    "# and choose columns for x, y, and col,\n",
    "# and consider whether dodge=True is better or not\n",
    "\n",
    "sns.catplot(data=t3,\n",
    "            kind='',\n",
    "            x='', \n",
    "            y='', \n",
    "            col='',\n",
    "            hue='survived', palette={0:'r',1:'g'},  # red for died, green for survived\n",
    "            dodge=False)"
   ]
  },
  {
   "cell_type": "markdown",
   "metadata": {},
   "source": [
    "# Optional: Graphing police shootings\n",
    "This is one of the CORGIS links to a csv rendering of the Washington Post database of national police shootings"
   ]
  },
  {
   "cell_type": "code",
   "execution_count": null,
   "metadata": {},
   "outputs": [],
   "source": [
    "wapoALL = pd.read_csv('https://corgis-edu.github.io/corgis/datasets/csv/police_shootings/police_shootings.csv')\n",
    "wapoALL.head()"
   ]
  },
  {
   "cell_type": "code",
   "execution_count": null,
   "metadata": {},
   "outputs": [],
   "source": [
    "# Just for illustration, grab a slice DataFrame for just 2016 incidents\n",
    "wapo = wapoALL[wapoALL['Incident.Date.Year']==2016]\n",
    "wapo"
   ]
  },
  {
   "cell_type": "code",
   "execution_count": null,
   "metadata": {},
   "outputs": [],
   "source": [
    "# How are all the ways the victims were armed?\n",
    "wapo['Factors.Armed'].value_counts()"
   ]
  },
  {
   "cell_type": "code",
   "execution_count": null,
   "metadata": {},
   "outputs": [],
   "source": [
    "# Let's grab just the most common\n",
    "wapo4 = wapo[ wapo['Factors.Armed'].isin(['gun', 'knife', 'toy weapon', 'unarmed']) ]\n",
    "wapo4['Factors.Armed'].value_counts()"
   ]
  },
  {
   "cell_type": "code",
   "execution_count": null,
   "metadata": {},
   "outputs": [],
   "source": [
    "sns.catplot(data=wapo4, x='Factors.Armed', y='Person.Age',\n",
    "            kind='swarm', s=3)"
   ]
  },
  {
   "cell_type": "code",
   "execution_count": null,
   "metadata": {},
   "outputs": [],
   "source": [
    "wapo4['Person.Race'].value_counts()"
   ]
  },
  {
   "cell_type": "code",
   "execution_count": null,
   "metadata": {},
   "outputs": [],
   "source": [
    "wapo43 = wapo4[ wapo4['Person.Race'].isin(['White','African American', 'Hispanic']) ]"
   ]
  },
  {
   "cell_type": "code",
   "execution_count": null,
   "metadata": {},
   "outputs": [],
   "source": [
    "# How would you add Person.Race to the graph from above?"
   ]
  }
 ],
 "metadata": {
  "kernelspec": {
   "display_name": "Python 3",
   "language": "python",
   "name": "python3"
  },
  "language_info": {
   "codemirror_mode": {
    "name": "ipython",
    "version": 3
   },
   "file_extension": ".py",
   "mimetype": "text/x-python",
   "name": "python",
   "nbconvert_exporter": "python",
   "pygments_lexer": "ipython3",
   "version": "3.8.10"
  }
 },
 "nbformat": 4,
 "nbformat_minor": 4
}
