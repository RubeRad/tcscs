{
  "cells": [
    {
      "cell_type": "markdown",
      "metadata": {
        "id": "view-in-github",
        "colab_type": "text"
      },
      "source": [
        "<a href=\"https://colab.research.google.com/github/RubeRad/tcscs/blob/master/Titanic.ipynb\" target=\"_parent\"><img src=\"https://colab.research.google.com/assets/colab-badge.svg\" alt=\"Open In Colab\"/></a>"
      ]
    },
    {
      "cell_type": "markdown",
      "metadata": {
        "id": "GFEfodaurgDP"
      },
      "source": [
        "# Categorial Plotting with Seaborn\n",
        "\n",
        "We've had a fair bit of relational line and scatter plotting with 2D numerical data, but what about when data is not numerical but **categorical**, like male/female, public/charter/private, own/rent, ...? \n",
        "\n",
        "**Seaborn** is a popular graphing package built on top of matplotlib, which offers a suite of attractive, data-rich chart styles, including `catplot`. [This link is worth bookmarking for reference](https://seaborn.pydata.org/tutorial/categorical.html#categorical-tutorial). \n",
        "\n",
        "Let's import libraries and load up a dataset about the Titanic."
      ]
    },
    {
      "cell_type": "code",
      "execution_count": null,
      "metadata": {
        "id": "DUXR0BEQrgDQ"
      },
      "outputs": [],
      "source": [
        "import numpy as np\n",
        "import matplotlib.pyplot as plt\n",
        "import pandas  as pd\n",
        "import seaborn as sns # sns='Sam Norman Seaborn'\n",
        "# Sam Seaborn was Rob Lowe's character in 'West Wing'\n",
        "# The creator of seaborn is a huge fan of WW and created other modules\n",
        "# named after other characters (lyman, moss, https://github.com/mwaskom)"
      ]
    },
    {
      "cell_type": "code",
      "execution_count": null,
      "metadata": {
        "scrolled": false,
        "id": "dEuXrX-OrgDR"
      },
      "outputs": [],
      "source": [
        "# This is a famous dataset of Titanic passenger statistics\n",
        "t3 = pd.read_csv('https://raw.githubusercontent.com/RubeRad/camcom/master/titanic3.csv')\n",
        "t3.head()"
      ]
    },
    {
      "cell_type": "markdown",
      "metadata": {
        "id": "gtAHZk_xrgDR"
      },
      "source": [
        "Take a moment to read those first 5 rows.\n",
        "\n",
        "Row 0 is an unmarried woman, 29 years old, traveling alone, 1st class, who survived.\n",
        "\n",
        "The next 4 rows are a family of 4, the Allisons: 2 parents, a 2-year old daughter and under 1 year old son (all traveling with #siblings/spouses=2 and #parents/children=2). Only the baby boy survived.\n",
        "\n",
        "There are a couple ways to get some total survival statistics:"
      ]
    },
    {
      "cell_type": "code",
      "execution_count": null,
      "metadata": {
        "id": "AQRuSs9srgDS"
      },
      "outputs": [],
      "source": [
        "t3.survived.value_counts()"
      ]
    },
    {
      "cell_type": "code",
      "execution_count": null,
      "metadata": {
        "id": "s3NBKqh4rgDS"
      },
      "outputs": [],
      "source": [
        "survived = t3.survived.sum()   # sum of 500 ones (and 809 zeroes)\n",
        "total    = t3.survived.count() # 1309\n",
        "died   = total - survived      # 809\n",
        "diepct =     (died/total)*100\n",
        "livpct = (survived/total)*100"
      ]
    },
    {
      "cell_type": "code",
      "execution_count": null,
      "metadata": {
        "id": "AOQLCxjNrgDS"
      },
      "outputs": [],
      "source": [
        "diepct"
      ]
    },
    {
      "cell_type": "code",
      "execution_count": null,
      "metadata": {
        "id": "aQlBYxqyrgDS"
      },
      "outputs": [],
      "source": [
        "plt.figure()\n",
        "plt.gca().set_ylabel('Percent')\n",
        "plt.bar(  ['Died','Survived'],   # array of categories\n",
        "          [diepct, livpct]    )  # array of bar heights\n",
        "\n",
        "#plt.text(0.5, 35, 'LAME', ha='center', va='center',\n",
        "#        rotation=45, c='r', size=75, fontdict={'weight':'bold'} )\n",
        "\n",
        "plt.show()"
      ]
    },
    {
      "cell_type": "markdown",
      "metadata": {
        "id": "BTKkLll_rgDT"
      },
      "source": [
        "## Tufte Time\n",
        "How many pieces of data are displayed in that bar chart? What is the data ink ratio? This is why Tufte has a generally low opinion of bar charts.\n",
        "\n",
        "Go back and uncomment that plt.txt() and recreate the graph"
      ]
    },
    {
      "cell_type": "markdown",
      "metadata": {
        "id": "h9UC40FbrgDT"
      },
      "source": [
        "## Seaborn `catplot`\n",
        "Let's examine Seaborn's categorical plotting on another dataset and come back to apply what we've learned to the Titanic.\n",
        "\n",
        "We use the dataset 'Tips', which is an educational standard. Who are better tippers -- men/women? smokers/non? Weekday/weekend/lunch/dinner diners? Small/large parties?"
      ]
    },
    {
      "cell_type": "code",
      "execution_count": null,
      "metadata": {
        "id": "e1JWCmrLrgDU"
      },
      "outputs": [],
      "source": [
        "tips = sns.load_dataset('tips')\n",
        "tips.head()"
      ]
    },
    {
      "cell_type": "markdown",
      "metadata": {
        "id": "y1sOFqR7rgDU"
      },
      "source": [
        "Let's add another column:"
      ]
    },
    {
      "cell_type": "code",
      "execution_count": null,
      "metadata": {
        "id": "pgrgt0oprgDU"
      },
      "outputs": [],
      "source": [
        "# notice for creating a new column we need ['']\n",
        "tips['pct'] = tips.tip / tips.total_bill * 100  \n",
        "tips.info()"
      ]
    },
    {
      "cell_type": "code",
      "execution_count": null,
      "metadata": {
        "id": "jGoKNJCIrgDU"
      },
      "outputs": [],
      "source": [
        "# once the column exits we can use the simpler dataframe.column notation\n",
        "tips.pct.describe()"
      ]
    },
    {
      "cell_type": "markdown",
      "metadata": {
        "id": "pOnb4mvNrgDV"
      },
      "source": [
        "## Exercise 0\n",
        "Let's use matplotlib to make a graph to see if Male or Female customers are better tippers!\n",
        "\n",
        "Problem is, we need numbers in order to graph.\n",
        "\n",
        "Run the cell as-is, and uncomment one extra command at a time to see what it does"
      ]
    },
    {
      "cell_type": "code",
      "execution_count": null,
      "metadata": {
        "id": "AXFmo7yprgDV"
      },
      "outputs": [],
      "source": [
        "tips['sex01'] = (tips.sex=='Female') # Falses = Males --> 0; Trues = Females --> 1, \n",
        "#tips['sex01'] += np.random.uniform(-0.2, 0.2, 244)\n",
        "\n",
        "plt.figure()\n",
        "ax = plt.gca()\n",
        "\n",
        "ax.plot(tips.sex01, tips.pct, ls='', marker='.')\n",
        "\n",
        "#ax.set_xticks([0,1])\n",
        "#ax.set_xlim(-0.5,1.5)\n",
        "#ax.set_xticklabels(['Male', 'Female'])\n",
        "\n",
        "plt.show()\n"
      ]
    },
    {
      "cell_type": "markdown",
      "metadata": {
        "id": "3agW7pSYrgDV"
      },
      "source": [
        "# Seaborn\n",
        "\n",
        "That's a lot of work! Seaborn was made to do that kind of thing a lot easier.\n",
        "\n",
        "Seaborn's `catplot` takes categorical data as the x axis, and numerical data as the y axis (or the other way around!)\n",
        "\n",
        "This is the most basic possible use:"
      ]
    },
    {
      "cell_type": "code",
      "execution_count": null,
      "metadata": {
        "scrolled": true,
        "id": "1toWJProrgDW"
      },
      "outputs": [],
      "source": [
        "sns.catplot(data=tips, x='sex', y='pct')   "
      ]
    },
    {
      "cell_type": "markdown",
      "metadata": {
        "id": "Tto_aQlZrgDW"
      },
      "source": [
        "## Exercise 1: diferent kinds\n",
        "The default kind of catplot is `kind='strip'`. Try regraphing with other kinds: `'swarm'`, `'box'`, `'boxen'`, `'violin'`, `'point'`, `'bar'`, `'count'`."
      ]
    },
    {
      "cell_type": "markdown",
      "metadata": {
        "id": "ltiFqs-XrgDW"
      },
      "source": [
        "## Exercise 2: Swap x and y\n",
        "Seaborn automatically decides if x or y is categorical/numerical and how to handle it.\n",
        "\n",
        "After noticing that swapping x and y works, put it back."
      ]
    },
    {
      "cell_type": "markdown",
      "metadata": {
        "id": "usoy3nAUrgDW"
      },
      "source": [
        "## Exercise 3: Use hue to display another dimension\n",
        "It's always better to display more dimensions of data. Seaborn can include a third dimension by varying color with `hue`. Try adding `hue='day'` or `'smoker'` or `'time'`\n",
        "\n",
        "Also test using `dodge=True`"
      ]
    },
    {
      "cell_type": "markdown",
      "metadata": {
        "id": "GhmqeZPRrgDW"
      },
      "source": [
        "## Exercise 4: Split graphs along col to display another dimension\n",
        "Try adding `col='day'` or `'smoker'` or `'time'` (whatever you didn't use for hue)"
      ]
    },
    {
      "cell_type": "markdown",
      "metadata": {
        "id": "3_cY1iZorgDW"
      },
      "source": [
        "## Exercise 5: Split graphs along row to display another dimension\n",
        "Try adding `row='day'` or `'smoker'` or `'time'` (whatever you didn't use for hue or col)"
      ]
    },
    {
      "cell_type": "markdown",
      "metadata": {
        "id": "5hu-xKnRrgDX"
      },
      "source": [
        "## (Not a) Competition: whose graph looks best?\n",
        "Which choices reveal the most information from the dataset?\n",
        "\n",
        "If using all of x,y,hue,col,row is too much clutter, what would be best removed?"
      ]
    },
    {
      "cell_type": "markdown",
      "metadata": {
        "id": "lDIrfmF4rgDX"
      },
      "source": [
        "# Back to the Titanic\n",
        "\n",
        "Just like we made an additional useful column `pct` in Tips, let's make an additional useful column in Titanic, the name of the column will be `who`, and the values will be `Man`, `Woman`, and `Child`. Anybody age 16 and under will be a Child. Over 16, and they will be `Man` or `Woman` depending on the value of the `sex` column."
      ]
    },
    {
      "cell_type": "code",
      "execution_count": null,
      "metadata": {
        "id": "dEhqRnR6rgDX"
      },
      "outputs": [],
      "source": [
        "# Start out creating the new column populated entirely as 'Man'\n",
        "t3['who'] = 'Man'"
      ]
    },
    {
      "cell_type": "code",
      "execution_count": null,
      "metadata": {
        "id": "OQa6_drPrgDX"
      },
      "outputs": [],
      "source": [
        "t3.head()"
      ]
    },
    {
      "cell_type": "code",
      "execution_count": null,
      "metadata": {
        "id": "xjDmIMCqrgDY"
      },
      "outputs": [],
      "source": [
        "t3['who'].value_counts()"
      ]
    },
    {
      "cell_type": "markdown",
      "metadata": {
        "id": "QFpMBVFprgDY"
      },
      "source": [
        "The pandas DataFrame function `loc` means 'location', it allows to set only some entries of a DataFrame. Inside the `[]` are two things separated by commas: **which rows** you want to set, and **which column** you want to set."
      ]
    },
    {
      "cell_type": "code",
      "execution_count": null,
      "metadata": {
        "id": "lg49RUmjrgDY"
      },
      "outputs": [],
      "source": [
        "which_rows = (t3.sex=='female') # list of True/False to select rows\n",
        "which_col  = 'who'              # this is the new column we want to set values for"
      ]
    },
    {
      "cell_type": "code",
      "execution_count": null,
      "metadata": {
        "scrolled": true,
        "id": "bGE5FGWCrgDY"
      },
      "outputs": [],
      "source": [
        "which_rows"
      ]
    },
    {
      "cell_type": "code",
      "execution_count": null,
      "metadata": {
        "id": "oshSN1GbrgDY"
      },
      "outputs": [],
      "source": [
        "t3.loc[ which_rows, which_col ] = 'Woman'"
      ]
    },
    {
      "cell_type": "code",
      "execution_count": null,
      "metadata": {
        "id": "-eZ3oL3trgDY"
      },
      "outputs": [],
      "source": [
        "t3.head()"
      ]
    },
    {
      "cell_type": "code",
      "execution_count": null,
      "metadata": {
        "id": "Aye9syP3rgDZ"
      },
      "outputs": [],
      "source": [
        "t3['who'].value_counts()"
      ]
    },
    {
      "cell_type": "code",
      "execution_count": null,
      "metadata": {
        "id": "CcpuYzu6rgDZ"
      },
      "outputs": [],
      "source": [
        "# but we don't have to make temporary variables like which_rows, which_col\n",
        "# we can just do it in one statement:\n",
        "\n",
        "#          rows       column     value\n",
        "#        vvvvvvvvvv    vvv       vvvvv\n",
        "t3.loc[  t3.age<=16,  'who' ] = 'Child'\n",
        "t3.head()"
      ]
    },
    {
      "cell_type": "code",
      "execution_count": null,
      "metadata": {
        "id": "7j50TifbrgDZ"
      },
      "outputs": [],
      "source": [
        "t3['who'].value_counts()"
      ]
    },
    {
      "cell_type": "markdown",
      "metadata": {
        "id": "jxvJpW8TrgDZ"
      },
      "source": [
        "## Titanic exercise: choose data columns\n",
        "Look at those columns there, a few of them can be plotted numerically (age, fare), many are interesting categorically (survived, pclass, sex, who)\n",
        "\n",
        "Use `sns.catplot` and choose Series for x, y, hue, row and/or col, as well as a plot kind, and optionally dodge=True.\n",
        "\n",
        "Which configuration does the best job revealing a pattern of who is most likely to survive?"
      ]
    },
    {
      "cell_type": "code",
      "execution_count": null,
      "metadata": {
        "id": "j6LZGxjurgDZ"
      },
      "outputs": [],
      "source": [
        "# Available columns to choose for x, y, and col\n",
        "# 'sex'      : categorical male/female\n",
        "# 'who'      : categorical Man/Woman/Child\n",
        "# 'age'      : numerical years old\n",
        "# 'pclass'   : passenger class 1/2/3\n",
        "# 'fare'     : numerical ticket price\n",
        "# 'survived' : categorical 0/1\n",
        "\n",
        "# Choose a catplot kind (strip, swarm, box, boxen, violin, ...),\n",
        "# and choose columns for x, y, and col,\n",
        "# and consider whether dodge=True is better or not\n",
        "\n",
        "sns.catplot(data=t3,\n",
        "            kind='',\n",
        "            x='', \n",
        "            y='', \n",
        "            col='',\n",
        "            hue='survived', palette={0:'r',1:'g'},  # red for died, green for survived\n",
        "            dodge=False)"
      ]
    },
    {
      "cell_type": "markdown",
      "metadata": {
        "id": "pakHZbqQrgDZ"
      },
      "source": [
        "# Optional: Graphing police shootings\n",
        "This is one of the CORGIS links to a csv rendering of the Washington Post national database of fatal police shootings"
      ]
    },
    {
      "cell_type": "code",
      "execution_count": null,
      "metadata": {
        "id": "U0lWtCsargDa"
      },
      "outputs": [],
      "source": [
        "wapoALL = pd.read_csv('https://corgis-edu.github.io/corgis/datasets/csv/police_shootings/police_shootings.csv')\n",
        "wapoALL.head()"
      ]
    },
    {
      "cell_type": "markdown",
      "metadata": {
        "id": "tffG7SXUrgDa"
      },
      "source": [
        "Note for this dataset, all of the column names have `.` in them, so we can't use the shortcut notation with just periods. We need the full `wapoAll['Column.Name']` notation all the time. `:-(`"
      ]
    },
    {
      "cell_type": "code",
      "execution_count": null,
      "metadata": {
        "id": "0wwsjkiOrgDa"
      },
      "outputs": [],
      "source": [
        "# Just for illustration, grab a slice DataFrame for just 2016 incidents\n",
        "wapo = wapoALL[ wapoALL['Incident.Date.Year']==2016 ]\n",
        "wapo"
      ]
    },
    {
      "cell_type": "markdown",
      "metadata": {
        "id": "w5u3dVWqrgDa"
      },
      "source": [
        "Before trying this graph out, what do you expect it will look like?"
      ]
    },
    {
      "cell_type": "code",
      "execution_count": null,
      "metadata": {
        "id": "oAF64OuurgDa"
      },
      "outputs": [],
      "source": [
        "sns.catplot(data=wapo, x='Factors.Armed', y='Person.Age',\n",
        "            kind='swarm', s=3)"
      ]
    },
    {
      "cell_type": "markdown",
      "metadata": {
        "id": "AdmP8YcIrgDa"
      },
      "source": [
        "What went wrong up there?"
      ]
    },
    {
      "cell_type": "code",
      "execution_count": null,
      "metadata": {
        "id": "KzFO52t0rgDa"
      },
      "outputs": [],
      "source": [
        "# How are all the ways the victims were armed?\n",
        "wapo['Factors.Armed'].value_counts()"
      ]
    },
    {
      "cell_type": "code",
      "execution_count": null,
      "metadata": {
        "id": "y5cKrINhrgDb"
      },
      "outputs": [],
      "source": [
        "# Let's grab just the most common\n",
        "\n",
        "# note the common pattern of \n",
        "# wapo4 = wapo[            ...stuff-that-makes-a-list-of-T/F-to-select-rows...          ]\n",
        "# but the stuff, instead of being like\n",
        "#                        df['column'] <= value\n",
        "# this time uses the \"isin\" function\n",
        "\n",
        "wapo4 = wapo[  wapo['Factors.Armed'].isin( ['gun', 'knife', 'toy weapon', 'unarmed'] )  ]\n",
        "wapo4['Factors.Armed'].value_counts()"
      ]
    },
    {
      "cell_type": "code",
      "execution_count": null,
      "metadata": {
        "id": "1Z0rRUXdrgDb"
      },
      "outputs": [],
      "source": [
        "sns.catplot(data=wapo4, x='Factors.Armed', y='Person.Age',\n",
        "            kind='swarm', s=3)"
      ]
    },
    {
      "cell_type": "code",
      "execution_count": null,
      "metadata": {
        "id": "1rDkv1eHrgDb"
      },
      "outputs": [],
      "source": [
        "wapo4['Person.Race'].value_counts()"
      ]
    },
    {
      "cell_type": "markdown",
      "metadata": {
        "id": "fxOZFj5NrgDb"
      },
      "source": [
        "## Police Shootings Exercises\n",
        "Start over from the full DataFrame `wapoALL`.\n",
        "\n",
        "Using the example above of four weapon types, slice `wapoALL` (repeatedly) to get a smaller DataFrame with just years 2019-2022, just those four weapon types from above, and just the three common Person.Race categories.\n",
        "\n",
        "Then use `sns.catplot()` to make a graph that displays all those dimensions of data."
      ]
    },
    {
      "cell_type": "code",
      "execution_count": null,
      "metadata": {
        "id": "SBcQn8MyrgDb"
      },
      "outputs": [],
      "source": [
        "# what condition goes in ... to select rows with Incident.Date.Year from 2019-2022?\n",
        "wapoY = wapoALL[   ...   ]"
      ]
    },
    {
      "cell_type": "code",
      "execution_count": null,
      "metadata": {
        "id": "wOo5gGG_rgDb"
      },
      "outputs": [],
      "source": [
        "# see the example above to slice out the rows with the same four weapon types\n",
        "wapoYW = wapoY[   ...   ]"
      ]
    },
    {
      "cell_type": "code",
      "execution_count": null,
      "metadata": {
        "id": "IMGjm45ErgDb"
      },
      "outputs": [],
      "source": [
        "# slice similarly to select only rows where Person.Race is 'White', 'African American', or 'Hispanic'\n",
        "wapoYWR = wapoYW[   ...   ]"
      ]
    },
    {
      "cell_type": "code",
      "execution_count": null,
      "metadata": {
        "id": "EOn2PCotrgDc"
      },
      "outputs": [],
      "source": [
        "# Use sns.catplot() to graph the data in wapoYWR, \n",
        "# displaying all of those dimensions of the data\n"
      ]
    }
  ],
  "metadata": {
    "kernelspec": {
      "display_name": "Python 3 (ipykernel)",
      "language": "python",
      "name": "python3"
    },
    "language_info": {
      "codemirror_mode": {
        "name": "ipython",
        "version": 3
      },
      "file_extension": ".py",
      "mimetype": "text/x-python",
      "name": "python",
      "nbconvert_exporter": "python",
      "pygments_lexer": "ipython3",
      "version": "3.10.6"
    },
    "colab": {
      "provenance": [],
      "include_colab_link": true
    }
  },
  "nbformat": 4,
  "nbformat_minor": 0
}