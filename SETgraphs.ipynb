{
 "cells": [
  {
   "cell_type": "markdown",
   "metadata": {},
   "source": [
    "# Graphing SET data with Matplotlib and Pandas\n",
    "\n",
    "## Data load and prep"
   ]
  },
  {
   "cell_type": "code",
   "execution_count": null,
   "metadata": {},
   "outputs": [],
   "source": [
    "import matplotlib.pyplot as plt\n",
    "import pandas            as pd"
   ]
  },
  {
   "cell_type": "code",
   "execution_count": null,
   "metadata": {},
   "outputs": [],
   "source": [
    "url = 'https://raw.githubusercontent.com/RubeRad/tcscs/master/12SETcards.csv'\n",
    "df = pd.read_csv(url)"
   ]
  },
  {
   "cell_type": "code",
   "execution_count": null,
   "metadata": {
    "scrolled": true
   },
   "outputs": [],
   "source": [
    "df.head(12) # show 12 rows, i.e. the whole dataset"
   ]
  },
  {
   "cell_type": "markdown",
   "metadata": {},
   "source": [
    "## Exercise\n",
    "\n",
    "**Q1:** How many occurences of the value 84240 can you find, and what does each signify?\n",
    "\n",
    "**A:** *(type your answers)*\n",
    "\n",
    "**Q2:** What do all the NaN signify?\n",
    "\n",
    "**A:**\n"
   ]
  },
  {
   "cell_type": "code",
   "execution_count": null,
   "metadata": {
    "scrolled": true
   },
   "outputs": [],
   "source": [
    "df.columns"
   ]
  },
  {
   "cell_type": "markdown",
   "metadata": {},
   "source": [
    "**NOTE:** The Series names all have quotes, which means they are strings, not numbers. It will be more convenient for them to be numbers. This cell does that by replacing df.columns, which is an array full of strings, with an array starting with the same two strings, but then having all numbers"
   ]
  },
  {
   "cell_type": "code",
   "execution_count": null,
   "metadata": {},
   "outputs": [],
   "source": [
    "newcolumns = ['N', '81cN']\n",
    "numsets = range(0,15) \n",
    "newcolumns.extend(numsets)  # same as ['N','81cN',0,1,2,3,4,5,6,7,8,9,10,11,12,13,14]\n",
    "df.columns = newcolumns"
   ]
  },
  {
   "cell_type": "code",
   "execution_count": null,
   "metadata": {},
   "outputs": [],
   "source": [
    "df.columns"
   ]
  },
  {
   "cell_type": "markdown",
   "metadata": {},
   "source": [
    "**NOTE:** We can see that the column headers are now numbers"
   ]
  },
  {
   "cell_type": "markdown",
   "metadata": {},
   "source": [
    "**NOTE:** The values in the DataFrame are all total counts. We need to convert them to probabilities, so they are comparable even though the numbers get huger with more cards. That means dividing each column by the column nmaed '81cN'"
   ]
  },
  {
   "cell_type": "code",
   "execution_count": null,
   "metadata": {},
   "outputs": [],
   "source": [
    "# Do this only once!\n",
    "# If you accidentally do it again and make the probabilities too tiny,\n",
    "# back up to the beginning of the notebook and re-run all the cells\n",
    "for nset in numsets:         # for nset=0,1,2,...14\n",
    "    df[nset] /= df['81cN']   # divide the Series of counts by 81-choose-N to convert it to a probability"
   ]
  },
  {
   "cell_type": "code",
   "execution_count": null,
   "metadata": {},
   "outputs": [],
   "source": [
    "df.head()\n",
    "# Now they should look like probabilities\n",
    "# The first, biggest probability in there should be about 98%, right below it, about 95%"
   ]
  },
  {
   "cell_type": "markdown",
   "metadata": {},
   "source": [
    "## Graphing the data"
   ]
  },
  {
   "cell_type": "code",
   "execution_count": null,
   "metadata": {},
   "outputs": [],
   "source": [
    "# Create a new figure, with a size that is nice and big\n",
    "fig=plt.figure(figsize=(15,12))\n",
    "\n",
    "# Create two new subplots. The \"21\" part in each says 2 rows X 1 column configuration\n",
    "linax=fig.add_subplot(211) # Final 1 means first of the 2x1\n",
    "logax=fig.add_subplot(212) # Final 2 means second of the 2x1\n",
    "logax.set_yscale('log')    # The reason for the second is to have it be log scale\n",
    "\n",
    "# Use a loop to plot each curve onto each subplot\n",
    "# It's the same curve, will be rendered linear scale and log scale in the subplots:\n",
    "#   X values from column 'N' ([3,4,5,...12] cards)\n",
    "#   Y values from column nset ([0,1,2,...,14] SETs)\n",
    "for nset in numsets:\n",
    "    linax.plot(df['N'], df[nset], marker='o')  \n",
    "    logax.plot(df['N'], df[nset], marker='o')  \n",
    "    \n",
    "# Add some explanatory labeling    \n",
    "linax.set_title(\"What's the probability of various numbers of SETs as more cards are dealt?\")\n",
    "logax.set_xlabel('Number of cards dealt') # this applies for both\n",
    "linax.set_ylabel('Probability')\n",
    "logax.set_ylabel('Probability (log)')\n",
    "linax.legend(numsets, title='Number of SETs', ncol=3) # same legend also applies to both"
   ]
  },
  {
   "cell_type": "markdown",
   "metadata": {},
   "source": [
    "## Exercise\n",
    "\n",
    "**Q3**: Why does the '0 SETs' curve start near probability 1 and only decline, but all the other curves start near 0 and increase, then decrease?\n",
    "\n",
    "**A:**\n",
    "\n",
    "**Q4:** For a 12-card deal, what is the most likely (highest probability) number of SETs?\n",
    "\n",
    "**A:**"
   ]
  },
  {
   "cell_type": "markdown",
   "metadata": {},
   "source": [
    "# Graphing the data the other way "
   ]
  },
  {
   "cell_type": "code",
   "execution_count": null,
   "metadata": {},
   "outputs": [],
   "source": [
    "oopx = df.transpose()\n",
    "oopx.head()"
   ]
  },
  {
   "cell_type": "markdown",
   "metadata": {},
   "source": [
    "**NOTE:** If we just transpose df, columns 'N' and '81cN' become rows, which means they'd be included in the plots of every Series. One way to deal with that is by filtering those rows out.\n",
    "\n",
    "But the following cell, since we have numsets=[0,1,2,...14] already, we grab only those columns before transposing"
   ]
  },
  {
   "cell_type": "code",
   "execution_count": null,
   "metadata": {},
   "outputs": [],
   "source": [
    "fd = df[numsets].transpose()\n",
    "fd.head(15)\n",
    "# Should see that 98%, 95% now transposed from the first column to the first row"
   ]
  },
  {
   "cell_type": "code",
   "execution_count": null,
   "metadata": {},
   "outputs": [],
   "source": [
    "fd.columns"
   ]
  },
  {
   "cell_type": "markdown",
   "metadata": {},
   "source": [
    "**NOTE:** these columns are already numbers, but they're the wrong numbers! \n",
    "\n",
    "Just like we used nsets=range(0,15) above to spell out all possible numbers of SETs in our data, we use ncards=(3,12) here with the transposed data"
   ]
  },
  {
   "cell_type": "code",
   "execution_count": null,
   "metadata": {},
   "outputs": [],
   "source": [
    "ncards=range(3,13) # easier than [3,4,5,6,7,8,9,10,11,12]\n",
    "fd.columns=ncards"
   ]
  },
  {
   "cell_type": "code",
   "execution_count": null,
   "metadata": {},
   "outputs": [],
   "source": [
    "fd.head()\n",
    "# Should show column headers 3...12"
   ]
  },
  {
   "cell_type": "markdown",
   "metadata": {},
   "source": [
    "## Exercise\n",
    "\n",
    "Fill in the code cell below to make plots to view the data in the opposite sense"
   ]
  },
  {
   "cell_type": "code",
   "execution_count": null,
   "metadata": {
    "scrolled": true
   },
   "outputs": [],
   "source": [
    "# Since these are the other way, use variables that are named backwards...\n",
    "gif=plt.figure(figsize=(15,12))\n",
    "axlin=gif.add_subplot(211)\n",
    "axlog=gif.add_subplot(212)\n",
    "\n",
    "# fill in to plot DataFrame fd, following the example above\n",
    "# the X series for every plot will be the array nsets (which is [0,1,2,...14])\n",
    "\n"
   ]
  },
  {
   "cell_type": "markdown",
   "metadata": {},
   "source": [
    "## Exercise"
   ]
  },
  {
   "cell_type": "markdown",
   "metadata": {},
   "source": [
    "**Q5:** (Same as Q4) For a 12-card deal, what is the most likely (highest probability) number of SETs? -- how is the same answer evident from these graphs?\n",
    "\n",
    "**A:**\n",
    "\n",
    "**Q6:** What's up with the combination 7 cards, 4 SETs? How is the same answer evident in the previous graphs?\n",
    "\n",
    "**A:**\n",
    "\n",
    "**Q7:** Is 'start by dealing 12 cards' a better rule than 'start by dealing 9 cards'?\n",
    "\n",
    "**A:**"
   ]
  },
  {
   "cell_type": "code",
   "execution_count": null,
   "metadata": {},
   "outputs": [],
   "source": []
  }
 ],
 "metadata": {
  "kernelspec": {
   "display_name": "Python 3",
   "language": "python",
   "name": "python3"
  },
  "language_info": {
   "codemirror_mode": {
    "name": "ipython",
    "version": 3
   },
   "file_extension": ".py",
   "mimetype": "text/x-python",
   "name": "python",
   "nbconvert_exporter": "python",
   "pygments_lexer": "ipython3",
   "version": "3.8.10"
  }
 },
 "nbformat": 4,
 "nbformat_minor": 4
}
