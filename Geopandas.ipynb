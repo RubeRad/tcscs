{
 "cells": [
  {
   "cell_type": "markdown",
   "metadata": {},
   "source": [
    "# Geopandas and Choropleth Charts -- for Google COLAB\n",
    "\n",
    "Before importing, this does pip install on the virtual colab machine, to make sure the machine has the modules installed"
   ]
  },
  {
   "cell_type": "code",
   "execution_count": null,
   "metadata": {},
   "outputs": [],
   "source": [
    "# matplotlib/pandas/seaborn are standard enough we shouldn't need to worry\n",
    "!pip install geopandas\n",
    "!pip install descartes\n",
    "!pip install mapclassify"
   ]
  },
  {
   "cell_type": "markdown",
   "metadata": {},
   "source": [
    "Now that we're sure stuff is installed, it should be safe to import it"
   ]
  },
  {
   "cell_type": "code",
   "execution_count": null,
   "metadata": {},
   "outputs": [],
   "source": [
    "import matplotlib.pyplot as plt  # these we've seen before\n",
    "import pandas as pd\n",
    "\n",
    "import geopandas as gpd          # this is the point: pandas with geos!\n",
    "\n",
    "import descartes                 # these two won't be used explicitly,\n",
    "import mapclassify               # but will be used in the background"
   ]
  },
  {
   "cell_type": "markdown",
   "metadata": {},
   "source": [
    "## Geopandas data\n",
    "Geopandas is a layer on top of pandas, that can handle geographic polygons (or points) and make maps with them. Geopandas has a couple datasets built-in:"
   ]
  },
  {
   "cell_type": "code",
   "execution_count": null,
   "metadata": {},
   "outputs": [],
   "source": [
    "gpd.datasets.available"
   ]
  },
  {
   "cell_type": "markdown",
   "metadata": {},
   "source": [
    "`naturalearth_lowres` contains the outlines of 177 countries around the world, as well a few more useful columns. Once we read it in, the result is a pandas DataFrame like we've seen before, except there's a `geometry` column which adds special capabilities."
   ]
  },
  {
   "cell_type": "code",
   "execution_count": null,
   "metadata": {},
   "outputs": [],
   "source": [
    "world = gpd.read_file(gpd.datasets.get_path('naturalearth_lowres'))\n",
    "world.head(20)"
   ]
  },
  {
   "cell_type": "code",
   "execution_count": null,
   "metadata": {},
   "outputs": [],
   "source": [
    "world['continent'].value_counts()"
   ]
  },
  {
   "cell_type": "code",
   "execution_count": null,
   "metadata": {
    "scrolled": true
   },
   "outputs": [],
   "source": [
    "world['gdp_md_est'].describe()"
   ]
  },
  {
   "cell_type": "markdown",
   "metadata": {},
   "source": [
    "## Drawing as a map\n",
    "\n",
    "A geopandas dataframe has a .plot() function, which simply works:"
   ]
  },
  {
   "cell_type": "code",
   "execution_count": null,
   "metadata": {},
   "outputs": [],
   "source": [
    "world.plot()"
   ]
  },
  {
   "cell_type": "markdown",
   "metadata": {},
   "source": [
    "## Filtering rows\n",
    "This works the same way as we saw before with regular pandas DataFrames."
   ]
  },
  {
   "cell_type": "code",
   "execution_count": null,
   "metadata": {},
   "outputs": [],
   "source": [
    "asia = world[ world['continent'] == 'Asia' ]\n",
    "asia.plot()"
   ]
  },
  {
   "cell_type": "code",
   "execution_count": null,
   "metadata": {},
   "outputs": [],
   "source": [
    "noam = world[ world['continent'] == 'North America']\n",
    "noam.plot()"
   ]
  },
  {
   "cell_type": "code",
   "execution_count": null,
   "metadata": {},
   "outputs": [],
   "source": [
    "sixc = world[ world['continent'] != 'Antarctica' ]    # != means 'not-equal'\n",
    "sixc.plot()"
   ]
  },
  {
   "cell_type": "code",
   "execution_count": null,
   "metadata": {},
   "outputs": [],
   "source": [
    "# Exercise: create a filtered DataFrame the \"continent\" of 'Seven seas (open ocean)' \n",
    "# What is it?\n"
   ]
  },
  {
   "cell_type": "code",
   "execution_count": null,
   "metadata": {},
   "outputs": [],
   "source": [
    "# Exercise: create a filtered DataFrame containing any 1 country of your choosing \n",
    "# (filter using the 'name' or 'iso_a3' column instead of 'continent')\n"
   ]
  },
  {
   "cell_type": "markdown",
   "metadata": {},
   "source": [
    "## Combining plots\n",
    "\n",
    "This shows how geopandas can have multiple DataFrames (filters of the same DataFrame) onto the same map.\n",
    "\n",
    "Note the big difference is we have an Axes, and we tell each plot() that's where they should plot themselves."
   ]
  },
  {
   "cell_type": "code",
   "execution_count": null,
   "metadata": {
    "scrolled": false
   },
   "outputs": [],
   "source": [
    "plt.figure(figsize=(18,10))\n",
    "axes=plt.gca()\n",
    "sixc.plot(ax=axes, color='lightgrey')\n",
    "\n",
    "# Uncomment these one at a time\n",
    "#asia.plot(ax=axes, color='green')\n",
    "#noam.plot(ax=axes, color='purple')\n",
    "#axes.set_xticks([])\n",
    "#axes.set_yticks([])\n",
    "#for s in axes.spines.values(): s.set_visible(False) # one-liner for turning off all 4 spines\n",
    "# don't indent after that line!\n",
    "\n",
    "plt.show()"
   ]
  },
  {
   "cell_type": "markdown",
   "metadata": {},
   "source": [
    "## Exercise 1: Filter and Color\n",
    "* Modify the code cells above to create filtered DataFrames as instructed\n",
    "* Color the 1 country in 'Seven seas (open ocean)' red -- where is it?\n",
    "* Color your chosen country blue"
   ]
  },
  {
   "cell_type": "markdown",
   "metadata": {},
   "source": [
    "## Mapping U.S. States\n",
    "There are datasets out there suitable for Geopandas for all kinds of countries, regions, and subdivisions. A very good collection [can be found here](https://github.com/deldersveld/topojson). If you need to work with any of those be sure to click to the 'Raw' view, then Save As...\n",
    "\n",
    "This file `us-albers.json` came from that repository. It has the U.S. states, with Alaska/Hawaii scaled/shifted as customary to make a more compact map.\n",
    "\n",
    "Note this has 51 'states' in it -- why?"
   ]
  },
  {
   "cell_type": "code",
   "execution_count": null,
   "metadata": {
    "scrolled": false
   },
   "outputs": [],
   "source": [
    "# Note: for use on Google colab, this reads straight off the web via the url\n",
    "states = gpd.read_file('https://raw.githubusercontent.com/RubeRad/camcom/master/us-albers.json')\n",
    "states.info()"
   ]
  },
  {
   "cell_type": "code",
   "execution_count": null,
   "metadata": {},
   "outputs": [],
   "source": [
    "states.head()"
   ]
  },
  {
   "cell_type": "code",
   "execution_count": null,
   "metadata": {},
   "outputs": [],
   "source": [
    "states.plot()"
   ]
  },
  {
   "cell_type": "markdown",
   "metadata": {},
   "source": [
    "## Choropleth Maps\n",
    "The world 'choropleth' comes from Greek χῶρος (choros 'area/region') and (πλῆθος plethos 'multitude'). The main purpose (Greek τέλος) of Geopandas is choropleth maps. You just tell `plot()` what column you are interested in, and Geopandas will color each shape accordingly, using a color scheme/map based on the range of values it finds."
   ]
  },
  {
   "cell_type": "code",
   "execution_count": null,
   "metadata": {},
   "outputs": [],
   "source": [
    "plt.figure()\n",
    "axes=plt.gca()\n",
    "states.plot(column='census', ax=axes) # column 'census' is the population of each state\n",
    "plt.show()"
   ]
  },
  {
   "cell_type": "markdown",
   "metadata": {},
   "source": [
    "# Exercise 2: Choropleth Options\n",
    "One at a time, add/change options to `states.plot()` above, and see what happens:\n",
    "* `cmap='Blues'` (or Reds, Greens,... or OrRd, YlGnBu, etc, see [Matplotlib colormaps](https://matplotlib.org/tutorials/colors/colormaps.html))\n",
    "* `edgecolor='k'`\n",
    "* `legend=True`\n",
    "* `legend_kwds={'orientation':'horizontal'}`\n",
    "* `scheme='quantiles'`\n",
    "* `legend_kwds={'loc':'lower left'}`\n",
    "* `legend_kwds={'loc':'lower left', 'bbox_to_anchor':(1,0)}` \n",
    "\n",
    "**Note** what happened there (if you did it right) is first the choropleth used a smooth, continuous range of colors from whatever cmap was chosen. `scheme='quantiles'` switched it to 5 discrete colors from that cmap, and it totally changed the type of legend.\n",
    "\n",
    "The first use of `'lower left'` referred to where within the whole plot to put the legend. When `'bbox_to_anchor'` was added, the meaning of `'lower left'` changed to which corner of the legend to anchor. And (1,0) means 100% of the way to the right of the plot, and 0% of the way up the plot -- the coordinates are not related to the coordinates being plotted."
   ]
  },
  {
   "cell_type": "markdown",
   "metadata": {},
   "source": [
    "## Combining DataFrames\n",
    "\n",
    "Sometimes data you need to relate might be in different files. This example shows how to add more data about all the states from a separate csv file."
   ]
  },
  {
   "cell_type": "code",
   "execution_count": null,
   "metadata": {},
   "outputs": [],
   "source": [
    "# This one also reads the csv off the web\n",
    "ev2016 = pd.read_csv('https://raw.githubusercontent.com/RubeRad/camcom/master/2016ev.csv')\n",
    "ev2016.head()"
   ]
  },
  {
   "cell_type": "markdown",
   "metadata": {},
   "source": [
    "**Note** in our `states` DataFrame, the column with state names is `name`. In this new DataFrame, the column is named `State`. It is important that the values in the Series are spelled and punctuated and capitalized *exactly* the same, or that part of the data won't merge.\n",
    "\n",
    "After the merge, use `info()` and `head()` to verify that everything merged successfully -- same number of rows as before, and matched up properly."
   ]
  },
  {
   "cell_type": "code",
   "execution_count": null,
   "metadata": {},
   "outputs": [],
   "source": [
    "all = pd.merge(states, ev2016, left_on='name', right_on='State')\n",
    "all.info()"
   ]
  },
  {
   "cell_type": "code",
   "execution_count": null,
   "metadata": {},
   "outputs": [],
   "source": [
    "all.head() # scroll to the right to see the new columns"
   ]
  },
  {
   "cell_type": "markdown",
   "metadata": {},
   "source": [
    "**As seen above,** choropleths color regions based on values in a numerical column. However, what if the data is categorical? \n",
    "\n",
    "This shows an example of creating a new column with colors for categorical data, and having Geopandas map with those colors.\n",
    "\n",
    "Above we filtered out Asia and North America, and used the Geopandas `plot()` keyword `color` to draw each sub-DataFrame with a single color. We could do that here too, filter 'Winning Party'=='Republicans' or 'Democrats' and used two plot() statements, but if the number of categories gets larger, that gets awkward. So here's another way: we create a new column full of color names for Geopandas to use:"
   ]
  },
  {
   "cell_type": "code",
   "execution_count": null,
   "metadata": {},
   "outputs": [],
   "source": [
    "# 'red' and 'blue' is a little intense\n",
    "all['party_color'] = all['Winning Party'].map({'Republicans':'pink', 'Democrats':'lightblue'})\n",
    "all.head()\n",
    "# scroll right to see new column 'party_color'"
   ]
  },
  {
   "cell_type": "code",
   "execution_count": null,
   "metadata": {},
   "outputs": [],
   "source": [
    "all['party_color'].value_counts()"
   ]
  },
  {
   "cell_type": "code",
   "execution_count": null,
   "metadata": {},
   "outputs": [],
   "source": [
    "all.plot(color=all['party_color'], edgecolor='gray')"
   ]
  },
  {
   "cell_type": "markdown",
   "metadata": {},
   "source": [
    "## Exercise\n",
    "Using capabilities examined in the chloropleth exercise above make an excellent chloropleth visualization of `ev_per_million`"
   ]
  },
  {
   "cell_type": "code",
   "execution_count": null,
   "metadata": {
    "scrolled": true
   },
   "outputs": [],
   "source": [
    "# Here's the new column: electoral votes per million people: \n",
    "all['ev_per_million'] = all['Votes'] / all['census'] * 1000000\n",
    "all['ev_per_million'].head()"
   ]
  },
  {
   "cell_type": "markdown",
   "metadata": {},
   "source": [
    "# State Shootings Example"
   ]
  },
  {
   "cell_type": "code",
   "execution_count": null,
   "metadata": {},
   "outputs": [],
   "source": [
    "# All years\n",
    "wapoALL = pd.read_csv('https://corgis-edu.github.io/corgis/datasets/csv/police_shootings/police_shootings.csv')\n",
    "wapoALL.info()"
   ]
  },
  {
   "cell_type": "code",
   "execution_count": null,
   "metadata": {},
   "outputs": [],
   "source": [
    "# 2016 only\n",
    "wapo = wapoALL[ wapoALL['Incident.Date.Year'] == 2016 ]\n",
    "wapo.head()"
   ]
  },
  {
   "cell_type": "code",
   "execution_count": null,
   "metadata": {},
   "outputs": [],
   "source": [
    "# Group all the rows of wapo by common state, and fill the columns with...\n",
    "# For example min() gives the smallest value within each group, \n",
    "# so AK (Alaska) had no shootings on the 1st or 2nd of any month, etc\n",
    "# In the Age column, I don't know if 0 means babies, or unknown age\n",
    "wapo.groupby('Incident.Location.State').min().head()"
   ]
  },
  {
   "cell_type": "code",
   "execution_count": null,
   "metadata": {},
   "outputs": [],
   "source": [
    "# AK, AL, and AR had no shootings on 30th or 31st of a month, AK had no shootings in Dec\n",
    "# In CA an 86-year-old was shot\n",
    "wapo.groupby('Incident.Location.State').max().head()"
   ]
  },
  {
   "cell_type": "code",
   "execution_count": null,
   "metadata": {},
   "outputs": [],
   "source": [
    "# mean() gives the average age of shooting victims per state\n",
    "# Not too useful for date fields, average month is mid-year, average day is mid-month, all years are 2016\n",
    "# Note fields that don't make sense for mean() are omitted (Person.Gender, Person.Race, ...)\n",
    "wapo.groupby('Incident.Location.State').mean().head()"
   ]
  },
  {
   "cell_type": "markdown",
   "metadata": {},
   "source": [
    "All of the above are just examples, maybe the mean() age is useful. For what Emily is interested in, we want count():"
   ]
  },
  {
   "cell_type": "code",
   "execution_count": null,
   "metadata": {},
   "outputs": [],
   "source": [
    "# This time we'll save the grouped DataFrame in a variable, named state_counts\n",
    "# Note every column is countable, so every column gets counted, and yields the same count\n",
    "state_counts = wapo.groupby('Incident.Location.State').count()\n",
    "state_counts.head()"
   ]
  },
  {
   "cell_type": "markdown",
   "metadata": {},
   "source": [
    "**Protip**: This took me some more googling to figure out. Note how way up there wapo.head() has a first column of row numbers not in any column, that's the *index*. But all these groupby() results have Incident.Location.State as the index. Unfortunately that seems to mean the DataSeries name can't be used. "
   ]
  },
  {
   "cell_type": "code",
   "execution_count": null,
   "metadata": {},
   "outputs": [],
   "source": [
    "# This gives an error: \"Could not interpret input 'Incident.Location.State'\"\n",
    "sns.catplot(x='Incident.Location.State', y='Person.Name', data=state_counts, kind='bar')"
   ]
  },
  {
   "cell_type": "code",
   "execution_count": null,
   "metadata": {},
   "outputs": [],
   "source": [
    "# This is how to fix it, by copying the index column into a column with a name\n",
    "# Let's choose a name that's easier to type\n",
    "state_counts['state'] = state_counts.index\n",
    "state_counts.info() # See the extra DataSeries 'state' added to the end?"
   ]
  },
  {
   "cell_type": "markdown",
   "metadata": {},
   "source": [
    "Since all of the columns have the same counts, any is as good as any other. `Person.Name` holds the same counts as `Incident.Location.City`. But to make things less confusings, we can add a column with a better name."
   ]
  },
  {
   "cell_type": "code",
   "execution_count": null,
   "metadata": {},
   "outputs": [],
   "source": [
    "state_counts['n_shootings'] = state_counts['Person.Name']\n",
    "state_counts['n_shootings'].head()"
   ]
  },
  {
   "cell_type": "code",
   "execution_count": null,
   "metadata": {},
   "outputs": [],
   "source": [
    "# With a column named n_shootings, this looks more sensible:\n",
    "sns.catplot(x='state', y='n_shootings', data=state_counts, kind='bar')"
   ]
  },
  {
   "cell_type": "markdown",
   "metadata": {},
   "source": [
    "# Merging GeoDataFrames\n",
    "Remember from above how we merged `states` and `ev2016` into `all`? Well `all['iso_3166_2']` has 2-letter state abbreviations (inherited from `states`) that match `state_counts['state']` (inherited from `wapo`). \n",
    "\n",
    "That means we can also merge these together, so that other interesting columns (census (state population) and 2016 winning party (and `party_color`)) are available for sns/gpd plotting"
   ]
  },
  {
   "cell_type": "code",
   "execution_count": null,
   "metadata": {},
   "outputs": [],
   "source": [
    "# Merge the WaPo shooting counts with the previous based on matching 2-letter code\n",
    "wapo_merge = pd.merge(all, state_counts, left_on='iso_3166_2', right_on='state')\n",
    "wapo_merge.info()"
   ]
  },
  {
   "cell_type": "code",
   "execution_count": null,
   "metadata": {},
   "outputs": [],
   "source": [
    "# This is raw number of shootings, no accounting for state population\n",
    "wapo_merge.plot(column='n_shootings')"
   ]
  },
  {
   "cell_type": "markdown",
   "metadata": {},
   "source": [
    "# From Here:\n",
    "Either the bar plot above, or this map, can be tailored in all the ways demonstrated in the above examples. Some ideas:\n",
    "* Create a new column like shootings_per_million (see example ev_per_million above)\n",
    "  * Use that for either the map plot column, or the bar plot y\n",
    "\n",
    "For the bar plot:\n",
    "* Control the aspect and color \n",
    "* Sort the bars\n",
    "* Color bars by hue='Winning Party' \n",
    "  * (try palette='coolwarm', dodge=False)\n",
    "\n",
    "For the map plot:\n",
    "* Choose a useful palette from the link\n",
    "* Control the size/aspect\n",
    "* Add a legend"
   ]
  },
  {
   "cell_type": "code",
   "execution_count": null,
   "metadata": {},
   "outputs": [],
   "source": []
  }
 ],
 "metadata": {
  "kernelspec": {
   "display_name": "Python 3",
   "language": "python",
   "name": "python3"
  },
  "language_info": {
   "codemirror_mode": {
    "name": "ipython",
    "version": 3
   },
   "file_extension": ".py",
   "mimetype": "text/x-python",
   "name": "python",
   "nbconvert_exporter": "python",
   "pygments_lexer": "ipython3",
   "version": "3.8.10"
  }
 },
 "nbformat": 4,
 "nbformat_minor": 4
}
