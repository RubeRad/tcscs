{
 "cells": [
  {
   "cell_type": "markdown",
   "id": "50bcab28",
   "metadata": {},
   "source": [
    "# Welcome to Python!\n",
    "\n",
    "This is a Python Notebook, the realization of Donald Knuth's dream for a system of [Literate Programming](http://www.literateprogramming.com/knuthweb.pdf), in which formatted prose documentation and executable programming code can freely intermingle.\n",
    "\n",
    "> \"Let us change our traditional attitude to the construction of programs: Instead of imagining that our\n",
    "main task is to instruct a *computer* what to do, let us\n",
    "concentrate rather on explaining to *human beings* what\n",
    "we want a computer to do.\" --Donald Knuth, \"Literate Programming\""
   ]
  },
  {
   "cell_type": "markdown",
   "id": "46511925",
   "metadata": {},
   "source": [
    "## Types of cells\n",
    "Python Notebooks are comprised of *cells*. Each cell can be one of two kinds:\n",
    "1. Markdown cells (like this one) contain formatted text\n",
    "1. Code cells have executable Python\n",
    "\n",
    "Both kinds of cells can be *edited* by double-clicking into the cell, and _executed_, with the key-combo **SHIFT-ENTER**.\n",
    "* For Markdown Cells, *execution* means rendering all the formatting of the text\n",
    "* For Code cells, *execution* means runing the Python code"
   ]
  },
  {
   "cell_type": "markdown",
   "id": "e774fe8d",
   "metadata": {},
   "source": [
    "### Markdown Cells\n",
    "\n",
    "Markdown cells use 'markdown codes'. Double-click into this cell and the two above to see how some of the simplest markdown codes work for *italics*, **bold**, numbered and bulleted lists, section headings, indents, and links.\n",
    "\n",
    "Markdown also lets you use LaTeX for math stuff. The two roots of the quadratic equation $y(x)=ax^2+bx+c$, are at $$x=\\frac{-b\\pm\\sqrt{b^2-4ac}}{2a}$$"
   ]
  },
  {
   "cell_type": "markdown",
   "id": "f41c4d25",
   "metadata": {},
   "source": [
    "### Code cells\n",
    "Let's do some code cells and see how they work!"
   ]
  },
  {
   "cell_type": "code",
   "execution_count": null,
   "id": "3291efd2",
   "metadata": {},
   "outputs": [],
   "source": [
    "# This is a code cell\n",
    "# In python, anything on a line after a # is a comment.\n",
    "# (Like comments in Snap!, they don't have any effect on the program.)\n",
    "x=1"
   ]
  },
  {
   "cell_type": "markdown",
   "id": "e1012417",
   "metadata": {},
   "source": [
    "If you executed that code cell, it may not seem like anything happened, but you created a variable named x, and set it to 1, same as <img src=\"var_x_set_1.png\" width=150>\n",
    "If you want to see that that 1 is really in there, just like in Snap! you'd have to use a \"say\" block, in Python you have to do something to show it.\n",
    "\n",
    "Here's one option:"
   ]
  },
  {
   "cell_type": "code",
   "execution_count": null,
   "id": "13574aff",
   "metadata": {},
   "outputs": [],
   "source": [
    "print(x)   # note you have to have parentheses"
   ]
  },
  {
   "cell_type": "markdown",
   "id": "0d4afda5",
   "metadata": {},
   "source": [
    "Here's another option:"
   ]
  },
  {
   "cell_type": "code",
   "execution_count": null,
   "id": "7c80a2be",
   "metadata": {},
   "outputs": [],
   "source": [
    "x "
   ]
  },
  {
   "cell_type": "markdown",
   "id": "a3d4785e",
   "metadata": {},
   "source": [
    "That kind of shorthand doesn't work in regular Python scripts (programs), but in a Python Notebook, if on the last line you just mention a variable, the notebook assumes you want to see it."
   ]
  },
  {
   "cell_type": "markdown",
   "id": "ee27a852",
   "metadata": {},
   "source": [
    "## Looping Puzzles\n",
    "Earlier in the year we did a bunch of Looping Puzzles in Snap! Now we're going to do all the same puzzles in Python, so understanding of how computer programming works in Snap! can transfer to Python. \n",
    "\n",
    "Programming 'languages' are not as different as human languages, like English and French and Latin and Mandarin. They're really not quite as different as dialects, but more at the level of regional accents. They all have variables and if/then/else and loops and operators and custom blocks/subroutines. Mostly they just have different punctuation."
   ]
  },
  {
   "cell_type": "markdown",
   "id": "11b3d52d",
   "metadata": {},
   "source": [
    "### Puzzle #1\n",
    "In Snap! the puzzle was **Say the numbers 1..10.** As we have seen, in Python \"say\" becomes print(). There's a Python way to do loops too. In Snap! it's <img src=\"looping1.png\">\n",
    "\n"
   ]
  },
  {
   "cell_type": "code",
   "execution_count": null,
   "id": "dea173df",
   "metadata": {},
   "outputs": [],
   "source": [
    "# in Python, it's\n",
    "for i in range(1,11):\n",
    "    print(i)"
   ]
  },
  {
   "cell_type": "markdown",
   "id": "545ee438",
   "metadata": {},
   "source": [
    "Let's break that down, there are a number of important things going on:\n",
    "* `for` is the same as 'for' in Snap!\n",
    "* `i`: this is the name of the iterator (\"Stepper\") variable\n",
    "* `in`: this keyword goes together with 'for'\n",
    "* `range(1,11)`: this produces the list of values from 1 to 10\n",
    "    * Python is funny that way, with the second number meaning \"stop before you do this one\" instead of \"this is the last one to do\"\n",
    "* `:`: the colon at the end of the `for` line is ***VERY*** important!!\n",
    "    * The colon signals the start of a nested block\n",
    "    * Just like a bunch of Snap! blocks that are inside the jaws of a `for` block\n",
    "* spaces: The stuff that the `for` block is going to loop must be indented with spaces\n",
    "    * Number of spaces is unimportant, usually 2-4 spaces are used\n",
    "    * However all the lines in the same loop must be indented the ***same*** number of spaces!"
   ]
  },
  {
   "cell_type": "markdown",
   "id": "b8a65857",
   "metadata": {},
   "source": [
    "### Puzzle #1a\n",
    "Going from 1 to 10 is very Snap!, because Snap! is a 1-based programming language. Although Python does know about the number 1, it is naturally a 0-based language. \n",
    "* To get the first element of a list:\n",
    "  * In Snap! you ask for `item 1`\n",
    "  * In Python you ask for the item that is 0 away from the beginning of the list\n",
    "* To get the last element of length N list:\n",
    "  * In Snap! you ask for `item N`\n",
    "  * In Python you ask for the item that is N-1 away from the beginning of the list\n",
    "  \n",
    "So the more 'Pythonic' way to pose this puzzle, is **Print the numbers from 0 to 9.**\n",
    "\n",
    "In the empty code cell below, type (don't just copy/paste, get practice typing python) the following:\n",
    "\n",
    "`for i in range(10):`\n",
    "\n",
    "`    print(i)`"
   ]
  },
  {
   "cell_type": "code",
   "execution_count": null,
   "id": "d045581a",
   "metadata": {},
   "outputs": [],
   "source": []
  },
  {
   "cell_type": "markdown",
   "id": "6c051335",
   "metadata": {},
   "source": [
    "**NOTE:** `range()` works differently, depending on how many arguments you give it:\n",
    "* `range(limit)` starts at `0`, steps by +1, and stops before the `limit`\n",
    "* `range(start, limit)` starts at `start`, steps by +1, and stops before the `limit`\n",
    "* `range(start, limit, step)` starts at `start`, steps by `step`, and stops before the `limit`"
   ]
  },
  {
   "cell_type": "markdown",
   "id": "36fbc8a8",
   "metadata": {},
   "source": [
    "### Puzzle 2\n",
    "**Sequential: Print each number from 5 to 17.**\n",
    "\n",
    "Here's the Snap! way:<img src=\"looping2.png\" width=150>\n",
    "\n",
    "With what you learned about `for` and `range` above, do this puzzle in Python in the cell below:"
   ]
  },
  {
   "cell_type": "code",
   "execution_count": null,
   "id": "dfcb48e0",
   "metadata": {},
   "outputs": [],
   "source": []
  },
  {
   "cell_type": "markdown",
   "id": "29122b46",
   "metadata": {},
   "source": [
    "### Puzzle 3\n",
    "**Decreasing squares: print the numbers 144, 121, ... 9, 4, 1.**\n",
    "\n",
    "Here's the Snap! way:<img src=\"looping3.png\" width=200>\n",
    "With what you learned about `for` and `range` above, do this puzzle in Python in the cell below:"
   ]
  },
  {
   "cell_type": "code",
   "execution_count": null,
   "id": "ac42d893",
   "metadata": {},
   "outputs": [],
   "source": []
  },
  {
   "cell_type": "markdown",
   "id": "f69f6b86",
   "metadata": {},
   "source": [
    "### Puzzle 4\n",
    "**Powers of 2: 1,2,4,8,...256 (you can use the ^ operator, or an Accumulator-role script variable, see Factorials below)**\n",
    "\n",
    "Here's the Snap! way (using an Accumulator, because that's more instructive): <img src=\"looping4.png\" width=200>\n",
    "\n",
    "Do this puzzle in Python in the cell below:\n",
    "\n",
    "*Hints*:\n",
    "* Because you will need two statements 'inside' the `for` loop, both lines will need to be indented the same\n",
    "* In Python, you only need one line to initialize the new Accumulator variable\n",
    "\n"
   ]
  },
  {
   "cell_type": "code",
   "execution_count": null,
   "id": "b6079970",
   "metadata": {},
   "outputs": [],
   "source": []
  },
  {
   "cell_type": "markdown",
   "id": "38ff866a",
   "metadata": {},
   "source": [
    "### Puzzle 5\n",
    "**Powers of 2 minus 1: 0, 1, 3, 7, ... 255**\n",
    "\n",
    "Here's the Snap! way (using just an operator this time, in Python exponentiation is also `^`) <img src=\"looping5.png\" width=250>\n",
    "\n",
    "Do this puzzle in Python in the cell below:"
   ]
  },
  {
   "cell_type": "code",
   "execution_count": null,
   "id": "48b89d30",
   "metadata": {},
   "outputs": [],
   "source": []
  },
  {
   "cell_type": "markdown",
   "id": "b7f1c38e",
   "metadata": {},
   "source": [
    "### Puzzle 6\n",
    "**Odds less than 20: 1,3,5,...19**\n",
    "\n",
    "Here's the Snap! way: <img src=\"looping6.png\" width=250>\n",
    "\n",
    "Do this puzzle in Python in the cell below:\n",
    "\n",
    "*Hint:* the three-argument form of `range()` allows this solution to be simpler in Python than in Snap!"
   ]
  },
  {
   "cell_type": "code",
   "execution_count": null,
   "id": "35a35a24",
   "metadata": {},
   "outputs": [],
   "source": []
  },
  {
   "cell_type": "markdown",
   "id": "25f47199",
   "metadata": {},
   "source": [
    "### Puzzle 7\n",
    "**Odd cubes: 1, 27, 125, ... 1331**\n",
    "\n",
    "Here's the Snap! way:<img src=\"looping7.png\" width=300>\n",
    "\n",
    "Do this puzzle in Python in the cell below:\n",
    "\n"
   ]
  },
  {
   "cell_type": "code",
   "execution_count": null,
   "id": "f2d25577",
   "metadata": {},
   "outputs": [],
   "source": []
  },
  {
   "cell_type": "markdown",
   "id": "cb945966",
   "metadata": {},
   "source": [
    "### Puzzle 8\n",
    "**Threeses: 3, 13, 23, 33, ... 123**\n",
    "\n",
    "Here's the Snap! way: <img src=\"looping8.png\" width=\"250\">\n",
    "\n",
    "Do this puzzle in Python in the cell below:\n",
    "\n",
    "*Hint:* You will need to use parentheses to force order of operations (just like in math class), and make sure you get $(2i-1)^3$, not $2i-(1^3)$\n"
   ]
  },
  {
   "cell_type": "code",
   "execution_count": null,
   "id": "8bf47007",
   "metadata": {},
   "outputs": [],
   "source": []
  },
  {
   "cell_type": "markdown",
   "id": "96a7c798",
   "metadata": {},
   "source": [
    "### Puzzle 9\n",
    "**Factorials (use a script variable to \"Accumulate\" the product): 1, 2, 6, 24, 120, ... 40320**\n",
    "\n",
    "Here's the Snap! way: <img src=\"looping9.png\" width=200>\n",
    "\n",
    "Do this puzzle in Python in the cell below:"
   ]
  },
  {
   "cell_type": "code",
   "execution_count": null,
   "id": "53e60309",
   "metadata": {},
   "outputs": [],
   "source": []
  },
  {
   "cell_type": "markdown",
   "id": "47d77cb2",
   "metadata": {},
   "source": [
    "### Puzzle 10\n",
    "**Make a custom block divides(a,b) which reports True \\iff a divides b (the mod operator can help with this)**\n",
    "\n",
    "Here's the Snap! way: <img src=\"looping10.png\" width=400>\n",
    "\n",
    "'Creating custom blocks' in Python is called _Defining functions_. I'm going do this one for you, because it takes a bunch more explaining:"
   ]
  },
  {
   "cell_type": "code",
   "execution_count": null,
   "id": "b8e86d49",
   "metadata": {},
   "outputs": [],
   "source": [
    "# Report True if a divides b\n",
    "# i.e. if b divided by a leaves remainder 0\n",
    "def divides(a, b):\n",
    "    return (b%a == 0)"
   ]
  },
  {
   "cell_type": "markdown",
   "id": "f7ccaf6c",
   "metadata": {},
   "source": [
    "OK this needs another breakdown\n",
    "* `#`: Just like in Snap!, ***ALL*** defined functions deserve a comment about what they are for and how they are to be used\n",
    "* `def`: This is the Python keyword that says \"New function is now being defined\"\n",
    "* `divides(...)`: This is the name of the new function. Unlike Snap! where the custom block can interleave 'Title Text' and 'Input Names' to look as much as possible like English, in Python, the name of the function must be first, with arguments in parentheses. Function names may be longer with `words_and_underscores` or `CamelCase`\n",
    "* `a,b`: These are the variables that get passed into the new function, that you're going to do something with.\n",
    "* `:` Just like at the end of a `for` line, a `def` line ***MUST*** end with a colon, and all the lines 'inside' the function must be indented.\n",
    "* `return`: same as Snap!'s `report`\n",
    "* `%`: Python's modulus operator\n",
    "* `==`: ***THIS IS VERY VERY VERY VERY IMPORTANT!!!***. \n",
    " * In Python, one = is *assignment*, a command. When you tell Python `x=stuff` you are telling Python to figure out the `stuff` (maybe it's just a number, maybe it's a calculation), and stuff it into the variable `x`.\n",
    " * However, two == is *a question*. Are these two things the same? If they are, the answer is `True` (spelled in Python with a capital T). If the two things are not the same, then the answer is `False`\n",
    " * In this example, Python will compute `b%a`, the remainder when dividing $b\\div a$.\n",
    "   * If the remainder is 0, then the question is \"is `0 == 0`?\" and the answer is `True`, a does divide b\n",
    "   * If the remainder is not 0 then the question is \"is `b%a == 0`?\" and the answer is `False`, a does not divide b\n",
    "   \n",
    "Try out different values in the cell below to verify that the `divides` function behaves as it should:"
   ]
  },
  {
   "cell_type": "code",
   "execution_count": null,
   "id": "1da03934",
   "metadata": {},
   "outputs": [],
   "source": [
    "divides(2,7)"
   ]
  },
  {
   "cell_type": "markdown",
   "id": "ca948607",
   "metadata": {},
   "source": [
    "Here is what if/else looks like in Python, using the `divides` function to provide `True` or `False` values:"
   ]
  },
  {
   "cell_type": "code",
   "execution_count": null,
   "id": "a863e58e",
   "metadata": {},
   "outputs": [],
   "source": [
    "if divides(2,7):      # Note the if line MUST end with a colon\n",
    "    print('yup')      # everything inside the 'if' block must be indented\n",
    "else:                 # If there is an else: it also must have a colon\n",
    "    print('nope')     # and its lines indented\n",
    "    \n",
    "# Run this cell, passing different values to divides(), so you can make it say 'yup' and make it say 'nope'"
   ]
  },
  {
   "cell_type": "markdown",
   "id": "567103e0",
   "metadata": {},
   "source": [
    "### Puzzle 11\n",
    "**Numbers which either 2 or 3 divide: 2,3,4,6,8,9,12,14,...40**\n",
    "\n",
    "Here's the Snap! way: <img src=\"looping11.png\" width=300>\n",
    "\n",
    "Do this puzzle in Python in the cell below:\n",
    "\n",
    "*Hints:* \n",
    "* In Python you can just type `or`\n",
    "* You will not need the `else:` part of the example above\n",
    "* You will need to indent inside `for:`, and *extra-indent* inside the `if:`\n",
    "  * (Just like the 'say' block is further right than the 'if' block in Snap!)"
   ]
  },
  {
   "cell_type": "code",
   "execution_count": null,
   "id": "8eb5dd34",
   "metadata": {},
   "outputs": [],
   "source": []
  },
  {
   "cell_type": "markdown",
   "id": "70002fe4",
   "metadata": {},
   "source": [
    "### Puzzle 12\n",
    "**Numbers which either 2 or 3 divide, but not both: 2,3,4, 8,9, 14, ... 40**\n",
    "\n",
    "Here's the Snap! way: <img src=\"looping12.png\" width=500>\n",
    "\n",
    "Do the puzzle in Python in the cell below:\n",
    "\n",
    "*Hint:* \n",
    "* Python also understands `and` and `not`\n",
    "* The whole trick here, compared to Puzzle 11, is using parentheses to force the proper nesting of the logic (as illustrated in Snap! by the varying green shadings)"
   ]
  },
  {
   "cell_type": "code",
   "execution_count": null,
   "id": "90306bc5",
   "metadata": {},
   "outputs": [],
   "source": []
  },
  {
   "cell_type": "markdown",
   "id": "8ac333e6",
   "metadata": {},
   "source": [
    "### Puzzle 13\n",
    "**Multiplication table values: 1,2,3,...10, 2,4,6,...20, ... 10,20,30,...100**\n",
    "Here's the Snap! way: <img src=\"looping13.png\" width=200>\n",
    "\n",
    "Do the puzzle in Python in the cell below:\n",
    "\n",
    "*Hints:*\n",
    "* Both `for` lines need colons\n",
    "* You will need two levels of indentation\n",
    "* Be careful with `range()` to get 1..10, not 0..9"
   ]
  },
  {
   "cell_type": "code",
   "execution_count": null,
   "id": "46fdd076",
   "metadata": {},
   "outputs": [],
   "source": []
  },
  {
   "cell_type": "markdown",
   "id": "cef6dbf5",
   "metadata": {},
   "source": [
    "### Puzzle 15\n",
    "(Yes I skipped 14)\n",
    "\n",
    "**Non-Redundant multiplication table sentences: \"Multiples of 1: 1x1 is 1, 1x2 is 2, ... 1x10 is 10, Multiples of 2: 2x2 is 4, ...\"** Start the 2s with 2x2, because 2x1 is covered already by 1x2.\n",
    "\n",
    "Here is the Snap! way: <img src=\"looping15.png\" width=400>\n",
    "\n",
    "Do the puzzle in Python in the cell below:\n",
    "\n",
    "*Hints*:\n",
    "* Note which lines are inside/outside which `for` loops\n",
    "* \"Non-redundant\" means the inner loop should not start at 1!\n",
    "* You can get `print()` to say multiple things, just separate them with commas, like `print('x is', x, 'y is', y)`\n",
    "* Text to print must be enclosed in either `'` or `\"`. You should prefer `'`"
   ]
  },
  {
   "cell_type": "code",
   "execution_count": null,
   "id": "f52ff563",
   "metadata": {},
   "outputs": [],
   "source": []
  },
  {
   "cell_type": "markdown",
   "id": "272ccc55",
   "metadata": {},
   "source": [
    "### Puzzle 16\n",
    "**Pairs of numbers 0..7 that are at least four apart: \"0 4\" \"0 5\" ... \"7 3\"** (Note I changed this from before to make it 0-based and more Pythonic)\n",
    "\n",
    "Here's the Snap! way: <img src=\"looping16.png\" width=300>\n",
    "\n",
    "*Hint:* Python has an `abs()` function, and a `>` operator (even better: also a `>=` operator) "
   ]
  },
  {
   "cell_type": "code",
   "execution_count": null,
   "id": "08d775f1",
   "metadata": {},
   "outputs": [],
   "source": []
  },
  {
   "cell_type": "markdown",
   "id": "0c1fe37c",
   "metadata": {},
   "source": [
    "### Puzzle 17\n",
    "\n",
    "**Animals at least four apart: \"Aardvark Elephant\", \"Aardvark Frog\", ...**\n",
    "\n",
    "Here's the Snap! way: <img src=\"looping17.png\" width=500>\n",
    "\n",
    "The next cell will help you get started with Python lists;\n",
    "\n",
    "Then do the puzzle in the next empty cell\n",
    "\n",
    "*Hint:* The Snap! example had to use 1..8, but Python will need to use 0..7, like in Puzzle 15"
   ]
  },
  {
   "cell_type": "code",
   "execution_count": null,
   "id": "29281748",
   "metadata": {},
   "outputs": [],
   "source": [
    "# This is how you do a list in Python, take careful note of the punctuation\n",
    "animals = ['Aardvark', 'Beagle', 'Cat']   # finish the rest of the list\n",
    "\n",
    "# Python is 0-indexed, the beginning of the list is item [0]\n",
    "animals[0]    # put different numbers in here and re-run the cell\n",
    "# what if you try indices that are too big? How about negative?\n"
   ]
  },
  {
   "cell_type": "code",
   "execution_count": null,
   "id": "2d30f752",
   "metadata": {},
   "outputs": [],
   "source": [
    "# do the puzzle in this cell\n",
    "# you don't have to set animals again, \n",
    "# it will still be available from running the previous cell"
   ]
  },
  {
   "cell_type": "markdown",
   "id": "30c2300f",
   "metadata": {},
   "source": [
    "### Puzzle 20\n",
    "**CHALLENGE: Primes less than 1000**\n",
    "\n",
    "Here's the Snap! way which is completely stupid: A custom block: <img src=\"prime.png\" width=\"500\">\n",
    "\n",
    "And a script which uses the custom block: <img src=\"looping20.png\" width=200>\n",
    "\n",
    "Do this puzzle in the next two code cells:"
   ]
  },
  {
   "cell_type": "code",
   "execution_count": null,
   "id": "fbb6b240",
   "metadata": {},
   "outputs": [],
   "source": [
    "# In this cell, define the function prime(n)\n",
    "# And include the comments as in the Snap! example\n",
    "    "
   ]
  },
  {
   "cell_type": "code",
   "execution_count": null,
   "id": "a66cc2ea",
   "metadata": {},
   "outputs": [],
   "source": [
    "# In this cell, replicate the Snap! script which uses the prime block"
   ]
  }
 ],
 "metadata": {
  "kernelspec": {
   "display_name": "Python 3 (ipykernel)",
   "language": "python",
   "name": "python3"
  },
  "language_info": {
   "codemirror_mode": {
    "name": "ipython",
    "version": 3
   },
   "file_extension": ".py",
   "mimetype": "text/x-python",
   "name": "python",
   "nbconvert_exporter": "python",
   "pygments_lexer": "ipython3",
   "version": "3.10.6"
  }
 },
 "nbformat": 4,
 "nbformat_minor": 5
}
