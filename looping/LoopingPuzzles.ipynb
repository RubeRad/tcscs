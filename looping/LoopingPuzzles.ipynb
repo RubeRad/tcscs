{
 "cells": [
  {
   "cell_type": "markdown",
   "id": "c63ea743",
   "metadata": {
    "colab_type": "text",
    "id": "view-in-github"
   },
   "source": [
    "<a href=\"https://colab.research.google.com/github/RubeRad/tcscs/blob/master/looping/LoopingPuzzles.ipynb\" target=\"_parent\"><img src=\"https://colab.research.google.com/assets/colab-badge.svg\" alt=\"Open In Colab\"/></a>"
   ]
  },
  {
   "cell_type": "markdown",
   "id": "50bcab28",
   "metadata": {
    "id": "50bcab28"
   },
   "source": [
    "# Welcome to Python!\n",
    "\n",
    "This is a Python Notebook, the realization of Donald Knuth's dream for a system of [Literate Programming](http://www.literateprogramming.com/knuthweb.pdf), in which formatted prose documentation and executable programming code can freely intermingle.\n",
    "\n",
    "> \"Let us change our traditional attitude to the construction of programs: Instead of imagining that our main task is to instruct a *computer* what to do, let us concentrate rather on explaining to *human beings* what we want a computer to do.\" --Donald Knuth, \"Literate Programming\""
   ]
  },
  {
   "cell_type": "markdown",
   "id": "46511925",
   "metadata": {
    "id": "46511925"
   },
   "source": [
    "## Types of cells\n",
    "Python Notebooks are comprised of *cells*. Each cell can be one of two kinds:\n",
    "1. Markdown cells (like this one) contain formatted text\n",
    "1. Code cells have executable Python\n",
    "\n",
    "Both kinds of cells can be *edited* by double-clicking into the cell, and _executed_, with the key-combo **SHIFT-ENTER**.\n",
    "* For Markdown Cells, *execution* means rendering all the formatting of the text\n",
    "* For Code cells, *execution* means runing the Python code"
   ]
  },
  {
   "cell_type": "markdown",
   "id": "e774fe8d",
   "metadata": {
    "id": "e774fe8d"
   },
   "source": [
    "### Markdown Cells\n",
    "\n",
    "Markdown cells use 'markdown codes'. Double-click into this cell and the two above to see how some of the simplest markdown codes work for *italics*, **bold**, numbered and bulleted lists, section headings, indents, and links.\n",
    "\n",
    "Markdown also lets you use LaTeX for math stuff. The two roots of the quadratic equation $y(x)=ax^2+bx+c$, are at $$x=$$\n",
    "\n",
    "(Double-click this cell to create the quadratic formula in LaTeX, and then this line can be deleted.)"
   ]
  },
  {
   "cell_type": "markdown",
   "id": "f41c4d25",
   "metadata": {
    "id": "f41c4d25"
   },
   "source": [
    "### Code cells\n",
    "Let's do some code cells and see how they work!"
   ]
  },
  {
   "cell_type": "code",
   "execution_count": null,
   "id": "3291efd2",
   "metadata": {
    "id": "3291efd2"
   },
   "outputs": [],
   "source": [
    "# This is a code cell\n",
    "# In python, anything on a line after a # is a comment.\n",
    "# (Like comments in Snap!, they don't have any effect on the program.)\n",
    "x=1"
   ]
  },
  {
   "cell_type": "markdown",
   "id": "e1012417",
   "metadata": {
    "id": "e1012417"
   },
   "source": [
    "If you executed that code cell, it may not seem like anything happened, but you created a variable named x, and set it to 1, same as <img src=\"https://github.com/RubeRad/tcscs/blob/master/looping/var_x_set_1.png?raw=1\" width=150>\n",
    "\n",
    "If you want to see that that 1 is really in there, just like in Snap! you'd have to use a \"say\" block, in Python you have to do something to show it.\n",
    "\n",
    "Here's one option:"
   ]
  },
  {
   "cell_type": "code",
   "execution_count": null,
   "id": "13574aff",
   "metadata": {
    "id": "13574aff"
   },
   "outputs": [],
   "source": [
    "print(x)   # note you have to have parentheses"
   ]
  },
  {
   "cell_type": "markdown",
   "id": "0d4afda5",
   "metadata": {
    "id": "0d4afda5"
   },
   "source": [
    "Here's a special shorthand, available in Jupyter Notebooks:"
   ]
  },
  {
   "cell_type": "code",
   "execution_count": null,
   "id": "7c80a2be",
   "metadata": {
    "id": "7c80a2be"
   },
   "outputs": [],
   "source": [
    "x "
   ]
  },
  {
   "cell_type": "markdown",
   "id": "a3d4785e",
   "metadata": {
    "id": "a3d4785e"
   },
   "source": [
    "That kind of shorthand doesn't work in regular Python scripts (programs), but in a Python Notebook, if on the last line of a code cell you just mention a variable, the notebook assumes you want to see it."
   ]
  },
  {
   "cell_type": "markdown",
   "id": "ee27a852",
   "metadata": {
    "id": "ee27a852"
   },
   "source": [
    "## Looping Puzzles\n",
    "Earlier in the year we did a bunch of Looping Puzzles in Snap! Now we're going to do all the same puzzles in Python, so understanding of how computer programming works in Snap! can transfer to Python. \n",
    "\n",
    "Programming 'languages' are not as different as human languages, like English and French and Latin and Mandarin. They're really not quite as different as dialects, but more at the level of regional accents. They all have variables and if/then/else and loops and operators and custom blocks/subroutines. Mostly they just have different punctuation."
   ]
  },
  {
   "cell_type": "markdown",
   "id": "11b3d52d",
   "metadata": {
    "id": "11b3d52d"
   },
   "source": [
    "### Puzzle #1: Easy Peasy\n",
    "In Snap! the puzzle was **Say the numbers 1..10.** As we have seen, in Python \"say\" becomes print(). There's a Python way to do loops too. In Snap! it's \n",
    "\n",
    "<img src=\"https://github.com/RubeRad/tcscs/blob/master/looping/looping1.png?raw=1\">\n",
    "\n"
   ]
  },
  {
   "cell_type": "code",
   "execution_count": null,
   "id": "dea173df",
   "metadata": {
    "id": "dea173df"
   },
   "outputs": [],
   "source": [
    "# in Python, it's\n",
    "for i in range(1,11):\n",
    "    print(i)"
   ]
  },
  {
   "cell_type": "markdown",
   "id": "545ee438",
   "metadata": {
    "id": "545ee438"
   },
   "source": [
    "Let's break that down, there are a number of important things going on:\n",
    "* `for` is the same as 'for' in Snap!\n",
    "* `i`: this is the name of the iterator (\"index\") variable\n",
    "* `in`: this keyword goes together with 'for'\n",
    "* `range(1,11)`: this produces the list of values from 1 to 10\n",
    "    * Python is funny that way, with the second number meaning \"stop before you do this one\" instead of \"this is the last one to do\"\n",
    "* `:`: the colon at the end of the `for` line is ***VERY*** important!!\n",
    "    * The colon signals the start of a nested block\n",
    "    * Just like a bunch of Snap! blocks that are inside the jaws of a `for` block\n",
    "* spaces: The stuff that the `for` block is going to loop must be indented with spaces\n",
    "    * Number of spaces is unimportant, usually 2-4 spaces are used\n",
    "    * However all the lines in the same loop must be indented the ***same*** number of spaces!"
   ]
  },
  {
   "cell_type": "markdown",
   "id": "b8a65857",
   "metadata": {
    "id": "b8a65857"
   },
   "source": [
    "### Puzzle #1.5: Easy Pythony\n",
    "Going from 1 to 10 is very Snap!, because Snap! is a 1-based programming language. Although Python does know about the number 1, it is naturally a 0-based language. \n",
    "* To get the first element of a list:\n",
    "  * In Snap! you ask for `item 1`\n",
    "  * In Python you ask for the item that is `[0]` away from the beginning of the list\n",
    "* To get the last element of length N list:\n",
    "  * In Snap! you ask for `item N`\n",
    "  * In Python you ask for the item that is `[N-1]` away from the beginning of the list\n",
    "  \n",
    "So the more 'Pythonic' way to pose this puzzle, is **Print the numbers from 0 to 9.**\n",
    "\n",
    "In the empty code cell below, type (don't just copy/paste, get practice typing python) the following:\n",
    "\n",
    "`for i in range(10):`\n",
    "\n",
    "&emsp;&emsp;`print(i)`"
   ]
  },
  {
   "cell_type": "code",
   "execution_count": null,
   "id": "d045581a",
   "metadata": {
    "id": "d045581a"
   },
   "outputs": [],
   "source": []
  },
  {
   "cell_type": "markdown",
   "id": "6c051335",
   "metadata": {
    "id": "6c051335"
   },
   "source": [
    "**NOTE:** `range()` works differently, depending on how many arguments you give it:\n",
    "* `range(limit)` starts at `0`, steps by +1, and stops before the `limit`\n",
    "* `range(start, limit)` starts at `start`, steps by +1, and stops before the `limit`\n",
    "* `range(start, limit, step)` starts at `start`, steps by `step`, and stops before the `limit`\n",
    "  * Can go backwards if `step<0`"
   ]
  },
  {
   "cell_type": "markdown",
   "id": "36fbc8a8",
   "metadata": {
    "id": "36fbc8a8"
   },
   "source": [
    "### Puzzle 2\n",
    "**Still Really Easy: Print each number from 5 to 17.**\n",
    "\n",
    "Here's the Snap! way:\n",
    "\n",
    "<img src=\"https://github.com/RubeRad/tcscs/blob/master/looping/looping2.png?raw=1\" width=150>\n",
    "\n",
    "With what you learned about `for` and `range` above, do this puzzle in Python in the cell below:"
   ]
  },
  {
   "cell_type": "code",
   "execution_count": null,
   "id": "dfcb48e0",
   "metadata": {
    "id": "dfcb48e0"
   },
   "outputs": [],
   "source": []
  },
  {
   "cell_type": "markdown",
   "id": "cb945966",
   "metadata": {
    "id": "cb945966"
   },
   "source": [
    "### Puzzle 3\n",
    "**Threeses: 3, 13, 23, 33, ... 123**\n",
    "\n",
    "Here's the Snap! way: \n",
    "\n",
    "<img src=\"https://github.com/RubeRad/tcscs/blob/master/looping/looping8.png?raw=1\" width=\"250\">\n",
    "\n",
    "Do this puzzle in Python in the cell below:\n"
   ]
  },
  {
   "cell_type": "code",
   "execution_count": null,
   "id": "f40d0a84",
   "metadata": {},
   "outputs": [],
   "source": []
  },
  {
   "cell_type": "markdown",
   "id": "01c8040f",
   "metadata": {},
   "source": [
    "### Puzzle 3.5\n",
    "Redo **Threeses**, but using the 3-argument form of range() (and no arithmetic)"
   ]
  },
  {
   "cell_type": "code",
   "execution_count": null,
   "id": "866f91ff",
   "metadata": {},
   "outputs": [],
   "source": []
  },
  {
   "cell_type": "markdown",
   "id": "29122b46",
   "metadata": {
    "id": "29122b46"
   },
   "source": [
    "### Puzzle 4\n",
    "**Decreasing squares: print the numbers 144, 121, ... 9, 4, 1.**\n",
    "\n",
    "Here's the Snap! way:\n",
    "\n",
    "<img src=\"https://github.com/RubeRad/tcscs/blob/master/looping/looping3.png?raw=1\" width=200>\n",
    "\n",
    "With what you learned about `for` and `range` above, do this puzzle in Python in the cell below:"
   ]
  },
  {
   "cell_type": "code",
   "execution_count": null,
   "id": "8f24abc3",
   "metadata": {},
   "outputs": [],
   "source": []
  },
  {
   "cell_type": "markdown",
   "id": "2c775d8d",
   "metadata": {},
   "source": [
    "### Puzzle 5\n",
    "**Odd Cubes: 1, 27, 125, ... 6859**\n",
    "\n",
    "<img src=\"https://github.com/RubeRad/tcscs/blob/master/looping/oddcubes.png?raw=1\" width=350>\n",
    "\n",
    "Hints:\n",
    "* Python for exponentiation is `^`\n",
    "* You will need to use parentheses to force order of operations (just like in math class), and make sure you get $(2i+1)^3$, not $2i+(1^3)$"
   ]
  },
  {
   "cell_type": "code",
   "execution_count": null,
   "id": "5344f8b5",
   "metadata": {},
   "outputs": [],
   "source": []
  },
  {
   "cell_type": "markdown",
   "id": "399e1228",
   "metadata": {},
   "source": [
    "### Puzzle 5.5\n",
    "\n",
    "Redo **Odd Cubes**, but using the 3-argument form of range() (and less arithmetic)"
   ]
  },
  {
   "cell_type": "code",
   "execution_count": null,
   "id": "6e19ea2e",
   "metadata": {},
   "outputs": [],
   "source": []
  },
  {
   "cell_type": "markdown",
   "id": "3a4e9cea",
   "metadata": {},
   "source": [
    "## Accumulator Pattern"
   ]
  },
  {
   "cell_type": "markdown",
   "id": "f69f6b86",
   "metadata": {
    "id": "f69f6b86"
   },
   "source": [
    "### Puzzle 6\n",
    "**Powers of 2: 1,2,4,8,...256**\n",
    "\n",
    "Snap! (and Python) can just exponentiate with `^`, but the point of these examples is to demonstrate use of an Accumulator variable: \n",
    "\n",
    "<img src=\"https://github.com/RubeRad/tcscs/blob/master/looping/looping4.png?raw=1\" width=200>\n",
    "\n",
    "Do this puzzle in Python in the cell below:\n",
    "\n",
    "*Hints*:\n",
    "* In Python, you only need one line to both declare and initialize the new Accumulator variable\n",
    "* Because you will need two statements 'inside' the `for` loop, both lines will need to be indented the same\n",
    "\n"
   ]
  },
  {
   "cell_type": "code",
   "execution_count": null,
   "id": "b6079970",
   "metadata": {
    "id": "b6079970"
   },
   "outputs": [],
   "source": []
  },
  {
   "cell_type": "markdown",
   "id": "38ff866a",
   "metadata": {
    "id": "38ff866a"
   },
   "source": [
    "### Puzzle 7\n",
    "**Triangular numbers: 1, 3, 6, 10, ...91** i.e. $\\Sigma_{k=1}^i k$\n",
    "\n",
    "Here's Snap!\n",
    "\n",
    "<img src=\"https://github.com/RubeRad/tcscs/blob/master/looping/triangular.png?raw=1\" width=300>\n",
    "\n",
    "Do this puzzle in Python in the cell below:"
   ]
  },
  {
   "cell_type": "code",
   "execution_count": null,
   "id": "8bf47007",
   "metadata": {
    "id": "8bf47007"
   },
   "outputs": [],
   "source": []
  },
  {
   "cell_type": "markdown",
   "id": "96a7c798",
   "metadata": {
    "id": "96a7c798"
   },
   "source": [
    "### Puzzle 8\n",
    "**Factorials: 1, 2, 6, 24, 120, ... 40320**\n",
    "\n",
    "Here's the Snap! way: \n",
    "\n",
    "<img src=\"https://github.com/RubeRad/tcscs/blob/master/looping/looping9.png?raw=1\" width=200>\n",
    "\n",
    "Do this puzzle in Python in the cell below:"
   ]
  },
  {
   "cell_type": "code",
   "execution_count": null,
   "id": "53e60309",
   "metadata": {
    "id": "53e60309"
   },
   "outputs": [],
   "source": []
  },
  {
   "cell_type": "markdown",
   "id": "778bd078",
   "metadata": {},
   "source": [
    "## Filter pattern (and defining functions)"
   ]
  },
  {
   "cell_type": "markdown",
   "id": "47d77cb2",
   "metadata": {
    "id": "47d77cb2"
   },
   "source": [
    "### Puzzle 9\n",
    "**Make a custom block divides(a,b) which reports True $\\iff$ a divides b (the mod operator can help with this)**\n",
    "\n",
    "Here's the Snap! way: \n",
    "\n",
    "<img src=\"https://github.com/RubeRad/tcscs/blob/master/looping/looping10.png?raw=1\" width=400>\n",
    "\n",
    "'Creating custom blocks' in Python is called _Defining functions_. I'm going do this one for you, because it takes a bunch more explaining:"
   ]
  },
  {
   "cell_type": "code",
   "execution_count": 1,
   "id": "b8e86d49",
   "metadata": {
    "id": "b8e86d49"
   },
   "outputs": [],
   "source": [
    "# Report True if a divides evenly into b\n",
    "# i.e. if b divided by a leaves remainder 0\n",
    "def divides(a, b):\n",
    "    return (b%a == 0)"
   ]
  },
  {
   "cell_type": "markdown",
   "id": "f7ccaf6c",
   "metadata": {
    "id": "f7ccaf6c"
   },
   "source": [
    "OK this needs another breakdown\n",
    "* `#`: Just like in Snap!, ***ALL*** defined functions deserve a comment about what they are for and how they are to be used\n",
    "* `def`: This is the Python keyword that says \"New function is now being defined\"\n",
    "* `divides(...)`: This is the name of the new function. Unlike Snap! where the custom block can interleave 'Title Text' and 'Input Names' to look as much as possible like English, in Python, the name of the function must be first, with arguments in parentheses. Function names may be longer with `words_and_underscores` or `CamelCase`\n",
    "* `a,b`: These are the variables that get passed into the new function, that you're going to do something with.\n",
    "* `:` Just like at the end of a `for` line, a `def` line ***MUST*** end with a colon, and all the lines 'inside' the function must be indented.\n",
    "* `return`: same as Snap!'s `report`\n",
    "* `%`: Python's modulus operator\n",
    "* `==`: ***THIS IS VERY VERY VERY VERY IMPORTANT!!!***. \n",
    " * In Python, one = is *assignment*, a command. When you tell Python `x=stuff` you are telling Python to figure out the `stuff` (maybe it's just a number, maybe it's a calculation), and stuff it into the variable `x`.\n",
    " * However, two == is *a question*. Are these two things the same? If they are, the answer is `True` (spelled in Python with a capital T). If the two things are not the same, then the answer is `False`\n",
    " * In this example, Python will compute `b%a`, the remainder when dividing $b\\div a$.\n",
    "   * If the remainder is 0, then the question is \"is `0 == 0`?\" and the answer is `True`, a does divide b\n",
    "   * If the remainder is not 0 then the question is \"is `b%a == 0`?\" and the answer is `False`, a does not divide b\n",
    "* In Python, the boolean constants are always capitalized `True` and `False`\n",
    "   \n",
    "Try out different values in the cell below to verify that the `divides` function behaves as it should:"
   ]
  },
  {
   "cell_type": "code",
   "execution_count": null,
   "id": "1da03934",
   "metadata": {
    "id": "1da03934"
   },
   "outputs": [],
   "source": [
    "divides(2,7)"
   ]
  },
  {
   "cell_type": "markdown",
   "id": "ca948607",
   "metadata": {
    "id": "ca948607"
   },
   "source": [
    "Here is what if/else looks like in Python, using the `divides` function to provide `True` or `False` values:"
   ]
  },
  {
   "cell_type": "code",
   "execution_count": null,
   "id": "a863e58e",
   "metadata": {
    "id": "a863e58e"
   },
   "outputs": [],
   "source": [
    "if divides(2,7):      # Note the if line MUST end with a colon\n",
    "    print('yup')      # everything inside the 'if' block must be indented\n",
    "else:                 # If there is an else: it must align with the if and have its own colon\n",
    "    print('nope')     # and all lines of the else: block must be indented\n",
    "    \n",
    "# Run this cell, passing different values to divides(), so you can make it say 'yup' and make it say 'nope'"
   ]
  },
  {
   "cell_type": "markdown",
   "id": "f7c5e515",
   "metadata": {},
   "source": [
    "### Puzzle 10\n",
    "**Evens: 2,4,6,8,...20**\n",
    "\n",
    "Here's the Snap! way (filtering with our new function):\n",
    "\n",
    "<img src=\"https://github.com/RubeRad/tcscs/blob/master/looping/evens.png?raw=1\" width=200>\n",
    "\n",
    "Implement this in Python, using the `divides` function implemented above.\n",
    "\n",
    "*Hint:* Look carefully at the punctuation/indentation of the `if/else` in the cell above; this puzzle doesn't need an else, but since the `if` is indented inside the `for`, it needs *double indentation*\n",
    "\n"
   ]
  },
  {
   "cell_type": "code",
   "execution_count": null,
   "id": "55b137e6",
   "metadata": {},
   "outputs": [],
   "source": []
  },
  {
   "cell_type": "markdown",
   "id": "b7f1c38e",
   "metadata": {
    "id": "b7f1c38e"
   },
   "source": [
    "### Puzzle 11\n",
    "**Odds less than 20: 1,3,5,...19**\n",
    "\n",
    "Here's the Snap! way, just flipping the filter by wrapping the predicate in a `not`\n",
    "\n",
    "<img src=\"https://github.com/RubeRad/tcscs/blob/master/looping/odds.png?raw=1\" width=250>\n",
    "\n",
    "Do this puzzle in Python in the cell below:\n",
    "\n",
    "*Hint:* Python also has `not`"
   ]
  },
  {
   "cell_type": "code",
   "execution_count": null,
   "id": "35a35a24",
   "metadata": {
    "id": "35a35a24"
   },
   "outputs": [],
   "source": []
  },
  {
   "cell_type": "markdown",
   "id": "a3ec6597",
   "metadata": {},
   "source": [
    "### Puzzle 12\n",
    "**Multiples of 7: 7, 14, 21, ...49**\n",
    "\n",
    "You can do this!"
   ]
  },
  {
   "cell_type": "code",
   "execution_count": null,
   "id": "620e5521",
   "metadata": {},
   "outputs": [],
   "source": []
  },
  {
   "cell_type": "markdown",
   "id": "567103e0",
   "metadata": {
    "id": "567103e0"
   },
   "source": [
    "### Puzzle 13\n",
    "**Numbers which either 2 or 3 divide: 2,3,4,6,8,9,12,14,...40**\n",
    "\n",
    "Here's the Snap! way: \n",
    "\n",
    "<img src=\"https://github.com/RubeRad/tcscs/blob/master/looping/looping11.png?raw=1\" width=300>\n",
    "\n",
    "Do this puzzle in Python in the cell below:\n",
    "\n",
    "*Hint:* In Python you can just type `or`"
   ]
  },
  {
   "cell_type": "code",
   "execution_count": null,
   "id": "8eb5dd34",
   "metadata": {
    "id": "8eb5dd34"
   },
   "outputs": [],
   "source": []
  },
  {
   "cell_type": "markdown",
   "id": "0fba5ad1",
   "metadata": {},
   "source": [
    "## Two-dimensional puzzles (nested loops)"
   ]
  },
  {
   "cell_type": "markdown",
   "id": "8ac333e6",
   "metadata": {
    "id": "8ac333e6"
   },
   "source": [
    "### Puzzle 14\n",
    "**Multiplication table values: 1,2,3,...10, 2,4,6,...20, ... 10,20,30,...100**\n",
    "Here's the Snap! way: \n",
    "\n",
    "<img src=\"https://github.com/RubeRad/tcscs/blob/master/looping/looping13.png?raw=1\" width=200>\n",
    "\n",
    "Do the puzzle in Python in the cell below:\n",
    "\n",
    "*Hints:*\n",
    "* Both `for` lines need colons\n",
    "* You will need two levels of indentation\n",
    "* Be careful with `range()` to get 1..10, not 0..9\n",
    "* To keep things manageable, you can do tables up to 4x4 instead of 10x10"
   ]
  },
  {
   "cell_type": "code",
   "execution_count": null,
   "id": "46fdd076",
   "metadata": {
    "id": "46fdd076"
   },
   "outputs": [],
   "source": []
  },
  {
   "cell_type": "markdown",
   "id": "cef6dbf5",
   "metadata": {
    "id": "cef6dbf5"
   },
   "source": [
    "### Puzzle 15\n",
    "\n",
    "**Multiplication table sentences: \"Multiples of 1: 1x1 is 1, 1x2 is 2, ... 1x10 is 10, Multiples of 2: 2x2 is 4, ...\"**\n",
    "\n",
    "* 1x1 is 1\n",
    "* 1x2 is 2\n",
    "* ...\n",
    "* 2x1 is 2\n",
    "* 2x2 is 4\n",
    "* ...\n",
    "\n",
    "\n",
    "\n",
    "Do the puzzle in Python in the cell below:\n",
    "\n",
    "*Hints*:\n",
    "* You can get `print()` to say multiple things, just separate them with commas, like `print('x is', x, 'y is', y)`\n",
    "* Text to print must be enclosed in either `'` or `\"`. You should prefer `'`\n",
    "* You can go up to only 4 again, but the point is it's easy to adjust"
   ]
  },
  {
   "cell_type": "code",
   "execution_count": null,
   "id": "3d2eda64",
   "metadata": {},
   "outputs": [],
   "source": []
  },
  {
   "cell_type": "markdown",
   "id": "3e962aed",
   "metadata": {},
   "source": [
    "### Puzzle 16\n",
    "Re-type #15 above, but tweak it so it's not redundant (since it already said 1x2 in the 1x row, don't start the 2's row with 2x1, start with 2x2, etc)\n",
    "\n",
    "**Re-type, don't just copy & paste** I want you to develop muscle-memory in your fingers\n",
    "\n",
    "*Hint*: it's only different from #15 by 1 character"
   ]
  },
  {
   "cell_type": "code",
   "execution_count": null,
   "id": "f52ff563",
   "metadata": {
    "id": "f52ff563"
   },
   "outputs": [],
   "source": []
  },
  {
   "cell_type": "markdown",
   "id": "6cfc12f2",
   "metadata": {},
   "source": [
    "### Puzzle 17\n",
    "**Re-type non-redundant #16, and add introductory sentences**\n",
    "\n",
    "* These are the multiples of 1:\n",
    "* 1 times 1 is 1\n",
    "* 1 times 2 is 2\n",
    "* ...\n",
    "* These are the multiples of 2:\n",
    "* ...\n"
   ]
  },
  {
   "cell_type": "code",
   "execution_count": null,
   "id": "912aba3b",
   "metadata": {},
   "outputs": [],
   "source": []
  },
  {
   "cell_type": "markdown",
   "id": "f3a0c0c3",
   "metadata": {},
   "source": [
    "### Puzzle 16.5\n",
    "The **\"Why do we care about this sequence?\"** sequence: 1 2 3 4 5 6 7 8 9 1 2 3 4 5 6 7 8 1 2 3 4 5 6 7 1 2 3 4 5 6 1 2 3 4 5 1 2 3 4 1 2 3 1 2 1 \n",
    "\n",
    "Write Python in the cell beow to generate that sequence:"
   ]
  },
  {
   "cell_type": "code",
   "execution_count": null,
   "id": "649e08d2",
   "metadata": {},
   "outputs": [],
   "source": []
  },
  {
   "cell_type": "markdown",
   "id": "30c2300f",
   "metadata": {
    "id": "30c2300f"
   },
   "source": [
    "### CHALLENGE: \n",
    "**Primes less than 1000**\n",
    "\n",
    "Here's the Snap! way which is completely stupid: A custom block: \n",
    "\n",
    "<img src=\"https://github.com/RubeRad/tcscs/blob/master/looping/prime.png?raw=1\" width=\"500\">\n",
    "\n",
    "And a script which uses the custom block: \n",
    "\n",
    "<img src=\"https://github.com/RubeRad/tcscs/blob/master/looping/looping20.png?raw=1\" width=200>\n",
    "\n",
    "Do this puzzle in the next two code cells\n",
    "\n",
    "*Hint:* \n",
    "* In Python the boolean constants must be capitalized `True` and `False`\n",
    "* Recall, Python calls it `return( )`, not `report`"
   ]
  },
  {
   "cell_type": "code",
   "execution_count": null,
   "id": "fbb6b240",
   "metadata": {
    "id": "fbb6b240"
   },
   "outputs": [],
   "source": [
    "# In this cell, define the function prime(n)\n",
    "# And include the comments as in the Snap! example\n",
    "    "
   ]
  },
  {
   "cell_type": "code",
   "execution_count": null,
   "id": "a66cc2ea",
   "metadata": {
    "id": "a66cc2ea"
   },
   "outputs": [],
   "source": [
    "# In this cell, replicate the Snap! script which uses the prime block"
   ]
  }
 ],
 "metadata": {
  "colab": {
   "include_colab_link": true,
   "provenance": []
  },
  "kernelspec": {
   "display_name": "Python 3 (ipykernel)",
   "language": "python",
   "name": "python3"
  },
  "language_info": {
   "codemirror_mode": {
    "name": "ipython",
    "version": 3
   },
   "file_extension": ".py",
   "mimetype": "text/x-python",
   "name": "python",
   "nbconvert_exporter": "python",
   "pygments_lexer": "ipython3",
   "version": "3.10.12"
  }
 },
 "nbformat": 4,
 "nbformat_minor": 5
}
