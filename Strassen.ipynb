{
  "cells": [
    {
      "cell_type": "markdown",
      "metadata": {
        "id": "view-in-github",
        "colab_type": "text"
      },
      "source": [
        "<a href=\"https://colab.research.google.com/github/RubeRad/tcscs/blob/master/Strassen.ipynb\" target=\"_parent\"><img src=\"https://colab.research.google.com/assets/colab-badge.svg\" alt=\"Open In Colab\"/></a>"
      ]
    },
    {
      "cell_type": "markdown",
      "metadata": {
        "id": "Ah9h4efws0uL"
      },
      "source": [
        "# Strassen's Algorithm for Matrix Multiplication\n",
        "\n",
        "## Naive Matrix Multiplication\n",
        "\n",
        "First, recall that the algorithmic complexity to multiply two $n\\times n$ matrices $O(n^3)$ (using the straightforward algorithm).\n",
        "\n",
        "More specifically, each entry in the matrix product is the dot product of a $1\\times n$ row and a $n \\times 1$ column, which requires $n$ multiplications and $n-1$ additions, so $2n-1$ operations. There are $n^2$ entries in the product, so a precise total of $$n^2(2n-1) = 2n^3-n^2$$ operations. The highest-order term is all that matters, and the constant factor doesn't matter, so matrix multiplication is $O(n^3)$, and doubling the size of the matrices means they will take $8\\times$ longer to multiply.\n",
        "\n",
        "Note also, *addition* of two $n\\times n$ matrices requires exactly $n^2$ individual additions, so $O(n^2)$, which is *way* faster (compare for $n=4$: 16 operations to add vs 112 to multiply, and the gap only increases!)\n",
        "\n"
      ]
    },
    {
      "cell_type": "markdown",
      "metadata": {
        "id": "t7WPxUMau_-2"
      },
      "source": [
        "## Creating and multiplying matrices with numpy\n",
        "\n",
        "To investigate matrix multiplication, we turn to numpy, which is made basically for dealing with matrices:"
      ]
    },
    {
      "cell_type": "code",
      "execution_count": 1,
      "metadata": {
        "id": "iM4X5-lktZsg"
      },
      "outputs": [],
      "source": [
        "import numpy as np"
      ]
    },
    {
      "cell_type": "code",
      "execution_count": null,
      "metadata": {
        "id": "gIy_IL-Uwg5S"
      },
      "outputs": [],
      "source": [
        "# we've seen this before, it just creates a range of equally-spaced numbers\n",
        "np.arange(1,17)   # note the range is inclusive-->[1,17)<--exclusive. Python basically always does this"
      ]
    },
    {
      "cell_type": "code",
      "execution_count": null,
      "metadata": {
        "id": "pgTkeUm3wy8J"
      },
      "outputs": [],
      "source": [
        "# reshape turns that 1x16 'row-vector' into a 4x4 matrix\n",
        "np.arange(1,17).reshape(4,4)"
      ]
    },
    {
      "cell_type": "code",
      "execution_count": null,
      "metadata": {
        "id": "1EwAdmDexAAq"
      },
      "outputs": [],
      "source": [
        "# let's create two of these and hold onto them in variables named P1 and P2\n",
        "P1 = np.arange(1,17).reshape(4,4)\n",
        "P1"
      ]
    },
    {
      "cell_type": "code",
      "execution_count": null,
      "metadata": {
        "id": "mh7E6_TLxUav"
      },
      "outputs": [],
      "source": [
        "P2 = np.arange(17,33).reshape(4,4)\n",
        "P2"
      ]
    },
    {
      "cell_type": "code",
      "execution_count": null,
      "metadata": {
        "id": "nb_TjjIVxXHF"
      },
      "outputs": [],
      "source": [
        "# Unfortunately the * operator does element-wise multiplication, not regular matrix multiplication\n",
        "P1 * P2 # this is no good"
      ]
    },
    {
      "cell_type": "code",
      "execution_count": null,
      "metadata": {
        "id": "dtRslTJ4xh2z"
      },
      "outputs": [],
      "source": [
        "# numpy's special operator for matrix multiplication is @\n",
        "product = P1 @ P2\n",
        "product"
      ]
    },
    {
      "cell_type": "markdown",
      "metadata": {
        "id": "lFOIFPu5x8AK"
      },
      "source": [
        "## Matrix Multiplication as Blocks\n",
        "\n",
        "So almost the easiest example of matrix multiplication is $2\\times 2$. Whatever the entries in the matrices are, their product is:\n",
        "$$\\begin{bmatrix}A&&B\\\\C&&D\\end{bmatrix}\\begin{bmatrix}E&&F\\\\G&&H\\end{bmatrix} = \\begin{bmatrix}AE+BG&&AF+BH\\\\CE+DG&&CF+DH\\end{bmatrix}$$\n",
        "It turns out, that equation is also true for matrices larger than 2x2, if you let $A-H$ be not just individual numerical/scalar elements, but submatrices.\n",
        "\n",
        "This can be proved generally, but we can see that it is the case by blocking these $4\\times 4$ matrices into $2\\times 2$ submatrices."
      ]
    },
    {
      "cell_type": "code",
      "execution_count": null,
      "metadata": {
        "id": "G6y_6IO4xnT0"
      },
      "outputs": [],
      "source": [
        "# numpy has indexing that enables extraction of submatrices.\n",
        "# Note again, a range like i:e is [inclusive,exclusive)\n",
        "A = P1[0:2, 0:2]   # rows 0 and 1; and columns 0 and 1, of P1\n",
        "A"
      ]
    },
    {
      "cell_type": "code",
      "execution_count": null,
      "metadata": {
        "id": "2vYGF_wDzeV_"
      },
      "outputs": [],
      "source": [
        "B = P1[0:2, 2:4]  # rows 0 and 1; and columns 2 and 3, of P1\n",
        "B"
      ]
    },
    {
      "cell_type": "code",
      "execution_count": null,
      "metadata": {
        "id": "gu7W693tzvpe"
      },
      "outputs": [],
      "source": [
        "C = P1[2:4, 0:2] # rows 2 and 3; and columns 0 and 1, of P1\n",
        "C"
      ]
    },
    {
      "cell_type": "code",
      "execution_count": null,
      "metadata": {
        "id": "VxynUYHDz493"
      },
      "outputs": [],
      "source": [
        "D = P1[2:4, 2:4] # rows 2 and 3; and columns 2 and 3, of P1\n",
        "D"
      ]
    },
    {
      "cell_type": "code",
      "execution_count": null,
      "metadata": {
        "id": "vpNpMLICz89O"
      },
      "outputs": [],
      "source": [
        "# similarly block up P2 into e,f,g,h\n",
        "E = P2[0:2, 0:2]\n",
        "F = P2[0:2, 2:4]\n",
        "G = P2[2:4, 0:2]\n",
        "H = P2[2:4, 2:4]\n",
        "H"
      ]
    },
    {
      "cell_type": "markdown",
      "metadata": {
        "id": "alvCf4O_0SAY"
      },
      "source": [
        "Now we can assemble all four blocks of the product matrix. Recall\n",
        "$$\\begin{bmatrix}A&&B\\\\C&&D\\end{bmatrix}\\begin{bmatrix}E&&F\\\\G&&H\\end{bmatrix} = \\begin{bmatrix}AE+BG&&AF+BH\\\\CE+DG&&CF+DH\\end{bmatrix}$$"
      ]
    },
    {
      "cell_type": "code",
      "execution_count": null,
      "metadata": {
        "id": "IjfCO2Hg0Jt8"
      },
      "outputs": [],
      "source": [
        "UL = A@E + B@G # UL stands for Upper Left\n",
        "UL"
      ]
    },
    {
      "cell_type": "markdown",
      "metadata": {
        "id": "_R8O_0rU0hK2"
      },
      "source": [
        "You can already see that matches the upper-left block of `product` like it's supposed to. Let's do the other three."
      ]
    },
    {
      "cell_type": "code",
      "execution_count": null,
      "metadata": {
        "id": "XKOUS1WF0ck9"
      },
      "outputs": [],
      "source": [
        "UR = A@F + B@H\n",
        "UR"
      ]
    },
    {
      "cell_type": "code",
      "execution_count": null,
      "metadata": {
        "id": "LXl4Ls_B019G"
      },
      "outputs": [],
      "source": [
        "LL = C@E + D@G\n",
        "LL"
      ]
    },
    {
      "cell_type": "code",
      "execution_count": null,
      "metadata": {
        "id": "debbvCCA09BF"
      },
      "outputs": [],
      "source": [
        "LR = C@F + D@H\n",
        "LR"
      ]
    },
    {
      "cell_type": "markdown",
      "metadata": {
        "id": "33hPx0oK1DGd"
      },
      "source": [
        "We could just eyeball all of those and verify each block, but let's go ahead and assemble them into a full $4\\times 4$ matrix:"
      ]
    },
    {
      "cell_type": "code",
      "execution_count": null,
      "metadata": {
        "id": "Q9p09s0f1ALJ"
      },
      "outputs": [],
      "source": [
        "upper_left_right = np.hstack( (UL, UR) )  # hstack is 'horizontal stack', we smash two matrices together left and right\n",
        "upper_left_right"
      ]
    },
    {
      "cell_type": "code",
      "execution_count": null,
      "metadata": {
        "id": "K60HFc9q1lF5"
      },
      "outputs": [],
      "source": [
        "lower_left_right = np.hstack( (LL, LR) )\n",
        "lower_left_right"
      ]
    },
    {
      "cell_type": "code",
      "execution_count": null,
      "metadata": {
        "id": "3bJkoSVA1q6L"
      },
      "outputs": [],
      "source": [
        "block_product = np.vstack( (upper_left_right, lower_left_right) ) # vstack is 'vertical stack'\n",
        "block_product"
      ]
    },
    {
      "cell_type": "code",
      "execution_count": null,
      "metadata": {
        "id": "rHW00BQt16rG"
      },
      "outputs": [],
      "source": [
        "product # compare"
      ]
    },
    {
      "cell_type": "markdown",
      "metadata": {
        "id": "iX7PoNFv2VeF"
      },
      "source": [
        "### Good news\n",
        "We've designed a divide & conquer algorithm!\n",
        "\n",
        "### Bad news\n",
        "Turns out it's exactly the same multiplications/additions as the regular way, just reshuffled, so no savings.\n",
        "\n",
        "### Hand-wavy analysis\n",
        "Look at the cells up there for computing `UL,UR,LL,LR`: that involves **8 multiplications of half-size matrices** (plus four additions of half-size matrices). So $2n\\times 2n$ matrix multiplication is the same difficulty as 8  $n\\times n$ multiplications. $2\\times$ the input $\\rightarrow 8\\times$ the output -- that's precisely what $O(n^3)$ means!\n",
        "\n"
      ]
    },
    {
      "cell_type": "markdown",
      "metadata": {
        "id": "OVUxKZR32wGc"
      },
      "source": [
        "## The Strassen Algorithm\n",
        "Instead of intermediate products `UL,UR,LL,LR`, which slide right into place in the output, instead, if you're working on this matrix product:\n",
        "$$\\begin{bmatrix}A&&B\\\\C&&D\\end{bmatrix}\\begin{bmatrix}E&&F\\\\G&&H\\end{bmatrix} = \\begin{bmatrix}AE+BG&&AF+BH\\\\CE+DG&&CF+DH\\end{bmatrix}$$\n",
        "compute these matrices:\n",
        "\n",
        "* $M1 = (A+D)(E+H)$\n",
        "* $M2 = (C+D)E$\n",
        "* $M3 = A(F-H)$\n",
        "* $M4 = D(G-E)$\n",
        "* $M5 = (A+B)H$\n",
        "* $M6 = (C-A)(E+F)$\n",
        "* $M7 = (B-D)(G+H)$\n",
        "\n",
        "THEN, using those, compute these 4:\n",
        "\n",
        "1. $M1 + M4 - M5 + M7$\n",
        "1. $M3 + M5$\n",
        "1. $M2 + M4$\n",
        "1. $M1 - M2 + M3 + M6$\n",
        "\n",
        "## **Exercises**\n",
        "\n",
        "1. Each student take one of 1-4, and on scratch paper, substitute the formulas for $Mi$ above, and simplify.\n",
        "\n",
        "1. If $A-H$ are all $n\\times n$, what is the total number of\n",
        "  1. $n\\times n$ matrix multiplications required to compute 1-4\n",
        "  1. $n\\times n$ matrix additions/subtractions required to compute 1-4?\n"
      ]
    },
    {
      "cell_type": "markdown",
      "metadata": {
        "id": "1tdjVNsx8rdH"
      },
      "source": [
        "## Strassen Example with numpy\n",
        "\n",
        "We can use numpy to do all that for our $4\\times 4$ example"
      ]
    },
    {
      "cell_type": "code",
      "execution_count": null,
      "metadata": {
        "id": "J4pKlzYn8x_N"
      },
      "outputs": [],
      "source": [
        "M1 = (A+D) @ (E+H)\n",
        "M2 = (C+D) @ E\n",
        "M3 = A @ (F-H)\n",
        "M4 = D @ (G-E)\n",
        "M5 = (A+B) @ H\n",
        "M6 = (C-A) @ (E+F)\n",
        "M7 = (B-D) @ (G+H)"
      ]
    },
    {
      "cell_type": "code",
      "execution_count": null,
      "metadata": {
        "id": "sQ_gNfVd9Rrq"
      },
      "outputs": [],
      "source": [
        "M1 + M4 - M5 + M7"
      ]
    },
    {
      "cell_type": "code",
      "execution_count": null,
      "metadata": {
        "id": "IufqqKgJ9szl"
      },
      "outputs": [],
      "source": [
        "M3 + M5"
      ]
    },
    {
      "cell_type": "code",
      "execution_count": null,
      "metadata": {
        "id": "byY6-Opg9vYd"
      },
      "outputs": [],
      "source": [
        "M2 + M4"
      ]
    },
    {
      "cell_type": "code",
      "execution_count": null,
      "metadata": {
        "id": "cqHmlcd79yFl"
      },
      "outputs": [],
      "source": [
        "M1 - M2 + M3 + M6"
      ]
    },
    {
      "cell_type": "code",
      "execution_count": null,
      "metadata": {
        "id": "71oKxenI91FL"
      },
      "outputs": [],
      "source": [
        "strassen_product = np.vstack( (np.hstack(( M1 + M4 - M5 + M7,   M3 + M5           )),\n",
        "                               np.hstack(( M2 + M4,             M1 - M2 + M3 + M6 ))))\n",
        "strassen_product"
      ]
    },
    {
      "cell_type": "code",
      "execution_count": null,
      "metadata": {
        "id": "kzuHG-xZ-IR3"
      },
      "outputs": [],
      "source": [
        "product - strassen_product"
      ]
    },
    {
      "cell_type": "markdown",
      "metadata": {
        "id": "vqXhKbwc7s0G"
      },
      "source": [
        "## Exercise Answers\n",
        "\n",
        "\n",
        "\n"
      ]
    },
    {
      "cell_type": "markdown",
      "metadata": {
        "id": "1HA-ikh08j3D"
      },
      "source": [
        "1. 1-4 simplify to the same thing as UL, UR, LR, LL\n",
        "1.\n",
        "  1. 7 multiplications of $n\\times n$ matrices\n",
        "  1. 18 additions/subtractions of $n\\times n$ matrices"
      ]
    },
    {
      "cell_type": "markdown",
      "metadata": {
        "id": "QkC7Q0Oy_AWT"
      },
      "source": [
        "## Strassen Analysis\n",
        "\n",
        "We've got three options for multiplication here\n",
        "1. Naive: $n\\times $n takes exactly $2n^3 - n^2$ operations.\n",
        "2. Block: $2n\\times 2n$ requires **8** $n\\times n$ multiplications and **4** $n\\times n$ additions.\n",
        "  * Turns out this also works out to $2n^3 - n^2$ operations.\n",
        "3. Strassen: $2n\\times 2n$ requires **7** $n\\times n$ multiplications and **18** $n\\times n$ additions.\n",
        "\n",
        "\n",
        "The key insight here is that, **because matrix multiplication is so much slower than addition, it's worth it to do 14 extra additions to save one multiplication.**\n",
        "\n",
        "Here's how it maths out. Let $s(n)$ be the number of operations required for Strassen multiplication of an $n\\times n$ matrix. Then\n",
        "$$s(n) = 7s(n/2) + 18(n/2)^2$$\n",
        "With a little hand-waving, it turns out we can ignore the $18(n/2)^2$ because the additions are negligible compared to the multiplications. With that simplification,\n",
        "$$ s(n) \\approx 7s(n/2) \\approx 7(7s(n/4)) \\approx \\ldots$$\n",
        "After $log_2 n$ expansions, the $n$ is halved all the way down to 1, leaving the product of $log_2$ sevens, aka\n",
        "$$s(n) \\approx 7^{log_2 n}$$\n",
        "Use of the properties of logarithms means we can restate that equivalently as\n",
        "$$s(n) \\approx n^{log_2 7} \\approx n^{2.8}$$\n"
      ]
    },
    {
      "cell_type": "markdown",
      "metadata": {
        "id": "MdxFgeSNTIT8"
      },
      "source": [
        "## Exercise: Strassen vs Naive/Block\n",
        "\n",
        "So the fact that Strassen is $O(n^{2.8})$ means that it beats the normal $O(n^3)$ matrix multiplication *in the long run, when $n$ is large enough*. We want to find that break-even point -- when is $n$ large enough that Strassen's algorithm would be faster? Smaller than that we should just use regular multiplication.\n",
        "\n",
        "Here is the beginning of a table. The exercise is to take this to a spreadsheet and continue it to find the break-even point.\n",
        "\n",
        "|&nbsp; &nbsp; &nbsp; &nbsp; $n$   |  &nbsp; &nbsp; &nbsp; &nbsp; Naive: $2n^3-n^2$  | &nbsp; &nbsp; &nbsp; &nbsp; &nbsp; &nbsp; &nbsp; &nbsp; &nbsp; &nbsp; Strassen=$7s(n/2)+18(n/2)^2$  |\n",
        "|-----:|-----------------------:|-------------------------:|\n",
        "1 |    1 |  1 |\n",
        "2 |   12 | $7(1)+18(1)^2$ = 25 |\n",
        "4 |  112 | $7(25)+18(2)^2$ = 247 |\n"
      ]
    },
    {
      "cell_type": "code",
      "execution_count": null,
      "metadata": {
        "id": "GrvoDBeKLaC_"
      },
      "outputs": [],
      "source": []
    }
  ],
  "metadata": {
    "colab": {
      "name": "Strassen.ipynb",
      "provenance": [],
      "include_colab_link": true
    },
    "kernelspec": {
      "display_name": "Python 3",
      "language": "python",
      "name": "python3"
    },
    "language_info": {
      "codemirror_mode": {
        "name": "ipython",
        "version": 3
      },
      "file_extension": ".py",
      "mimetype": "text/x-python",
      "name": "python",
      "nbconvert_exporter": "python",
      "pygments_lexer": "ipython3",
      "version": "3.8.5"
    }
  },
  "nbformat": 4,
  "nbformat_minor": 0
}